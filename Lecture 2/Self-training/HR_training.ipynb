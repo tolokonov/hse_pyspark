{
  "nbformat": 4,
  "nbformat_minor": 0,
  "metadata": {
    "colab": {
      "provenance": []
    },
    "kernelspec": {
      "name": "python3",
      "display_name": "Python 3"
    },
    "language_info": {
      "name": "python"
    }
  },
  "cells": [
    {
      "cell_type": "markdown",
      "source": [
        "Описание полей датасета hr_data.csv\n",
        "\n",
        "1) Age – возраст сотрудников.\n",
        "\n",
        "2) MonthlyIncome – ежемесячный доход сотрудников.\n",
        "\n",
        "3) Department – отдел, в котором работает сотрудник.\n",
        "\n",
        "4) Gender – пол сотрудника.\n",
        "\n",
        "5) Education – уровень образования сотрудника.\n",
        "\n",
        "6) Attrition (Текучесть кадров) – текучесть кадров, показывает, покинул ли сотрудник компанию (Yes – уволился, No – остался).\n",
        "\n",
        "\n",
        "\n",
        "Задачи\n",
        "\n",
        "1) Найти минимальный, максимальный и средний возраст сотрудников.\n",
        "\n",
        "2) Подсчитать количество сотрудников в каждом отделе.\n",
        "\n",
        "3) Рассчитать средний доход сотрудников в зависимости от уровня образования.\n",
        "\n",
        "4) Рассчитать средний возраст сотрудников, которые уволились (Attrition = Yes) и которые остались (Attrition = No).\n",
        "\n",
        "5) Вычислить средний доход по полу и сравнить разницу.\n",
        "\n",
        "6) Найти отдел с наибольшим процентом уволенных сотрудников."
      ],
      "metadata": {
        "id": "1p5MOVWTJfOt"
      }
    },
    {
      "cell_type": "code",
      "execution_count": 42,
      "metadata": {
        "colab": {
          "base_uri": "https://localhost:8080/"
        },
        "id": "E-7o6XYxJaYh",
        "outputId": "fa57e1b9-9379-4a8d-d565-38c24dd9875a"
      },
      "outputs": [
        {
          "output_type": "stream",
          "name": "stdout",
          "text": [
            "Requirement already satisfied: pyspark in /usr/local/lib/python3.12/dist-packages (3.5.1)\n",
            "Requirement already satisfied: py4j==0.10.9.7 in /usr/local/lib/python3.12/dist-packages (from pyspark) (0.10.9.7)\n"
          ]
        }
      ],
      "source": [
        "!pip3 install pyspark"
      ]
    },
    {
      "cell_type": "code",
      "source": [
        "# Вариант 2. Создаем дефолтную spark-сессию\n",
        "from pyspark import SparkContext\n",
        "from pyspark.sql import SparkSession\n",
        "\n",
        "spark = SparkSession.builder.appName(\"RDD_HR\").getOrCreate()"
      ],
      "metadata": {
        "id": "ZyLiDvs9JeK1"
      },
      "execution_count": 43,
      "outputs": []
    },
    {
      "cell_type": "code",
      "source": [
        "hr_source = spark.sparkContext.textFile(\"/content/hr_data.csv\")"
      ],
      "metadata": {
        "id": "jTSE76AOJeNe"
      },
      "execution_count": 66,
      "outputs": []
    },
    {
      "cell_type": "code",
      "source": [
        "hr_source.take(5)"
      ],
      "metadata": {
        "colab": {
          "base_uri": "https://localhost:8080/"
        },
        "id": "BU3iC4k2JeQT",
        "outputId": "7deccb69-567f-4409-bde5-39ae669003f2"
      },
      "execution_count": 67,
      "outputs": [
        {
          "output_type": "execute_result",
          "data": {
            "text/plain": [
              "['Age,MonthlyIncome,Department,Gender,Education,Attrition',\n",
              " '41,5993,Sales,Female,2,Yes',\n",
              " '49,5130,Research & Development,Male,1,No',\n",
              " '37,2090,Research & Development,Male,2,Yes',\n",
              " '33,2909,Research & Development,Female,4,No']"
            ]
          },
          "metadata": {},
          "execution_count": 67
        }
      ]
    },
    {
      "cell_type": "code",
      "source": [
        "# удаляем первую строчку\n",
        "header = hr_source.first()\n",
        "hr_source = hr_source.filter(lambda line: line != header)"
      ],
      "metadata": {
        "id": "PEDi04IKJeTL"
      },
      "execution_count": 68,
      "outputs": []
    },
    {
      "cell_type": "code",
      "source": [
        "hr_source.take(5)"
      ],
      "metadata": {
        "id": "QwAWkATgJeWA",
        "colab": {
          "base_uri": "https://localhost:8080/"
        },
        "outputId": "c8a9f631-f9f7-42a9-9376-54ba19b0562c"
      },
      "execution_count": 69,
      "outputs": [
        {
          "output_type": "execute_result",
          "data": {
            "text/plain": [
              "['41,5993,Sales,Female,2,Yes',\n",
              " '49,5130,Research & Development,Male,1,No',\n",
              " '37,2090,Research & Development,Male,2,Yes',\n",
              " '33,2909,Research & Development,Female,4,No',\n",
              " '27,3468,Research & Development,Male,1,No']"
            ]
          },
          "metadata": {},
          "execution_count": 69
        }
      ]
    },
    {
      "cell_type": "code",
      "source": [
        "# распаршиваем данные по столбцам\n",
        "hr_source = hr_source.map(lambda line: line.split(\",\"))"
      ],
      "metadata": {
        "id": "6sz02mHeJeYw"
      },
      "execution_count": 70,
      "outputs": []
    },
    {
      "cell_type": "code",
      "source": [
        "hr_source.take(5)"
      ],
      "metadata": {
        "id": "2vTK5GBrJebm",
        "colab": {
          "base_uri": "https://localhost:8080/"
        },
        "outputId": "5f4c1207-4a41-4077-bdca-7436fd0e78b3"
      },
      "execution_count": 71,
      "outputs": [
        {
          "output_type": "execute_result",
          "data": {
            "text/plain": [
              "[['41', '5993', 'Sales', 'Female', '2', 'Yes'],\n",
              " ['49', '5130', 'Research & Development', 'Male', '1', 'No'],\n",
              " ['37', '2090', 'Research & Development', 'Male', '2', 'Yes'],\n",
              " ['33', '2909', 'Research & Development', 'Female', '4', 'No'],\n",
              " ['27', '3468', 'Research & Development', 'Male', '1', 'No']]"
            ]
          },
          "metadata": {},
          "execution_count": 71
        }
      ]
    },
    {
      "cell_type": "code",
      "source": [
        "# преобразование типов данных\n",
        "\n",
        "# Внимание, если вы делаете через dict преобразование значений, знайте, что в течение всей сессии пока данные не материализованы, они смотрят на этот словарь!\n",
        "# Если вы его где-нибудь после кучи трансформаций переопределите, то все перестанет работать\n",
        "map_dic = {\n",
        "    'Female': 0,\n",
        "    'Male': 1,\n",
        "    'Yes': 1,\n",
        "    'No': 0\n",
        "}\n",
        "\n",
        "hr = hr_source.map(lambda x: [float(x[0]), float(x[1]), x[2], map_dic[x[3]], int(x[4]), map_dic[x[5]]])"
      ],
      "metadata": {
        "id": "k8vH2zySFPfl"
      },
      "execution_count": 72,
      "outputs": []
    },
    {
      "cell_type": "code",
      "source": [
        "hr.take(5)"
      ],
      "metadata": {
        "colab": {
          "base_uri": "https://localhost:8080/"
        },
        "id": "JQqmfrBCPhLI",
        "outputId": "ecb0fd36-4e52-4c33-825c-ed6fe53789f5"
      },
      "execution_count": 73,
      "outputs": [
        {
          "output_type": "execute_result",
          "data": {
            "text/plain": [
              "[[41.0, 5993.0, 'Sales', 0, 2, 1],\n",
              " [49.0, 5130.0, 'Research & Development', 1, 1, 0],\n",
              " [37.0, 2090.0, 'Research & Development', 1, 2, 1],\n",
              " [33.0, 2909.0, 'Research & Development', 0, 4, 0],\n",
              " [27.0, 3468.0, 'Research & Development', 1, 1, 0]]"
            ]
          },
          "metadata": {},
          "execution_count": 73
        }
      ]
    },
    {
      "cell_type": "markdown",
      "source": [
        "Задание 1. Найти минимальный, максимальный и средний возраст сотрудников."
      ],
      "metadata": {
        "id": "Cs3PASnFE2Lv"
      }
    },
    {
      "cell_type": "code",
      "source": [
        "# Age - 1-ый столбец\n",
        "hr.map(lambda x: x[0]).max(), hr.map(lambda x: x[0]).min(), hr.map(lambda x: x[0]).mean()"
      ],
      "metadata": {
        "id": "rTshxsTtJeeI",
        "colab": {
          "base_uri": "https://localhost:8080/"
        },
        "outputId": "7ed0b57e-8d9d-4457-e771-1b235007359f"
      },
      "execution_count": 74,
      "outputs": [
        {
          "output_type": "execute_result",
          "data": {
            "text/plain": [
              "(60.0, 18.0, 36.923809523809545)"
            ]
          },
          "metadata": {},
          "execution_count": 74
        }
      ]
    },
    {
      "cell_type": "markdown",
      "source": [
        "Задание 2. Подсчитать количество сотрудников в каждом отделе."
      ],
      "metadata": {
        "id": "KkBuN7W4P6A2"
      }
    },
    {
      "cell_type": "code",
      "source": [
        "# Department - 3-ий столбец + нужен 1 любой столбец для расчетов\n",
        "hr.map(lambda x: (x[2], x[0])).groupByKey().mapValues(lambda x: len(x)).take(5)"
      ],
      "metadata": {
        "id": "WX0htZmLJegv",
        "colab": {
          "base_uri": "https://localhost:8080/"
        },
        "outputId": "51942939-acaf-438e-db32-e93064babe44"
      },
      "execution_count": 75,
      "outputs": [
        {
          "output_type": "execute_result",
          "data": {
            "text/plain": [
              "[('Sales', 446), ('Human Resources', 63), ('Research & Development', 961)]"
            ]
          },
          "metadata": {},
          "execution_count": 75
        }
      ]
    },
    {
      "cell_type": "markdown",
      "source": [
        "Задание 3. Рассчитать средний доход сотрудников в зависимости от уровня образования."
      ],
      "metadata": {
        "id": "bNcCRa8ERIGP"
      }
    },
    {
      "cell_type": "code",
      "source": [
        "# MonthlyIncome - 2-ой столбец + Education - 5-ый столбец\n",
        "hr.map(lambda x: (x[4], x[1])).groupByKey().mapValues(lambda x: sum(x) / len(x)).take(5)"
      ],
      "metadata": {
        "id": "boOFXgtJJekL",
        "colab": {
          "base_uri": "https://localhost:8080/"
        },
        "outputId": "bf3ac2f7-bc9d-432d-8eb7-415d08434a19"
      },
      "execution_count": 76,
      "outputs": [
        {
          "output_type": "execute_result",
          "data": {
            "text/plain": [
              "[(2, 6226.645390070922),\n",
              " (4, 6832.402010050251),\n",
              " (1, 5640.570588235294),\n",
              " (3, 6517.263986013986),\n",
              " (5, 8277.645833333334)]"
            ]
          },
          "metadata": {},
          "execution_count": 76
        }
      ]
    },
    {
      "cell_type": "markdown",
      "source": [
        "Задание 4. Рассчитать средний возраст сотрудников, которые уволились (Attrition = Yes) и которые остались (Attrition = No)."
      ],
      "metadata": {
        "id": "El54H9h7R5V0"
      }
    },
    {
      "cell_type": "code",
      "source": [
        "# Attrition 6-ой столбец + Age 1-ый столбец\n",
        "return_map_dic = {\n",
        "    0: \"No\",\n",
        "    1: \"Yes\"\n",
        "}\n",
        "\n",
        "hr.map(lambda x: (x[5], x[0])).groupByKey().mapValues(lambda x: sum(x) / len(x)).map(lambda x: (return_map_dic[x[0]], x[1])).take(5)"
      ],
      "metadata": {
        "colab": {
          "base_uri": "https://localhost:8080/"
        },
        "id": "HhQ3fum2R4vP",
        "outputId": "9b513c42-9d0e-4dbd-8ca6-33a22a21c084"
      },
      "execution_count": 80,
      "outputs": [
        {
          "output_type": "execute_result",
          "data": {
            "text/plain": [
              "[('No', 37.561232765612324), ('Yes', 33.607594936708864)]"
            ]
          },
          "metadata": {},
          "execution_count": 80
        }
      ]
    },
    {
      "cell_type": "markdown",
      "source": [
        "5. Вычислить средний доход по полу и сравнить разницу."
      ],
      "metadata": {
        "id": "sge9bbdDhUPV"
      }
    },
    {
      "cell_type": "code",
      "source": [
        "# Gender - 4-ый столбец + MonthlyIncome - 2-ой столбец\n",
        "hr.map(lambda x: (x[3], x[1])).groupByKey().mapValues(lambda x: sum(x) / len(x)).map(lambda x: (1, x[1]))\\\n",
        ".groupByKey().mapValues(lambda x: list(x)[0] - list(x)[1]).map(lambda x: x[1]).collect()[0]"
      ],
      "metadata": {
        "colab": {
          "base_uri": "https://localhost:8080/"
        },
        "id": "W6xs-KMMhT7B",
        "outputId": "48d344a9-8e36-4aae-a3f2-5eaf8a44ddb1"
      },
      "execution_count": 90,
      "outputs": [
        {
          "output_type": "execute_result",
          "data": {
            "text/plain": [
              "306.05839002267567"
            ]
          },
          "metadata": {},
          "execution_count": 90
        }
      ]
    },
    {
      "cell_type": "markdown",
      "source": [
        "Задание 6. Найти отдел с наибольшим процентом уволенных сотрудников."
      ],
      "metadata": {
        "id": "zk4Va_ASlueu"
      }
    },
    {
      "cell_type": "code",
      "source": [
        "# Attrition 6-ой столбец + Department - 3-ий столбец\n",
        "\n",
        "hr.map(lambda x: (x[2], x[5])).groupByKey().mapValues(lambda x: sum(x) / len(x)).map(lambda x: (x[0], round(x[1] * 100))).top(1, key=lambda x: x[1])"
      ],
      "metadata": {
        "colab": {
          "base_uri": "https://localhost:8080/"
        },
        "id": "kSObJUv8R4Yj",
        "outputId": "4f9eafd4-c693-4e49-ea5d-1f2d0cfbc1e1"
      },
      "execution_count": 98,
      "outputs": [
        {
          "output_type": "execute_result",
          "data": {
            "text/plain": [
              "[('Sales', 21)]"
            ]
          },
          "metadata": {},
          "execution_count": 98
        }
      ]
    }
  ]
}
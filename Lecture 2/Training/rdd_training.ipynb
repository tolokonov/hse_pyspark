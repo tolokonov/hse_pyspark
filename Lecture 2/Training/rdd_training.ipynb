{
  "nbformat": 4,
  "nbformat_minor": 0,
  "metadata": {
    "colab": {
      "provenance": []
    },
    "kernelspec": {
      "name": "python3",
      "display_name": "Python 3"
    },
    "language_info": {
      "name": "python"
    }
  },
  "cells": [
    {
      "cell_type": "code",
      "source": [
        "!ls -la"
      ],
      "metadata": {
        "colab": {
          "base_uri": "https://localhost:8080/"
        },
        "id": "GueTY-kf5GPY",
        "outputId": "7e7f27bb-5b97-4f8a-ac0f-27c60bdab594"
      },
      "execution_count": null,
      "outputs": [
        {
          "output_type": "stream",
          "name": "stdout",
          "text": [
            "total 24\n",
            "drwxr-xr-x 1 root root 4096 Oct  4 06:02 .\n",
            "drwxr-xr-x 1 root root 4096 Oct  4 05:57 ..\n",
            "drwxr-xr-x 4 root root 4096 Oct  2 13:36 .config\n",
            "-rw-r--r-- 1 root root 6757 Oct  4 06:02 google_queries.csv\n",
            "drwxr-xr-x 1 root root 4096 Oct  2 13:36 sample_data\n"
          ]
        }
      ]
    },
    {
      "cell_type": "code",
      "source": [
        "!cat .config"
      ],
      "metadata": {
        "colab": {
          "base_uri": "https://localhost:8080/"
        },
        "id": "Mu91lUjf5VAZ",
        "outputId": "717548f6-2619-4eaa-a8fb-d039f8f896f9"
      },
      "execution_count": null,
      "outputs": [
        {
          "output_type": "stream",
          "name": "stdout",
          "text": [
            "cat: .config: Is a directory\n"
          ]
        }
      ]
    },
    {
      "cell_type": "code",
      "source": [
        "!head google_queries.csv"
      ],
      "metadata": {
        "colab": {
          "base_uri": "https://localhost:8080/"
        },
        "id": "6uGtmD5w5COA",
        "outputId": "43868a66-27b3-4a40-e599-a9a705deebfa"
      },
      "execution_count": null,
      "outputs": [
        {
          "output_type": "stream",
          "name": "stdout",
          "text": [
            "request,number_of_views,date\r\n",
            "карта,3,2025-02-11\r\n",
            "погода,5,2025-02-13\r\n",
            "котики,5,2025-02-11\r\n",
            "игры,2,2025-02-14\r\n",
            "погода,1,2025-02-17\r\n",
            "ютуб,1,2025-02-13\r\n",
            "погода,1,2025-02-18\r\n",
            "вк,1,2025-02-15\r\n",
            "авито,5,2025-02-11\r\n"
          ]
        }
      ]
    },
    {
      "cell_type": "markdown",
      "source": [
        "# Spark RDD\n",
        "В **Apache Spark** существует интерфейс - RDD API. В нём производится работа с RDD напрямую."
      ],
      "metadata": {
        "id": "Fj6htWL-UJip"
      }
    },
    {
      "cell_type": "markdown",
      "source": [
        "<b>RDD </b>(resilent distrubuted dataset) - это фундаментальная структура данных Spark, которая представляет собой неизменяемый набор данных, который вычисляются и располагается на разных узлах кластера."
      ],
      "metadata": {
        "id": "_SLt2QtaUcE7"
      }
    },
    {
      "cell_type": "markdown",
      "source": [
        "* [Guide](https://spark.apache.org/docs/latest/rdd-programming-guide.html)\n",
        "* [Документация](https://spark.apache.org/docs/latest/api/python/reference/api/pyspark.RDD.html)"
      ],
      "metadata": {
        "id": "YtlOMhXCUv67"
      }
    },
    {
      "cell_type": "code",
      "execution_count": null,
      "metadata": {
        "colab": {
          "base_uri": "https://localhost:8080/"
        },
        "id": "mgqAPHSuJ1Eg",
        "outputId": "611cbf99-fb86-4591-c02b-5da525f2be42"
      },
      "outputs": [
        {
          "output_type": "stream",
          "name": "stdout",
          "text": [
            "Requirement already satisfied: pyspark in /usr/local/lib/python3.12/dist-packages (3.5.1)\n",
            "Requirement already satisfied: py4j==0.10.9.7 in /usr/local/lib/python3.12/dist-packages (from pyspark) (0.10.9.7)\n"
          ]
        }
      ],
      "source": [
        "!pip3 install pyspark"
      ]
    },
    {
      "cell_type": "code",
      "source": [
        "# # Вариант 1. Создаем spark-сессию, явно указывая ее параметры\n",
        "# from pyspark.sql import SparkSession\n",
        "\n",
        "# from pyspark import SparkConf, SparkContext\n",
        "\n",
        "# \"\"\"\n",
        "# conf = (\n",
        "#     SparkConf()\n",
        "#         .set('spark.ui.port', '4050')\n",
        "#         .setMaster('local[*]')\n",
        "# )\n",
        "# sc = SparkContext(conf=conf)\n",
        "# spark = SparkSession(sc)\n",
        "# \"\"\""
      ],
      "metadata": {
        "id": "O0QnpaPvU5Zg"
      },
      "execution_count": null,
      "outputs": []
    },
    {
      "cell_type": "code",
      "source": [
        "# Вариант 2. Создаем дефолтную spark-сессию\n",
        "from pyspark import SparkContext\n",
        "from pyspark.sql import SparkSession\n",
        "\n",
        "spark = SparkSession.builder.appName(\"RDD_Example\").getOrCreate()"
      ],
      "metadata": {
        "id": "V5WREx3mYWti"
      },
      "execution_count": 8,
      "outputs": []
    },
    {
      "cell_type": "markdown",
      "source": [
        "Для того, чтобы создать RDD необходимо к некоторой коллекции объектов применимеить операциюю parallelize. В результате работы spark разобъёт данные на куски (партиции) и отправит её части на разные worker ноды."
      ],
      "metadata": {
        "id": "QLSVxG1IVHlK"
      }
    },
    {
      "cell_type": "code",
      "source": [
        "# Создаем RDD из списка\n",
        "data = [(\"Иван\", 30), (\"Мария\", 25), (\"Алексей\", 35), (\"Елена\", 40)]\n",
        "rdd = spark.sparkContext.parallelize(data)"
      ],
      "metadata": {
        "id": "4I_IGi0WUI3B"
      },
      "execution_count": 9,
      "outputs": []
    },
    {
      "cell_type": "code",
      "source": [
        "rdd"
      ],
      "metadata": {
        "colab": {
          "base_uri": "https://localhost:8080/"
        },
        "id": "5PZ5ceJS75_1",
        "outputId": "75d5c3dc-160f-420e-b5bd-2f778719dd09"
      },
      "execution_count": 10,
      "outputs": [
        {
          "output_type": "execute_result",
          "data": {
            "text/plain": [
              "ParallelCollectionRDD[1] at readRDDFromFile at PythonRDD.scala:289"
            ]
          },
          "metadata": {},
          "execution_count": 10
        }
      ]
    },
    {
      "cell_type": "code",
      "source": [
        "# Выведем данные RDD\n",
        "print(rdd.collect())  # [('Иван', 30), ('Мария', 25), ('Алексей', 35), ('Елена', 40)]"
      ],
      "metadata": {
        "colab": {
          "base_uri": "https://localhost:8080/"
        },
        "id": "1t2buiqf73vS",
        "outputId": "dab783a3-1ce8-423d-f1e1-72c6dae58b1f"
      },
      "execution_count": 11,
      "outputs": [
        {
          "output_type": "stream",
          "name": "stdout",
          "text": [
            "[('Иван', 30), ('Мария', 25), ('Алексей', 35), ('Елена', 40)]\n"
          ]
        }
      ]
    },
    {
      "cell_type": "markdown",
      "source": [
        "Посмотрим на количество партиций."
      ],
      "metadata": {
        "id": "OZJnf0roVKHw"
      }
    },
    {
      "cell_type": "code",
      "source": [
        "rdd.getNumPartitions()"
      ],
      "metadata": {
        "colab": {
          "base_uri": "https://localhost:8080/"
        },
        "id": "ciRYjqFKUI5V",
        "outputId": "585ed0d4-2176-48ed-eb8c-11896f6c9182"
      },
      "execution_count": 12,
      "outputs": [
        {
          "output_type": "execute_result",
          "data": {
            "text/plain": [
              "2"
            ]
          },
          "metadata": {},
          "execution_count": 12
        }
      ]
    },
    {
      "cell_type": "markdown",
      "source": [
        "Spark выбирает количество партиций для каждого RDD в зависимости от конфигруции кластера - по количеству доступных вычислительных ресурсов CPU. Но можно менять количество партиций, как в большую так и в меньшую сторону. Для того чтобы поменять количество партиций в существует два метода:\n",
        "\n",
        "*   repartition - позволяет как увеличивать, так и уменьшать количество партиций, но производит полную перетасовку (shuffle) данных между узлами\n",
        "*   coelesce - метод, с помощью которого можно только уменьшать размер партций. Не требует полной перетасовки данных между исполнителями, поэтому более эффективен.\n",
        "\n"
      ],
      "metadata": {
        "id": "TTuwZDB5VMmO"
      }
    },
    {
      "cell_type": "code",
      "source": [
        "repartitioned = rdd.repartition(5)\n",
        "print(f\"Num partitions after repartition: {repartitioned.getNumPartitions()}\")\n",
        "\n",
        "coelesced = repartitioned.coalesce(2)\n",
        "print(f\"Num partitions after coelesce: {coelesced.getNumPartitions()}\")"
      ],
      "metadata": {
        "colab": {
          "base_uri": "https://localhost:8080/"
        },
        "id": "V87Q2k2QUI7p",
        "outputId": "783a9c60-90e6-4d9e-9f10-80fc3ac26306"
      },
      "execution_count": 13,
      "outputs": [
        {
          "output_type": "stream",
          "name": "stdout",
          "text": [
            "Num partitions after repartition: 5\n",
            "Num partitions after coelesce: 2\n"
          ]
        }
      ]
    },
    {
      "cell_type": "markdown",
      "source": [
        "Обратной операцией к операции parallelize является метод collect, который наоборот создаёт коллекцию из данных, хранящихся на различных worker нодах."
      ],
      "metadata": {
        "id": "rvncFLueVY5u"
      }
    },
    {
      "cell_type": "code",
      "source": [
        "rdd.collect()"
      ],
      "metadata": {
        "colab": {
          "base_uri": "https://localhost:8080/"
        },
        "id": "JUsqonsPMcAp",
        "outputId": "0b37770e-f3ca-4474-dfda-32f2184a4fb6"
      },
      "execution_count": 14,
      "outputs": [
        {
          "output_type": "execute_result",
          "data": {
            "text/plain": [
              "[('Иван', 30), ('Мария', 25), ('Алексей', 35), ('Елена', 40)]"
            ]
          },
          "metadata": {},
          "execution_count": 14
        }
      ]
    },
    {
      "cell_type": "code",
      "source": [
        "# К элементам RDD можно применять различные операции\n",
        "# Допустим, мы хотим увеличить возраст каждого человека на 1 год\n",
        "rdd_transformed = rdd.map(lambda x: (x[0], x[1] + 1))\n",
        "print(rdd_transformed.collect())"
      ],
      "metadata": {
        "colab": {
          "base_uri": "https://localhost:8080/"
        },
        "id": "FYvRsCSkMcC3",
        "outputId": "3db92c92-f8ca-4040-b156-0e2644b1b17f"
      },
      "execution_count": 15,
      "outputs": [
        {
          "output_type": "stream",
          "name": "stdout",
          "text": [
            "[('Иван', 31), ('Мария', 26), ('Алексей', 36), ('Елена', 41)]\n"
          ]
        }
      ]
    },
    {
      "cell_type": "code",
      "source": [
        "# Оставим только людей старше 30 лет\n",
        "rdd_filtered = rdd.filter(lambda x: x[1] > 30)\n",
        "print(rdd_filtered.collect())"
      ],
      "metadata": {
        "colab": {
          "base_uri": "https://localhost:8080/"
        },
        "id": "FF-h5fBrW7UR",
        "outputId": "b845ac01-7156-4cb7-ca7e-b6bcc4b56a65"
      },
      "execution_count": 16,
      "outputs": [
        {
          "output_type": "stream",
          "name": "stdout",
          "text": [
            "[('Алексей', 35), ('Елена', 40)]\n"
          ]
        }
      ]
    },
    {
      "cell_type": "code",
      "source": [
        "# Отсортируем людей во возрасту\n",
        "rdd.sortByKey(keyfunc=lambda x: x[-1]).collect()"
      ],
      "metadata": {
        "colab": {
          "base_uri": "https://localhost:8080/"
        },
        "id": "xED7qGKfZEgK",
        "outputId": "125fe5f4-3ea7-4ef1-ae30-76025738e974"
      },
      "execution_count": 22,
      "outputs": [
        {
          "output_type": "execute_result",
          "data": {
            "text/plain": [
              "[('Елена', 40), ('Алексей', 35), ('Иван', 30), ('Мария', 25)]"
            ]
          },
          "metadata": {},
          "execution_count": 22
        }
      ]
    },
    {
      "cell_type": "code",
      "source": [
        "# Отсортируем людей по именам\n",
        "rdd.sortByKey().collect()"
      ],
      "metadata": {
        "colab": {
          "base_uri": "https://localhost:8080/"
        },
        "id": "Jj-qUbegXA4z",
        "outputId": "32983f12-534b-40a4-b4ed-2e744ccb4719"
      },
      "execution_count": 23,
      "outputs": [
        {
          "output_type": "execute_result",
          "data": {
            "text/plain": [
              "[('Алексей', 35), ('Елена', 40), ('Иван', 30), ('Мария', 25)]"
            ]
          },
          "metadata": {},
          "execution_count": 23
        }
      ]
    },
    {
      "cell_type": "code",
      "source": [],
      "metadata": {
        "id": "MPjkPxF_aHqW"
      },
      "execution_count": null,
      "outputs": []
    },
    {
      "cell_type": "code",
      "source": [
        "# Допустим, у нас есть повторяющиеся имена, и мы хотим найти их средний возраст\n",
        "\n",
        "data_with_duplicates = [(\"Иван\", 30), (\"Мария\", 25), (\"Иван\", 40), (\"Мария\", 35)]\n",
        "rdd_with_dup = spark.sparkContext.parallelize(data_with_duplicates)"
      ],
      "metadata": {
        "id": "9XxCc1SQbUl3"
      },
      "execution_count": 24,
      "outputs": []
    },
    {
      "cell_type": "code",
      "source": [
        "rdd_with_dup.collect()"
      ],
      "metadata": {
        "colab": {
          "base_uri": "https://localhost:8080/"
        },
        "id": "LfAczcz_bVQg",
        "outputId": "6b0630b4-2f09-44ef-8c3f-4711d73124c9"
      },
      "execution_count": 25,
      "outputs": [
        {
          "output_type": "execute_result",
          "data": {
            "text/plain": [
              "[('Иван', 30), ('Мария', 25), ('Иван', 40), ('Мария', 35)]"
            ]
          },
          "metadata": {},
          "execution_count": 25
        }
      ]
    },
    {
      "cell_type": "code",
      "source": [
        "rdd_grouped = rdd_with_dup.groupByKey()"
      ],
      "metadata": {
        "id": "nUM9wRM1b-TC"
      },
      "execution_count": 26,
      "outputs": []
    },
    {
      "cell_type": "code",
      "source": [
        "rdd_grouped.collect()"
      ],
      "metadata": {
        "colab": {
          "base_uri": "https://localhost:8080/"
        },
        "id": "6g9A0YaubY_u",
        "outputId": "253773cc-8c76-4f85-d4da-b59ecec554e2"
      },
      "execution_count": 27,
      "outputs": [
        {
          "output_type": "execute_result",
          "data": {
            "text/plain": [
              "[('Иван', <pyspark.resultiterable.ResultIterable at 0x7f4ddbf12a50>),\n",
              " ('Мария', <pyspark.resultiterable.ResultIterable at 0x7f4ddbf08710>)]"
            ]
          },
          "metadata": {},
          "execution_count": 27
        }
      ]
    },
    {
      "cell_type": "code",
      "source": [
        "[(key, list(values)) for key, values in rdd_grouped.collect()]"
      ],
      "metadata": {
        "colab": {
          "base_uri": "https://localhost:8080/"
        },
        "id": "T4x2pCT7b7V6",
        "outputId": "ddbd0272-8005-4ee2-9d90-5c78421fdf27"
      },
      "execution_count": 28,
      "outputs": [
        {
          "output_type": "execute_result",
          "data": {
            "text/plain": [
              "[('Иван', [30, 40]), ('Мария', [25, 35])]"
            ]
          },
          "metadata": {},
          "execution_count": 28
        }
      ]
    },
    {
      "cell_type": "code",
      "source": [
        "# Хотим найти сумму возраста повторяющихся имен\n",
        "rdd_with_dup.groupByKey().mapValues(sum).collect()"
      ],
      "metadata": {
        "colab": {
          "base_uri": "https://localhost:8080/"
        },
        "collapsed": true,
        "id": "vJTt3hphbfdl",
        "outputId": "232519dd-d819-421d-dbbe-401163261615"
      },
      "execution_count": 29,
      "outputs": [
        {
          "output_type": "execute_result",
          "data": {
            "text/plain": [
              "[('Иван', 70), ('Мария', 60)]"
            ]
          },
          "metadata": {},
          "execution_count": 29
        }
      ]
    },
    {
      "cell_type": "code",
      "source": [
        "# Хотим найти количество повторяющихся имен\n",
        "rdd_with_dup.groupByKey().mapValues(lambda x: len(list(x))).collect()"
      ],
      "metadata": {
        "colab": {
          "base_uri": "https://localhost:8080/"
        },
        "id": "9-FuDSmGcVT3",
        "outputId": "104ba55c-fc66-43ae-8d66-f427718699a4"
      },
      "execution_count": 30,
      "outputs": [
        {
          "output_type": "execute_result",
          "data": {
            "text/plain": [
              "[('Иван', 2), ('Мария', 2)]"
            ]
          },
          "metadata": {},
          "execution_count": 30
        }
      ]
    },
    {
      "cell_type": "code",
      "source": [
        "# Хотим найти средний возраст повторяющихся имен\n",
        "rdd_with_dup.groupByKey().mapValues(lambda x: round(sum(list(x)) / len(list(x))) + 1).collect()"
      ],
      "metadata": {
        "colab": {
          "base_uri": "https://localhost:8080/"
        },
        "collapsed": true,
        "id": "8o2U8PjTc4A-",
        "outputId": "93331332-e766-4feb-a468-362700c462ab"
      },
      "execution_count": 31,
      "outputs": [
        {
          "output_type": "execute_result",
          "data": {
            "text/plain": [
              "[('Иван', 36), ('Мария', 31)]"
            ]
          },
          "metadata": {},
          "execution_count": 31
        }
      ]
    },
    {
      "cell_type": "code",
      "source": [],
      "metadata": {
        "id": "3W0_m0kjXac8"
      },
      "execution_count": null,
      "outputs": []
    },
    {
      "cell_type": "markdown",
      "source": [
        "RDD API поддердивает прямую загрузку из текстового файла. При этом каждая строка будет интерпретироваться, как отдельный элемент RDD"
      ],
      "metadata": {
        "id": "hG-ts0VnVm-A"
      }
    },
    {
      "cell_type": "code",
      "source": [
        "! echo \"Hello, sample RDD\" > text.txt\n",
        "! echo \"This RDD contains three lines\" >> text.txt\n",
        "! echo \"This is the last line\" >> text.txt\n",
        "! echo \"\" >> text.txt\n",
        "! echo \"Just kidding, it contains five lines\" >> text.txt"
      ],
      "metadata": {
        "id": "FynlZXvwVsft"
      },
      "execution_count": 32,
      "outputs": []
    },
    {
      "cell_type": "code",
      "source": [
        "!cat text.txt"
      ],
      "metadata": {
        "colab": {
          "base_uri": "https://localhost:8080/"
        },
        "id": "EtX2judR_G3Y",
        "outputId": "d01c7534-a9b4-475c-81f6-7126dbc8b19a"
      },
      "execution_count": 33,
      "outputs": [
        {
          "output_type": "stream",
          "name": "stdout",
          "text": [
            "Hello, sample RDD\n",
            "This RDD contains three lines\n",
            "This is the last line\n",
            "\n",
            "Just kidding, it contains five lines\n"
          ]
        }
      ]
    },
    {
      "cell_type": "code",
      "source": [
        "text_data = spark.sparkContext.textFile('text.txt')\n",
        "text_data, text_data.collect()"
      ],
      "metadata": {
        "colab": {
          "base_uri": "https://localhost:8080/"
        },
        "id": "01REIBq1McJN",
        "outputId": "928fde5c-8cfa-49af-8c34-8ed11504d103"
      },
      "execution_count": 34,
      "outputs": [
        {
          "output_type": "execute_result",
          "data": {
            "text/plain": [
              "(text.txt MapPartitionsRDD[71] at textFile at NativeMethodAccessorImpl.java:0,\n",
              " ['Hello, sample RDD',\n",
              "  'This RDD contains three lines',\n",
              "  'This is the last line',\n",
              "  '',\n",
              "  'Just kidding, it contains five lines'])"
            ]
          },
          "metadata": {},
          "execution_count": 34
        }
      ]
    },
    {
      "cell_type": "code",
      "source": [
        "text_data.collect()"
      ],
      "metadata": {
        "colab": {
          "base_uri": "https://localhost:8080/"
        },
        "id": "YQlLQOB6_yji",
        "outputId": "6244991c-8e02-49fa-ba8c-2f1ca8890bdf"
      },
      "execution_count": 35,
      "outputs": [
        {
          "output_type": "execute_result",
          "data": {
            "text/plain": [
              "['Hello, sample RDD',\n",
              " 'This RDD contains three lines',\n",
              " 'This is the last line',\n",
              " '',\n",
              " 'Just kidding, it contains five lines']"
            ]
          },
          "metadata": {},
          "execution_count": 35
        }
      ]
    },
    {
      "cell_type": "markdown",
      "source": [
        "Теперь к данному RDD можно применять стандартные Spark операции"
      ],
      "metadata": {
        "id": "xDpBC-EMVyBv"
      }
    },
    {
      "cell_type": "code",
      "source": [
        "distinct_words = (\n",
        "    text_data\n",
        "        .filter(lambda x: len(x)) # отбираем только не пустые строки\n",
        "        .flatMap(lambda x: x.split(' ')) # разбиваем все строки на слова и переводим список\n",
        "        .distinct() # берём только уникальные слова\n",
        ")"
      ],
      "metadata": {
        "id": "mrl84dGCAGhM"
      },
      "execution_count": 36,
      "outputs": []
    },
    {
      "cell_type": "code",
      "source": [
        "distinct_words"
      ],
      "metadata": {
        "colab": {
          "base_uri": "https://localhost:8080/"
        },
        "id": "IZjE4JQpAIps",
        "outputId": "1bc8a770-6fd0-4738-90a5-f4cd6e1b747c"
      },
      "execution_count": 37,
      "outputs": [
        {
          "output_type": "execute_result",
          "data": {
            "text/plain": [
              "PythonRDD[76] at RDD at PythonRDD.scala:53"
            ]
          },
          "metadata": {},
          "execution_count": 37
        }
      ]
    },
    {
      "cell_type": "code",
      "source": [
        "# Будьте внимательны, если такой файл существует,\n",
        "# то spark будет выдавать ошибку\n",
        "distinct_words.saveAsTextFile('words.txt')"
      ],
      "metadata": {
        "id": "EP6vQcgTAa7p"
      },
      "execution_count": 38,
      "outputs": []
    },
    {
      "cell_type": "code",
      "source": [
        "# можно вывести отладочную информацию по данному RDD\n",
        "print(distinct_words.toDebugString().decode())"
      ],
      "metadata": {
        "colab": {
          "base_uri": "https://localhost:8080/"
        },
        "id": "fmYuwnO4Aud-",
        "outputId": "7f8c8071-7632-4d33-ee20-2f73962f9561"
      },
      "execution_count": 39,
      "outputs": [
        {
          "output_type": "stream",
          "name": "stdout",
          "text": [
            "(2) PythonRDD[76] at RDD at PythonRDD.scala:53 []\n",
            " |  MapPartitionsRDD[75] at mapPartitions at PythonRDD.scala:160 []\n",
            " |  ShuffledRDD[74] at partitionBy at NativeMethodAccessorImpl.java:0 []\n",
            " +-(2) PairwiseRDD[73] at distinct at /tmp/ipython-input-2575426858.py:5 []\n",
            "    |  PythonRDD[72] at distinct at /tmp/ipython-input-2575426858.py:5 []\n",
            "    |  text.txt MapPartitionsRDD[71] at textFile at NativeMethodAccessorImpl.java:0 []\n",
            "    |  text.txt HadoopRDD[70] at textFile at NativeMethodAccessorImpl.java:0 []\n"
          ]
        }
      ]
    },
    {
      "cell_type": "markdown",
      "source": [
        "Снизу вверх показаны все низкоуровневые операции (lineage), которые были применены к данному RDD c самого начала его создания"
      ],
      "metadata": {
        "id": "gjAdSOHbV5bG"
      }
    },
    {
      "cell_type": "markdown",
      "source": [],
      "metadata": {
        "id": "4dIOUvAcV5yt"
      }
    },
    {
      "cell_type": "markdown",
      "source": [
        "Для того, чтобы переиспользовать посчитанные значения в рамках текущей сессии стоит использовать метод `.cache`, который сохраняет результат вычислений вершины графа вычислений в оперативной памяти. Это нужно для того, чтобы оперции, работающие поверх данной получали результат операций из оперативной памяти, а не считывались с диска.\n",
        "\n",
        "Метод `.persist` позволяет сохранять промежуточные вычисления в рамках текущей сессии с более тонкой настройкой места хранения (жёсткий диск, оперативная память, ...)"
      ],
      "metadata": {
        "id": "5fiQ37ApV_X2"
      }
    },
    {
      "cell_type": "code",
      "source": [
        "distinct_words_cached = distinct_words.cache()\n",
        "print(distinct_words_cached.toDebugString().decode())"
      ],
      "metadata": {
        "colab": {
          "base_uri": "https://localhost:8080/"
        },
        "id": "gGZjYtP_Vzll",
        "outputId": "dabc260e-30d8-47cc-8fe6-657d950e431a"
      },
      "execution_count": 40,
      "outputs": [
        {
          "output_type": "stream",
          "name": "stdout",
          "text": [
            "(2) PythonRDD[76] at RDD at PythonRDD.scala:53 [Memory Serialized 1x Replicated]\n",
            " |  MapPartitionsRDD[75] at mapPartitions at PythonRDD.scala:160 [Memory Serialized 1x Replicated]\n",
            " |  ShuffledRDD[74] at partitionBy at NativeMethodAccessorImpl.java:0 [Memory Serialized 1x Replicated]\n",
            " +-(2) PairwiseRDD[73] at distinct at /tmp/ipython-input-2575426858.py:5 [Memory Serialized 1x Replicated]\n",
            "    |  PythonRDD[72] at distinct at /tmp/ipython-input-2575426858.py:5 [Memory Serialized 1x Replicated]\n",
            "    |  text.txt MapPartitionsRDD[71] at textFile at NativeMethodAccessorImpl.java:0 [Memory Serialized 1x Replicated]\n",
            "    |  text.txt HadoopRDD[70] at textFile at NativeMethodAccessorImpl.java:0 [Memory Serialized 1x Replicated]\n"
          ]
        }
      ]
    },
    {
      "cell_type": "markdown",
      "source": [
        "Как можно заметить после операции cache появились дополнительные вершины в графе вычислений, в которых указаны место расположения данных и количество их реплик: Memory Serialized 1x Replicated"
      ],
      "metadata": {
        "id": "l8mNtaiWWFDM"
      }
    },
    {
      "cell_type": "code",
      "source": [
        "distinct_words_cached.collect()\n",
        "print(distinct_words_cached.toDebugString().decode())"
      ],
      "metadata": {
        "colab": {
          "base_uri": "https://localhost:8080/"
        },
        "id": "eUH5-unJV0LO",
        "outputId": "8e0c5259-789c-4101-95f1-c9d0fa35e9e1"
      },
      "execution_count": 41,
      "outputs": [
        {
          "output_type": "stream",
          "name": "stdout",
          "text": [
            "(2) PythonRDD[76] at RDD at PythonRDD.scala:53 [Memory Serialized 1x Replicated]\n",
            " |       CachedPartitions: 2; MemorySize: 296.0 B; DiskSize: 0.0 B\n",
            " |  MapPartitionsRDD[75] at mapPartitions at PythonRDD.scala:160 [Memory Serialized 1x Replicated]\n",
            " |  ShuffledRDD[74] at partitionBy at NativeMethodAccessorImpl.java:0 [Memory Serialized 1x Replicated]\n",
            " +-(2) PairwiseRDD[73] at distinct at /tmp/ipython-input-2575426858.py:5 [Memory Serialized 1x Replicated]\n",
            "    |  PythonRDD[72] at distinct at /tmp/ipython-input-2575426858.py:5 [Memory Serialized 1x Replicated]\n",
            "    |  text.txt MapPartitionsRDD[71] at textFile at NativeMethodAccessorImpl.java:0 [Memory Serialized 1x Replicated]\n",
            "    |  text.txt HadoopRDD[70] at textFile at NativeMethodAccessorImpl.java:0 [Memory Serialized 1x Replicated]\n"
          ]
        }
      ]
    },
    {
      "cell_type": "markdown",
      "source": [
        "Для сохранения данных между сессиями можно использовать `.checkpoint`. Особенность этого метода — изменение графа вычислений.\n",
        "Цепочка вычислений для сохраняемого RDD будет удалена.\n",
        "\n",
        "Сокращение цепочки вычислений полезно в случае больших графов, например, в итеративных алгоритмах."
      ],
      "metadata": {
        "id": "eJByVn4oWMGh"
      }
    },
    {
      "cell_type": "code",
      "source": [
        "distinct_first_words = (\n",
        "    text_data\n",
        "        .filter(lambda x: len(x))\n",
        "        .flatMap(lambda x: x.split(' ')[0])\n",
        "        .distinct()\n",
        ")\n",
        "\n",
        "spark.sparkContext.setCheckpointDir('./checkpoints')\n",
        "\n",
        "distinct_first_words.checkpoint()\n",
        "print(distinct_first_words.toDebugString().decode())"
      ],
      "metadata": {
        "colab": {
          "base_uri": "https://localhost:8080/"
        },
        "id": "_J1jC39eV0JF",
        "outputId": "48f7b79c-df54-4178-b59c-b17defd1f59a"
      },
      "execution_count": 42,
      "outputs": [
        {
          "output_type": "stream",
          "name": "stdout",
          "text": [
            "(2) PythonRDD[84] at RDD at PythonRDD.scala:53 []\n",
            " |  MapPartitionsRDD[83] at mapPartitions at PythonRDD.scala:160 []\n",
            " |  ShuffledRDD[82] at partitionBy at NativeMethodAccessorImpl.java:0 []\n",
            " +-(2) PairwiseRDD[81] at distinct at /tmp/ipython-input-437894287.py:5 []\n",
            "    |  PythonRDD[80] at distinct at /tmp/ipython-input-437894287.py:5 []\n",
            "    |  text.txt MapPartitionsRDD[71] at textFile at NativeMethodAccessorImpl.java:0 []\n",
            "    |  text.txt HadoopRDD[70] at textFile at NativeMethodAccessorImpl.java:0 []\n"
          ]
        }
      ]
    },
    {
      "cell_type": "code",
      "source": [
        "!ls -la /content/checkpoints/d496c341-3c60-4251-86bf-ff0d914ba229"
      ],
      "metadata": {
        "colab": {
          "base_uri": "https://localhost:8080/"
        },
        "id": "qQNbL-IJBrFB",
        "outputId": "95223e2e-e416-49dd-b7fe-36fcf58daaaf"
      },
      "execution_count": 44,
      "outputs": [
        {
          "output_type": "stream",
          "name": "stdout",
          "text": [
            "total 8\n",
            "drwxr-xr-x 2 root root 4096 Oct  4 06:21 .\n",
            "drwxr-xr-x 3 root root 4096 Oct  4 06:21 ..\n"
          ]
        }
      ]
    },
    {
      "cell_type": "code",
      "source": [
        "distinct_first_words.collect()\n",
        "print(distinct_first_words.toDebugString().decode())"
      ],
      "metadata": {
        "colab": {
          "base_uri": "https://localhost:8080/"
        },
        "id": "ixzLxOdDV0G6",
        "outputId": "4ae738fc-e95a-498b-8464-6bea885756c6"
      },
      "execution_count": 45,
      "outputs": [
        {
          "output_type": "stream",
          "name": "stdout",
          "text": [
            "(2) PythonRDD[84] at RDD at PythonRDD.scala:53 []\n",
            " |  ReliableCheckpointRDD[85] at collect at /tmp/ipython-input-656455338.py:1 []\n"
          ]
        }
      ]
    },
    {
      "cell_type": "markdown",
      "source": [
        "Как можно увидеть предыдущий граф вычилений был полность удалён, и теперь вычисления начинаются с загрузки контрольной точки: ReliableCheckpointRDD"
      ],
      "metadata": {
        "id": "WBusyCo9WS3P"
      }
    },
    {
      "cell_type": "code",
      "source": [],
      "metadata": {
        "id": "7YNihzVEV0Ey"
      },
      "execution_count": null,
      "outputs": []
    },
    {
      "cell_type": "code",
      "source": [],
      "metadata": {
        "id": "KA3b7DoRd2r0"
      },
      "execution_count": null,
      "outputs": []
    },
    {
      "cell_type": "markdown",
      "source": [
        "# Практика"
      ],
      "metadata": {
        "id": "5s7QVPxAemJD"
      }
    },
    {
      "cell_type": "markdown",
      "source": [
        "Есть файл google_queries.csv, в нем указаны запросы пользователей в Google, количесво данных запросов в день, день запроса"
      ],
      "metadata": {
        "id": "SubGXT4zeo4j"
      }
    },
    {
      "cell_type": "code",
      "source": [
        "!head google_queries.csv"
      ],
      "metadata": {
        "colab": {
          "base_uri": "https://localhost:8080/"
        },
        "id": "tt7YY0f7d2pg",
        "outputId": "e9ffd77a-e7f0-4850-f45e-2a1d7cd28027"
      },
      "execution_count": 46,
      "outputs": [
        {
          "output_type": "stream",
          "name": "stdout",
          "text": [
            "request,number_of_views,date\r\n",
            "карта,3,2025-02-11\r\n",
            "погода,5,2025-02-13\r\n",
            "котики,5,2025-02-11\r\n",
            "игры,2,2025-02-14\r\n",
            "погода,1,2025-02-17\r\n",
            "ютуб,1,2025-02-13\r\n",
            "погода,1,2025-02-18\r\n",
            "вк,1,2025-02-15\r\n",
            "авито,5,2025-02-11\r\n"
          ]
        }
      ]
    },
    {
      "cell_type": "code",
      "source": [
        "from pyspark.sql import SparkSession\n",
        "\n",
        "# Создаем SparkSession\n",
        "spark = SparkSession.builder.appName(\"GoogleQueriesAnalysis\").getOrCreate()\n",
        "sc = spark.sparkContext  # Получаем SparkContext\n",
        "\n",
        "# Загружаем файл в RDD\n",
        "rdd = sc.textFile(\"google_queries.csv\")"
      ],
      "metadata": {
        "id": "IYDoyGyHe03S"
      },
      "execution_count": 47,
      "outputs": []
    },
    {
      "cell_type": "code",
      "source": [
        "rdd.take(5)"
      ],
      "metadata": {
        "colab": {
          "base_uri": "https://localhost:8080/"
        },
        "id": "bOkjEwZ_fAJg",
        "outputId": "92ca046c-15cc-4855-bc4c-b1525ac0f051"
      },
      "execution_count": 48,
      "outputs": [
        {
          "output_type": "execute_result",
          "data": {
            "text/plain": [
              "['request,number_of_views,date',\n",
              " 'карта,3,2025-02-11',\n",
              " 'погода,5,2025-02-13',\n",
              " 'котики,5,2025-02-11',\n",
              " 'игры,2,2025-02-14']"
            ]
          },
          "metadata": {},
          "execution_count": 48
        }
      ]
    },
    {
      "cell_type": "code",
      "source": [
        "rdd.first()"
      ],
      "metadata": {
        "colab": {
          "base_uri": "https://localhost:8080/",
          "height": 35
        },
        "id": "XnTLnoKoHi4R",
        "outputId": "2259ee3a-5dad-42a3-de36-850d8499c41b"
      },
      "execution_count": 49,
      "outputs": [
        {
          "output_type": "execute_result",
          "data": {
            "text/plain": [
              "'request,number_of_views,date'"
            ],
            "application/vnd.google.colaboratory.intrinsic+json": {
              "type": "string"
            }
          },
          "metadata": {},
          "execution_count": 49
        }
      ]
    },
    {
      "cell_type": "code",
      "source": [
        "# Пропускаем заголовок\n",
        "header = rdd.first()\n",
        "rdd = rdd.filter(lambda line: line != header)"
      ],
      "metadata": {
        "id": "Rz9AB3J7e6vi"
      },
      "execution_count": 50,
      "outputs": []
    },
    {
      "cell_type": "code",
      "source": [
        "rdd.take(5)"
      ],
      "metadata": {
        "colab": {
          "base_uri": "https://localhost:8080/"
        },
        "id": "M8j0NUKkfFIA",
        "outputId": "b6fb2a3d-de1e-4c6d-9678-66847ced0775"
      },
      "execution_count": 51,
      "outputs": [
        {
          "output_type": "execute_result",
          "data": {
            "text/plain": [
              "['карта,3,2025-02-11',\n",
              " 'погода,5,2025-02-13',\n",
              " 'котики,5,2025-02-11',\n",
              " 'игры,2,2025-02-14',\n",
              " 'погода,1,2025-02-17']"
            ]
          },
          "metadata": {},
          "execution_count": 51
        }
      ]
    },
    {
      "cell_type": "code",
      "source": [
        "rdd.map(lambda line: line.split(\",\")).take(5)"
      ],
      "metadata": {
        "colab": {
          "base_uri": "https://localhost:8080/"
        },
        "id": "i8yaCxkrIA5I",
        "outputId": "7c4caea5-2bd1-4dbf-ce46-1b245c65810e"
      },
      "execution_count": 52,
      "outputs": [
        {
          "output_type": "execute_result",
          "data": {
            "text/plain": [
              "[['карта', '3', '2025-02-11'],\n",
              " ['погода', '5', '2025-02-13'],\n",
              " ['котики', '5', '2025-02-11'],\n",
              " ['игры', '2', '2025-02-14'],\n",
              " ['погода', '1', '2025-02-17']]"
            ]
          },
          "metadata": {},
          "execution_count": 52
        }
      ]
    },
    {
      "cell_type": "code",
      "source": [
        "# Парсим данные (request, number_of_views, date)\n",
        "rdd_parsed = rdd.map(lambda line: line.split(\",\")).map(lambda x: (x[0], int(x[1]), x[2]))"
      ],
      "metadata": {
        "id": "Qs80FIdde8hK"
      },
      "execution_count": 53,
      "outputs": []
    },
    {
      "cell_type": "code",
      "source": [
        "rdd_parsed.take(5)"
      ],
      "metadata": {
        "colab": {
          "base_uri": "https://localhost:8080/"
        },
        "id": "j7eG2_vjfJDn",
        "outputId": "9f7f06f9-8892-4a4e-dfaa-5d531b4d0330"
      },
      "execution_count": 54,
      "outputs": [
        {
          "output_type": "execute_result",
          "data": {
            "text/plain": [
              "[('карта', 3, '2025-02-11'),\n",
              " ('погода', 5, '2025-02-13'),\n",
              " ('котики', 5, '2025-02-11'),\n",
              " ('игры', 2, '2025-02-14'),\n",
              " ('погода', 1, '2025-02-17')]"
            ]
          },
          "metadata": {},
          "execution_count": 54
        }
      ]
    },
    {
      "cell_type": "code",
      "source": [],
      "metadata": {
        "id": "qop48eFEf86W"
      },
      "execution_count": null,
      "outputs": []
    },
    {
      "cell_type": "code",
      "source": [
        "# 1. Общее количество запросов\n",
        "total_queries = rdd_parsed.count()\n",
        "print(f\"1. Общее количество запросов: {total_queries}\")"
      ],
      "metadata": {
        "colab": {
          "base_uri": "https://localhost:8080/"
        },
        "id": "wb1h5OArfO9i",
        "outputId": "aad0abbe-3ce3-4d66-bb5d-3bbf429fe5f9"
      },
      "execution_count": 55,
      "outputs": [
        {
          "output_type": "stream",
          "name": "stdout",
          "text": [
            "1. Общее количество запросов: 255\n"
          ]
        }
      ]
    },
    {
      "cell_type": "code",
      "source": [],
      "metadata": {
        "id": "MfuWNyRQf9XI"
      },
      "execution_count": null,
      "outputs": []
    },
    {
      "cell_type": "code",
      "source": [
        "# 2. Общее количество просмотров\n",
        "total_views = rdd_parsed.map(lambda x: x[1]).sum()\n",
        "print(f\"2. Общее количество просмотров: {total_views}\")"
      ],
      "metadata": {
        "colab": {
          "base_uri": "https://localhost:8080/"
        },
        "id": "FU5dBKY7fUip",
        "outputId": "59da2673-ba4d-4748-9987-ef091f5f1931"
      },
      "execution_count": 56,
      "outputs": [
        {
          "output_type": "stream",
          "name": "stdout",
          "text": [
            "2. Общее количество просмотров: 743\n"
          ]
        }
      ]
    },
    {
      "cell_type": "code",
      "source": [],
      "metadata": {
        "id": "C4Bem1Dof973"
      },
      "execution_count": null,
      "outputs": []
    },
    {
      "cell_type": "code",
      "source": [
        "rdd_parsed.take(5)"
      ],
      "metadata": {
        "colab": {
          "base_uri": "https://localhost:8080/"
        },
        "id": "kn9rb6m6I-pz",
        "outputId": "d077bb4a-ff42-4bf9-8f14-067e4442b886"
      },
      "execution_count": 57,
      "outputs": [
        {
          "output_type": "execute_result",
          "data": {
            "text/plain": [
              "[('карта', 3, '2025-02-11'),\n",
              " ('погода', 5, '2025-02-13'),\n",
              " ('котики', 5, '2025-02-11'),\n",
              " ('игры', 2, '2025-02-14'),\n",
              " ('погода', 1, '2025-02-17')]"
            ]
          },
          "metadata": {},
          "execution_count": 57
        }
      ]
    },
    {
      "cell_type": "code",
      "source": [
        "# 3. Среднее количество просмотров на запрос\n",
        "avg_views_per_query = total_views / total_queries if total_queries > 0 else 0\n",
        "print(f\"3. Среднее количество просмотров на запрос: {avg_views_per_query:.2f}\")"
      ],
      "metadata": {
        "colab": {
          "base_uri": "https://localhost:8080/"
        },
        "id": "srjLfdRffaaA",
        "outputId": "cc1610f2-d52a-41ac-f938-9132fe173be8"
      },
      "execution_count": 58,
      "outputs": [
        {
          "output_type": "stream",
          "name": "stdout",
          "text": [
            "3. Среднее количество просмотров на запрос: 2.91\n"
          ]
        }
      ]
    },
    {
      "cell_type": "code",
      "source": [],
      "metadata": {
        "id": "6LIkBwJnf-j4"
      },
      "execution_count": null,
      "outputs": []
    },
    {
      "cell_type": "code",
      "source": [
        "# 4. Запрос с максимальным числом просмотров\n",
        "max_request = rdd_parsed.max(key=lambda x: x[1])\n",
        "print(f\"4. Запрос с максимальным числом просмотров: {max_request}\")"
      ],
      "metadata": {
        "colab": {
          "base_uri": "https://localhost:8080/"
        },
        "id": "iwVxBepTff22",
        "outputId": "23328835-825d-4ea0-845b-5eab7aadb3b6"
      },
      "execution_count": 59,
      "outputs": [
        {
          "output_type": "stream",
          "name": "stdout",
          "text": [
            "4. Запрос с максимальным числом просмотров: ('погода', 5, '2025-02-13')\n"
          ]
        }
      ]
    },
    {
      "cell_type": "code",
      "source": [],
      "metadata": {
        "id": "ggMvYMjcf_AA"
      },
      "execution_count": null,
      "outputs": []
    },
    {
      "cell_type": "code",
      "source": [
        "# 5. Запрос с минимальным числом просмотров\n",
        "min_request = rdd_parsed.min(key=lambda x: x[1])\n",
        "print(f\"5. Запрос с минимальным числом просмотров: {min_request}\")"
      ],
      "metadata": {
        "colab": {
          "base_uri": "https://localhost:8080/"
        },
        "id": "whiWUskhfkbJ",
        "outputId": "3af99084-f9fe-460e-ebaa-8b9dab1058c3"
      },
      "execution_count": 60,
      "outputs": [
        {
          "output_type": "stream",
          "name": "stdout",
          "text": [
            "5. Запрос с минимальным числом просмотров: ('погода', 1, '2025-02-17')\n"
          ]
        }
      ]
    },
    {
      "cell_type": "code",
      "source": [],
      "metadata": {
        "id": "lqPRVK8Sf_id"
      },
      "execution_count": null,
      "outputs": []
    },
    {
      "cell_type": "code",
      "source": [
        "rdd_parsed.take(5)"
      ],
      "metadata": {
        "colab": {
          "base_uri": "https://localhost:8080/"
        },
        "id": "-0DABiCQJ4dx",
        "outputId": "22790d02-ffe4-4eda-a6a1-2365e8129eeb"
      },
      "execution_count": 61,
      "outputs": [
        {
          "output_type": "execute_result",
          "data": {
            "text/plain": [
              "[('карта', 3, '2025-02-11'),\n",
              " ('погода', 5, '2025-02-13'),\n",
              " ('котики', 5, '2025-02-11'),\n",
              " ('игры', 2, '2025-02-14'),\n",
              " ('погода', 1, '2025-02-17')]"
            ]
          },
          "metadata": {},
          "execution_count": 61
        }
      ]
    },
    {
      "cell_type": "code",
      "source": [
        "# 6. Количество уникальных запросов\n",
        "unique_requests = rdd_parsed.map(lambda x: x[0]).distinct().count()\n",
        "print(f\"6. Количество уникальных запросов: {unique_requests}\")"
      ],
      "metadata": {
        "colab": {
          "base_uri": "https://localhost:8080/"
        },
        "id": "gJ87fxXffniV",
        "outputId": "63cb502a-2f1e-499b-9097-b532caa5eb14"
      },
      "execution_count": 62,
      "outputs": [
        {
          "output_type": "stream",
          "name": "stdout",
          "text": [
            "6. Количество уникальных запросов: 14\n"
          ]
        }
      ]
    },
    {
      "cell_type": "code",
      "source": [],
      "metadata": {
        "id": "hrY-7JEuf__d"
      },
      "execution_count": null,
      "outputs": []
    },
    {
      "cell_type": "code",
      "source": [
        "rdd_parsed.map(lambda x: (x[2], x[1])).groupByKey().take(5)"
      ],
      "metadata": {
        "colab": {
          "base_uri": "https://localhost:8080/"
        },
        "collapsed": true,
        "id": "LASLjzZ-L9RZ",
        "outputId": "eafe7606-7066-412c-ad73-924251701235"
      },
      "execution_count": 63,
      "outputs": [
        {
          "output_type": "execute_result",
          "data": {
            "text/plain": [
              "[('2025-02-11', <pyspark.resultiterable.ResultIterable at 0x7f4ddbfa5f10>),\n",
              " ('2025-02-13', <pyspark.resultiterable.ResultIterable at 0x7f4ddbfa4710>),\n",
              " ('2025-02-19', <pyspark.resultiterable.ResultIterable at 0x7f4ddbfa5f70>),\n",
              " ('2025-02-12', <pyspark.resultiterable.ResultIterable at 0x7f4ddbfa5f40>),\n",
              " ('2025-02-14', <pyspark.resultiterable.ResultIterable at 0x7f4ddbf13350>)]"
            ]
          },
          "metadata": {},
          "execution_count": 63
        }
      ]
    },
    {
      "cell_type": "code",
      "source": [
        "rdd_parsed.map(lambda x: (x[2], x[1])).groupByKey().mapValues(lambda values: sum(values) / len(values)).take(5)"
      ],
      "metadata": {
        "colab": {
          "base_uri": "https://localhost:8080/"
        },
        "id": "EjE_0V2XKykH",
        "outputId": "9cfa89c1-f7c0-43de-94e4-65b070b0d3da"
      },
      "execution_count": 64,
      "outputs": [
        {
          "output_type": "execute_result",
          "data": {
            "text/plain": [
              "[('2025-02-11', 2.7714285714285714),\n",
              " ('2025-02-13', 2.92),\n",
              " ('2025-02-19', 3.033333333333333),\n",
              " ('2025-02-12', 2.6956521739130435),\n",
              " ('2025-02-14', 3.1)]"
            ]
          },
          "metadata": {},
          "execution_count": 64
        }
      ]
    },
    {
      "cell_type": "code",
      "source": [
        "# 7. Среднее количество просмотров на дату\n",
        "views_per_date = rdd_parsed.map(lambda x: (x[2], x[1])).groupByKey().mapValues(lambda values: sum(values) / len(values))\n",
        "avg_views_per_date = views_per_date.map(lambda x: x[1]).mean()\n",
        "print(f\"7. Среднее количество просмотров на дату: {avg_views_per_date:.2f}\")"
      ],
      "metadata": {
        "colab": {
          "base_uri": "https://localhost:8080/"
        },
        "id": "W24admZ_frVy",
        "outputId": "1bd2078a-0889-4250-eee6-2688050dd9b6"
      },
      "execution_count": 65,
      "outputs": [
        {
          "output_type": "stream",
          "name": "stdout",
          "text": [
            "7. Среднее количество просмотров на дату: 2.92\n"
          ]
        }
      ]
    },
    {
      "cell_type": "code",
      "source": [],
      "metadata": {
        "id": "a83PpCWRgAcx"
      },
      "execution_count": null,
      "outputs": []
    },
    {
      "cell_type": "code",
      "source": [
        "rdd_parsed.take(5)"
      ],
      "metadata": {
        "colab": {
          "base_uri": "https://localhost:8080/"
        },
        "id": "riFPZOWKMyy5",
        "outputId": "5164b948-7422-47f1-b26c-4c24bd5e898d"
      },
      "execution_count": 66,
      "outputs": [
        {
          "output_type": "execute_result",
          "data": {
            "text/plain": [
              "[('карта', 3, '2025-02-11'),\n",
              " ('погода', 5, '2025-02-13'),\n",
              " ('котики', 5, '2025-02-11'),\n",
              " ('игры', 2, '2025-02-14'),\n",
              " ('погода', 1, '2025-02-17')]"
            ]
          },
          "metadata": {},
          "execution_count": 66
        }
      ]
    },
    {
      "cell_type": "code",
      "source": [
        "rdd_parsed.map(lambda x: x[2]).collect()"
      ],
      "metadata": {
        "collapsed": true,
        "id": "TS98hRwHNBU9"
      },
      "execution_count": null,
      "outputs": []
    },
    {
      "cell_type": "code",
      "source": [
        "rdd_parsed.map(lambda x: x[2]).distinct().collect()"
      ],
      "metadata": {
        "colab": {
          "base_uri": "https://localhost:8080/"
        },
        "id": "fjprIKnzM_NU",
        "outputId": "dbff83c2-27d2-46a4-82ed-4a57b0c24301"
      },
      "execution_count": 68,
      "outputs": [
        {
          "output_type": "execute_result",
          "data": {
            "text/plain": [
              "['2025-02-11',\n",
              " '2025-02-13',\n",
              " '2025-02-19',\n",
              " '2025-02-12',\n",
              " '2025-02-14',\n",
              " '2025-02-17',\n",
              " '2025-02-18',\n",
              " '2025-02-15',\n",
              " '2025-02-16',\n",
              " '2025-02-10']"
            ]
          },
          "metadata": {},
          "execution_count": 68
        }
      ]
    },
    {
      "cell_type": "code",
      "source": [
        "# 8. Общее число дат, когда были поисковые запросы\n",
        "unique_dates = rdd_parsed.map(lambda x: x[2]).distinct().count()\n",
        "print(f\"8. Общее число дат, когда были поисковые запросы: {unique_dates}\")"
      ],
      "metadata": {
        "colab": {
          "base_uri": "https://localhost:8080/"
        },
        "id": "1twpjkeHfvvh",
        "outputId": "b48ba0d2-4a2a-4a09-a72b-3e828d8b432b"
      },
      "execution_count": 69,
      "outputs": [
        {
          "output_type": "stream",
          "name": "stdout",
          "text": [
            "8. Общее число дат, когда были поисковые запросы: 10\n"
          ]
        }
      ]
    },
    {
      "cell_type": "code",
      "source": [],
      "metadata": {
        "id": "zWEYRDM0gA4P"
      },
      "execution_count": null,
      "outputs": []
    },
    {
      "cell_type": "code",
      "source": [
        "rdd_parsed.take(5)"
      ],
      "metadata": {
        "colab": {
          "base_uri": "https://localhost:8080/"
        },
        "id": "yb_T7gqYNPqg",
        "outputId": "3f3de69e-1363-4e73-a5cf-7baa16811bcb"
      },
      "execution_count": 70,
      "outputs": [
        {
          "output_type": "execute_result",
          "data": {
            "text/plain": [
              "[('карта', 3, '2025-02-11'),\n",
              " ('погода', 5, '2025-02-13'),\n",
              " ('котики', 5, '2025-02-11'),\n",
              " ('игры', 2, '2025-02-14'),\n",
              " ('погода', 1, '2025-02-17')]"
            ]
          },
          "metadata": {},
          "execution_count": 70
        }
      ]
    },
    {
      "cell_type": "markdown",
      "source": [
        "\n",
        "\n",
        "1.   groupBy\n",
        "2.   groupByKey\n",
        "3.   reduceByKey\n",
        "\n"
      ],
      "metadata": {
        "id": "izhEzfT_O1pM"
      }
    },
    {
      "cell_type": "code",
      "source": [
        "rdd_parsed.map(lambda x: (x[0], x[2])).distinct().map(lambda x: (x[0], 1)) \\\n",
        "  .reduceByKey(lambda a, b: a + b).take(5)"
      ],
      "metadata": {
        "colab": {
          "base_uri": "https://localhost:8080/"
        },
        "id": "teA73i9wNjVs",
        "outputId": "97a2504c-a541-47ef-a955-de98bffb82bb"
      },
      "execution_count": 71,
      "outputs": [
        {
          "output_type": "execute_result",
          "data": {
            "text/plain": [
              "[('ютуб', 9), ('спорт', 8), ('игры', 8), ('музыка', 9), ('фильмы', 10)]"
            ]
          },
          "metadata": {},
          "execution_count": 71
        }
      ]
    },
    {
      "cell_type": "code",
      "source": [
        "# 9. Запрос с наибольшим числом дней появления\n",
        "query_day_count = rdd_parsed.map(lambda x: (x[0], x[2])).distinct().map(lambda x: (x[0], 1)) \\\n",
        "                            .reduceByKey(lambda a, b: a + b)\n",
        "max_days_request = query_day_count.max(key=lambda x: x[1])\n",
        "print(f\"9. Запрос с наибольшим числом дней появления: {max_days_request}\")"
      ],
      "metadata": {
        "colab": {
          "base_uri": "https://localhost:8080/"
        },
        "id": "KBB_OtNjfzSt",
        "outputId": "2b1979d8-a3cd-480f-9caa-88fe3af1ed64"
      },
      "execution_count": 72,
      "outputs": [
        {
          "output_type": "stream",
          "name": "stdout",
          "text": [
            "9. Запрос с наибольшим числом дней появления: ('фильмы', 10)\n"
          ]
        }
      ]
    },
    {
      "cell_type": "code",
      "source": [],
      "metadata": {
        "id": "L-vni5dDgBUf"
      },
      "execution_count": null,
      "outputs": []
    },
    {
      "cell_type": "code",
      "source": [
        "rdd_parsed.take(5)"
      ],
      "metadata": {
        "colab": {
          "base_uri": "https://localhost:8080/"
        },
        "id": "aGZyqAaUPY1Y",
        "outputId": "18b67d79-1fbc-4f07-e865-ba307e1f64cb"
      },
      "execution_count": 73,
      "outputs": [
        {
          "output_type": "execute_result",
          "data": {
            "text/plain": [
              "[('карта', 3, '2025-02-11'),\n",
              " ('погода', 5, '2025-02-13'),\n",
              " ('котики', 5, '2025-02-11'),\n",
              " ('игры', 2, '2025-02-14'),\n",
              " ('погода', 1, '2025-02-17')]"
            ]
          },
          "metadata": {},
          "execution_count": 73
        }
      ]
    },
    {
      "cell_type": "code",
      "source": [
        "rdd_parsed.map(lambda x: (x[2], x[1])).reduceByKey(lambda a, b: a + b).take(5)"
      ],
      "metadata": {
        "colab": {
          "base_uri": "https://localhost:8080/"
        },
        "id": "DC9bOD4KPmYj",
        "outputId": "eb2e521a-ff6a-4438-b803-b9864280392b"
      },
      "execution_count": 74,
      "outputs": [
        {
          "output_type": "execute_result",
          "data": {
            "text/plain": [
              "[('2025-02-11', 97),\n",
              " ('2025-02-13', 73),\n",
              " ('2025-02-19', 91),\n",
              " ('2025-02-12', 62),\n",
              " ('2025-02-14', 62)]"
            ]
          },
          "metadata": {},
          "execution_count": 74
        }
      ]
    },
    {
      "cell_type": "code",
      "source": [
        "# 10. Самая популярная дата по просмотрам\n",
        "popular_date = rdd_parsed.map(lambda x: (x[2], x[1])).reduceByKey(lambda a, b: a + b) \\\n",
        "                         .max(key=lambda x: x[1])\n",
        "print(f\"10. Самая популярная дата по просмотрам: {popular_date}\")"
      ],
      "metadata": {
        "colab": {
          "base_uri": "https://localhost:8080/"
        },
        "id": "kd5QGvusf3Eg",
        "outputId": "412a0348-af21-409c-b1bf-ed2c2e8851f9"
      },
      "execution_count": 75,
      "outputs": [
        {
          "output_type": "stream",
          "name": "stdout",
          "text": [
            "10. Самая популярная дата по просмотрам: ('2025-02-11', 97)\n"
          ]
        }
      ]
    },
    {
      "cell_type": "code",
      "source": [],
      "metadata": {
        "id": "T-EbVoQQd2lP"
      },
      "execution_count": null,
      "outputs": []
    },
    {
      "cell_type": "code",
      "source": [
        "rdd_parsed.take(5)"
      ],
      "metadata": {
        "colab": {
          "base_uri": "https://localhost:8080/"
        },
        "id": "IlG4qlgzQFHY",
        "outputId": "f3018bd2-f876-4339-8762-cf1afe7c2a5b"
      },
      "execution_count": 76,
      "outputs": [
        {
          "output_type": "execute_result",
          "data": {
            "text/plain": [
              "[('карта', 3, '2025-02-11'),\n",
              " ('погода', 5, '2025-02-13'),\n",
              " ('котики', 5, '2025-02-11'),\n",
              " ('игры', 2, '2025-02-14'),\n",
              " ('погода', 1, '2025-02-17')]"
            ]
          },
          "metadata": {},
          "execution_count": 76
        }
      ]
    },
    {
      "cell_type": "code",
      "source": [
        "# 11. Дата с наибольшим количеством уникальных запросов\n",
        "unique_queries_per_date = rdd_parsed.map(lambda x: (x[2], x[0])).distinct() \\\n",
        "                                    .map(lambda x: (x[0], 1)).reduceByKey(lambda a, b: a + b)\n",
        "max_unique_query_date = unique_queries_per_date.max(key=lambda x: x[1])\n",
        "print(f\"11. Дата с наибольшим количеством уникальных запросов: {max_unique_query_date}\")"
      ],
      "metadata": {
        "colab": {
          "base_uri": "https://localhost:8080/"
        },
        "id": "BoWCzBsCV0CP",
        "outputId": "cfc3ad68-2526-439d-82d1-49ece9f04f72"
      },
      "execution_count": 77,
      "outputs": [
        {
          "output_type": "stream",
          "name": "stdout",
          "text": [
            "11. Дата с наибольшим количеством уникальных запросов: ('2025-02-11', 14)\n"
          ]
        }
      ]
    },
    {
      "cell_type": "code",
      "source": [],
      "metadata": {
        "id": "grqUqAe7ipYK"
      },
      "execution_count": null,
      "outputs": []
    },
    {
      "cell_type": "code",
      "source": [
        "# 11. Дата с наибольшим количеством уникальных запросов\n",
        "unique_queries_per_date = rdd_parsed.map(lambda x: (x[2], x[0])).distinct() \\\n",
        "                                    .map(lambda x: (x[0], 1)).reduceByKey(lambda a, b: a + b)\n",
        "max_unique_query_date = unique_queries_per_date.min(key=lambda x: x[1])\n",
        "print(f\"11. Дата с наибольшим количеством уникальных запросов: {max_unique_query_date}\")"
      ],
      "metadata": {
        "colab": {
          "base_uri": "https://localhost:8080/"
        },
        "id": "YMVSJLQFSk8T",
        "outputId": "e0c941fe-ede6-4003-f248-4017e1fa99f1"
      },
      "execution_count": 78,
      "outputs": [
        {
          "output_type": "stream",
          "name": "stdout",
          "text": [
            "11. Дата с наибольшим количеством уникальных запросов: ('2025-02-18', 9)\n"
          ]
        }
      ]
    },
    {
      "cell_type": "code",
      "source": [
        "rdd_parsed.take(5)"
      ],
      "metadata": {
        "colab": {
          "base_uri": "https://localhost:8080/"
        },
        "id": "5xNuY6h-R_kb",
        "outputId": "146df5fb-7ec5-421a-f270-0a20c609d2f0"
      },
      "execution_count": 79,
      "outputs": [
        {
          "output_type": "execute_result",
          "data": {
            "text/plain": [
              "[('карта', 3, '2025-02-11'),\n",
              " ('погода', 5, '2025-02-13'),\n",
              " ('котики', 5, '2025-02-11'),\n",
              " ('игры', 2, '2025-02-14'),\n",
              " ('погода', 1, '2025-02-17')]"
            ]
          },
          "metadata": {},
          "execution_count": 79
        }
      ]
    },
    {
      "cell_type": "code",
      "source": [
        "unique_queries_per_date.count()"
      ],
      "metadata": {
        "colab": {
          "base_uri": "https://localhost:8080/"
        },
        "id": "JXdTmmDhR6rw",
        "outputId": "a5872108-f460-4947-c8c1-afc4935a2093"
      },
      "execution_count": 80,
      "outputs": [
        {
          "output_type": "execute_result",
          "data": {
            "text/plain": [
              "10"
            ]
          },
          "metadata": {},
          "execution_count": 80
        }
      ]
    },
    {
      "cell_type": "code",
      "source": [
        "# 12. Общее количество дней, когда было более 3 уникальных запросов\n",
        "days_with_more_than_3_queries = unique_queries_per_date.filter(lambda x: x[1] > 10).count()\n",
        "print(f\"12. Общее количество дней с >3 уникальными запросами: {days_with_more_than_3_queries}\")"
      ],
      "metadata": {
        "colab": {
          "base_uri": "https://localhost:8080/"
        },
        "id": "QP6psAD7ipVr",
        "outputId": "9bf16a10-1668-4e33-87c4-01cb65f39b7b"
      },
      "execution_count": 81,
      "outputs": [
        {
          "output_type": "stream",
          "name": "stdout",
          "text": [
            "12. Общее количество дней с >3 уникальными запросами: 8\n"
          ]
        }
      ]
    },
    {
      "cell_type": "code",
      "source": [],
      "metadata": {
        "id": "RBCpB75QipTS"
      },
      "execution_count": null,
      "outputs": []
    },
    {
      "cell_type": "code",
      "source": [
        "rdd_parsed.take(5)"
      ],
      "metadata": {
        "colab": {
          "base_uri": "https://localhost:8080/"
        },
        "id": "5OHrSHhjSvQs",
        "outputId": "6a67bc3a-3402-49c2-dc4d-bdd2d1bbc9ca"
      },
      "execution_count": 82,
      "outputs": [
        {
          "output_type": "execute_result",
          "data": {
            "text/plain": [
              "[('карта', 3, '2025-02-11'),\n",
              " ('погода', 5, '2025-02-13'),\n",
              " ('котики', 5, '2025-02-11'),\n",
              " ('игры', 2, '2025-02-14'),\n",
              " ('погода', 1, '2025-02-17')]"
            ]
          },
          "metadata": {},
          "execution_count": 82
        }
      ]
    },
    {
      "cell_type": "code",
      "source": [
        "# 13. Топ-3 самых популярных запроса по просмотрам\n",
        "top_3_queries = rdd_parsed.map(lambda x: (x[0], x[1])).reduceByKey(lambda a, b: a + b) \\\n",
        "                          .top(3, key=lambda x: x[1])\n",
        "print(f\"13. Топ-3 самых популярных запроса по просмотрам: {top_3_queries}\")"
      ],
      "metadata": {
        "colab": {
          "base_uri": "https://localhost:8080/"
        },
        "id": "ladFNkWgipQ_",
        "outputId": "7d3e3125-02f0-480f-b48f-d59fc635c20a"
      },
      "execution_count": 83,
      "outputs": [
        {
          "output_type": "stream",
          "name": "stdout",
          "text": [
            "13. Топ-3 самых популярных запроса по просмотрам: [('игры', 68), ('авито', 65), ('вк', 61)]\n"
          ]
        }
      ]
    },
    {
      "cell_type": "code",
      "source": [
        "rdd_parsed.map(lambda x: (x[0], x[1])).reduceByKey(lambda a, b: a + b) \\\n",
        "  .map(lambda x: (x[1], x[0])) \\\n",
        "  .sortByKey().take(3)"
      ],
      "metadata": {
        "colab": {
          "base_uri": "https://localhost:8080/"
        },
        "id": "ocSMb9PETJrA",
        "outputId": "bd6b1139-00ee-4040-eb8b-003b12a17b2b"
      },
      "execution_count": 84,
      "outputs": [
        {
          "output_type": "execute_result",
          "data": {
            "text/plain": [
              "[(33, 'котики'), (35, 'вконтакте'), (38, 'новости')]"
            ]
          },
          "metadata": {},
          "execution_count": 84
        }
      ]
    },
    {
      "cell_type": "code",
      "source": [],
      "metadata": {
        "id": "2zwg7BhaioRf"
      },
      "execution_count": null,
      "outputs": []
    }
  ]
}
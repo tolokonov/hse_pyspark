{
  "cells": [
    {
      "cell_type": "markdown",
      "metadata": {
        "id": "6mS0P6H6-hKe"
      },
      "source": [
        "# `Промышленное машинное обучение на Spark`\n",
        "## `Занятие 04: Детали SQL и Spark`"
      ]
    },
    {
      "cell_type": "markdown",
      "metadata": {
        "id": "TOmBU2DJ-hKg"
      },
      "source": [
        "О чём можно узнать из этого ноутбука:\n",
        "\n",
        "* RDD API\n",
        "* Pivot/Unpivot\n",
        "* Window function\n",
        "* UDF\n",
        "* Формат Parquet"
      ]
    },
    {
      "cell_type": "markdown",
      "metadata": {
        "id": "LVm61oBH-hKg"
      },
      "source": [
        "Для эффективной работы UDF необходимо установить библиотеку, реализующую передачу данных между Spark и Python в Arrow формате:"
      ]
    },
    {
      "cell_type": "code",
      "execution_count": 1,
      "metadata": {
        "ExecuteTime": {
          "end_time": "2023-02-05T17:47:02.362387Z",
          "start_time": "2023-02-05T17:46:59.647723Z"
        },
        "id": "TnSICwdk-hKg",
        "outputId": "d1027ff2-1fa9-40ad-c1ed-5288f9618a24",
        "colab": {
          "base_uri": "https://localhost:8080/"
        }
      },
      "outputs": [
        {
          "output_type": "stream",
          "name": "stdout",
          "text": [
            "Requirement already satisfied: pyspark in /usr/local/lib/python3.11/dist-packages (3.5.5)\n",
            "Requirement already satisfied: pyarrow in /usr/local/lib/python3.11/dist-packages (18.1.0)\n",
            "Requirement already satisfied: py4j==0.10.9.7 in /usr/local/lib/python3.11/dist-packages (from pyspark) (0.10.9.7)\n"
          ]
        }
      ],
      "source": [
        "! pip3 install pyspark pyarrow"
      ]
    },
    {
      "cell_type": "code",
      "execution_count": 2,
      "metadata": {
        "ExecuteTime": {
          "end_time": "2023-02-05T17:47:13.832913Z",
          "start_time": "2023-02-05T17:47:04.417093Z"
        },
        "id": "16QwCq5w-hKh"
      },
      "outputs": [],
      "source": [
        "import pyspark.sql.types as T\n",
        "import pyspark.sql.functions as F\n",
        "from pyspark.sql import SparkSession\n",
        "\n",
        "from pyspark import SparkConf, SparkContext\n",
        "\n",
        "conf = (\n",
        "    SparkConf()\n",
        "        .setMaster('local[*]')\n",
        ")\n",
        "sc = SparkContext(conf=conf)\n",
        "spark = SparkSession(sc)"
      ]
    },
    {
      "cell_type": "markdown",
      "source": [
        "### `Практика DataFrame`"
      ],
      "metadata": {
        "id": "XCAp7_AL_XRc"
      }
    },
    {
      "cell_type": "code",
      "source": [
        "!head hr_data.csv"
      ],
      "metadata": {
        "id": "vlq3pgHX_TvT",
        "outputId": "12f8bf06-785e-4852-947d-949e3a7b94d4",
        "colab": {
          "base_uri": "https://localhost:8080/"
        }
      },
      "execution_count": 3,
      "outputs": [
        {
          "output_type": "stream",
          "name": "stdout",
          "text": [
            "Age,MonthlyIncome,Department,Gender,Education,Attrition\n",
            "41,5993,Sales,Female,2,Yes\n",
            "49,5130,Research & Development,Male,1,No\n",
            "37,2090,Research & Development,Male,2,Yes\n",
            "33,2909,Research & Development,Female,4,No\n",
            "27,3468,Research & Development,Male,1,No\n",
            "32,3068,Research & Development,Male,2,No\n",
            "59,2670,Research & Development,Female,3,No\n",
            "30,2693,Research & Development,Male,1,No\n",
            "38,9526,Research & Development,Male,3,No\n"
          ]
        }
      ]
    },
    {
      "cell_type": "code",
      "source": [
        "# Чтение CSV с заголовками\n",
        "df = spark.read.csv(\"hr_data.csv\", header=True, inferSchema=True)\n",
        "\n",
        "# Вывести 5 строк\n",
        "df.show(5)"
      ],
      "metadata": {
        "id": "FuE1osho_ppC",
        "outputId": "f8c02dc8-dbea-4011-c20f-f6a7cc6181a2",
        "colab": {
          "base_uri": "https://localhost:8080/"
        }
      },
      "execution_count": 91,
      "outputs": [
        {
          "output_type": "stream",
          "name": "stdout",
          "text": [
            "+---+-------------+--------------------+------+---------+---------+\n",
            "|Age|MonthlyIncome|          Department|Gender|Education|Attrition|\n",
            "+---+-------------+--------------------+------+---------+---------+\n",
            "| 41|         5993|               Sales|Female|        2|      Yes|\n",
            "| 49|         5130|Research & Develo...|  Male|        1|       No|\n",
            "| 37|         2090|Research & Develo...|  Male|        2|      Yes|\n",
            "| 33|         2909|Research & Develo...|Female|        4|       No|\n",
            "| 27|         3468|Research & Develo...|  Male|        1|       No|\n",
            "+---+-------------+--------------------+------+---------+---------+\n",
            "only showing top 5 rows\n",
            "\n"
          ]
        }
      ]
    },
    {
      "cell_type": "code",
      "source": [
        "df.printSchema()"
      ],
      "metadata": {
        "colab": {
          "base_uri": "https://localhost:8080/"
        },
        "id": "NJUUcj88Rdkg",
        "outputId": "206a4c9b-7938-4d9c-fa23-63ffceb77a89"
      },
      "execution_count": 5,
      "outputs": [
        {
          "output_type": "stream",
          "name": "stdout",
          "text": [
            "root\n",
            " |-- Age: integer (nullable = true)\n",
            " |-- MonthlyIncome: integer (nullable = true)\n",
            " |-- Department: string (nullable = true)\n",
            " |-- Gender: string (nullable = true)\n",
            " |-- Education: integer (nullable = true)\n",
            " |-- Attrition: string (nullable = true)\n",
            "\n"
          ]
        }
      ]
    },
    {
      "cell_type": "code",
      "source": [
        "# 1) Посчитать количество девушек и парней (Gender, count)\n",
        "(\n",
        "    df.filter(\"Gender is not null\").groupBy(\"Gender\").agg(F.count(\"*\").alias(\"cnt\")).show()\n",
        ")"
      ],
      "metadata": {
        "colab": {
          "base_uri": "https://localhost:8080/"
        },
        "id": "DiqIRKBA_pkR",
        "outputId": "97c20d07-c270-472f-a382-cf42a1f8ba83"
      },
      "execution_count": 13,
      "outputs": [
        {
          "output_type": "stream",
          "name": "stdout",
          "text": [
            "+------+---+\n",
            "|Gender|cnt|\n",
            "+------+---+\n",
            "|Female|588|\n",
            "|  Male|882|\n",
            "+------+---+\n",
            "\n"
          ]
        }
      ]
    },
    {
      "cell_type": "code",
      "source": [
        "# 2) Сумма всех зарплат, средняя зарплата, минимальная зарплата и максимальная зарплата девушек и парней\n",
        "# (Gender, cnt, sum_income, avg_income, min_income, max_income)\n",
        "(\n",
        "    df.groupBy(\"Gender\").agg(\n",
        "        F.count(\"MonthlyIncome\").alias(\"cnt\"),\n",
        "        F.count_distinct(\"MonthlyIncome\").alias(\"cnt_dist\"),\n",
        "        F.sum(\"MonthlyIncome\").alias(\"sum_income\"),\n",
        "        F.round(F.avg(\"MonthlyIncome\"), 3).alias(\"avg_income\"),\n",
        "        F.min(\"MonthlyIncome\").alias(\"min_income\"),\n",
        "        F.max(\"MonthlyIncome\").alias(\"max_income\")\n",
        "    ).show()\n",
        ")"
      ],
      "metadata": {
        "colab": {
          "base_uri": "https://localhost:8080/"
        },
        "id": "lio-VjxW_pfD",
        "outputId": "c377047b-748e-415a-dff4-39acf6d089ea"
      },
      "execution_count": 21,
      "outputs": [
        {
          "output_type": "stream",
          "name": "stdout",
          "text": [
            "+------+---+--------+----------+----------+----------+----------+\n",
            "|Gender|cnt|cnt_dist|sum_income|avg_income|min_income|max_income|\n",
            "+------+---+--------+----------+----------+----------+----------+\n",
            "|Female|588|     564|   3931701|  6686.566|      1129|     19973|\n",
            "|  Male|882|     834|   5627608|  6380.508|      1009|     19999|\n",
            "+------+---+--------+----------+----------+----------+----------+\n",
            "\n"
          ]
        }
      ]
    },
    {
      "cell_type": "code",
      "source": [
        "# 3) Количество людей, сумма всех зарплат, средняя зарплата, минимальная и максимальные зарплаты в департаментах\n",
        "# (Department, cnt, sum_income, avg_income, min_income, max_income)\n",
        "(\n",
        "    df.groupBy(\"Department\").agg(\n",
        "        F.count(\"*\").alias(\"cnt\"),\n",
        "        F.sum(\"MonthlyIncome\").alias(\"sum_income\"),\n",
        "        F.round(F.avg(\"MonthlyIncome\"), 2).alias(\"avg_income\"),\n",
        "        F.min(\"MonthlyIncome\").alias(\"min_income\"),\n",
        "        F.max(\"MonthlyIncome\").alias(\"max_income\")\n",
        "    ).orderBy(F.col(\"avg_income\")).show(truncate=False)\n",
        ")"
      ],
      "metadata": {
        "colab": {
          "base_uri": "https://localhost:8080/"
        },
        "id": "46EI54Be_pcm",
        "outputId": "dfd9c905-36aa-45f5-a86c-cbb6811009bc"
      },
      "execution_count": 30,
      "outputs": [
        {
          "output_type": "stream",
          "name": "stdout",
          "text": [
            "+----------------------+---+----------+----------+----------+----------+\n",
            "|Department            |cnt|sum_income|avg_income|min_income|max_income|\n",
            "+----------------------+---+----------+----------+----------+----------+\n",
            "|Research & Development|961|6036284   |6281.25   |1009      |19999     |\n",
            "|Human Resources       |63 |419234    |6654.51   |1555      |19717     |\n",
            "|Sales                 |446|3103791   |6959.17   |1052      |19847     |\n",
            "+----------------------+---+----------+----------+----------+----------+\n",
            "\n"
          ]
        }
      ]
    },
    {
      "cell_type": "code",
      "source": [
        "# 4) Количество сотрудников по уровню образования\n",
        "# (Education, employee_count)\n",
        "(\n",
        "    df.groupBy(\"Education\").agg(\n",
        "        F.count(\"*\").alias(\"cnt\")\n",
        "    ).orderBy(\"Education\").show()\n",
        ")"
      ],
      "metadata": {
        "colab": {
          "base_uri": "https://localhost:8080/"
        },
        "id": "dJQ4FhAHEbTf",
        "outputId": "41118ccb-8873-47c2-d40a-45eb3ed92cc9"
      },
      "execution_count": 33,
      "outputs": [
        {
          "output_type": "stream",
          "name": "stdout",
          "text": [
            "+---------+---+\n",
            "|Education|cnt|\n",
            "+---------+---+\n",
            "|        1|170|\n",
            "|        2|282|\n",
            "|        3|572|\n",
            "|        4|398|\n",
            "|        5| 48|\n",
            "+---------+---+\n",
            "\n"
          ]
        }
      ]
    },
    {
      "cell_type": "code",
      "source": [
        "# 5) Процент увольнений (Attrition) по департаментам\n",
        "# (Department, total_employees, attrition_count, attrition_rate)\n",
        "(\n",
        "    df.groupBy(\"Department\").agg(\n",
        "        F.count(\"*\").alias(\"total_employees\"),\n",
        "        F.sum(F.when(F.col(\"Attrition\") == \"Yes\", 1).otherwise(0)).alias(\"attrition_count\"),\n",
        "        F.round(F.avg(F.when(F.col(\"Attrition\") == \"Yes\", 1).otherwise(0))*100, 2).alias(\"attrition_rate\")\n",
        "    ).show()\n",
        ")"
      ],
      "metadata": {
        "colab": {
          "base_uri": "https://localhost:8080/"
        },
        "id": "VN-QxWvaFQ--",
        "outputId": "2fc613a2-9890-4236-f83e-507b2f96048b"
      },
      "execution_count": 41,
      "outputs": [
        {
          "output_type": "stream",
          "name": "stdout",
          "text": [
            "+--------------------+---------------+---------------+--------------+\n",
            "|          Department|total_employees|attrition_count|attrition_rate|\n",
            "+--------------------+---------------+---------------+--------------+\n",
            "|               Sales|            446|             92|         20.63|\n",
            "|Research & Develo...|            961|            133|         13.84|\n",
            "|     Human Resources|             63|             12|         19.05|\n",
            "+--------------------+---------------+---------------+--------------+\n",
            "\n"
          ]
        }
      ]
    },
    {
      "cell_type": "code",
      "source": [
        "# 6) Средний возраст сотрудников по гендеру (Gender, avg_age)\n",
        "(\n",
        "  df.groupBy(\"Gender\").agg(\n",
        "      F.round(F.avg(\"Age\"), 1).alias(\"avg_age\"),\n",
        "      F.lit(0.0).alias(\"True?\")\n",
        "  ).show()\n",
        ")"
      ],
      "metadata": {
        "colab": {
          "base_uri": "https://localhost:8080/"
        },
        "id": "omwpbnQoGKZI",
        "outputId": "0c188786-2f6b-4ddb-fce0-c1ef86157e56"
      },
      "execution_count": 58,
      "outputs": [
        {
          "output_type": "stream",
          "name": "stdout",
          "text": [
            "+------+-------+-----+\n",
            "|Gender|avg_age|True?|\n",
            "+------+-------+-----+\n",
            "|Female|   37.3|  0.0|\n",
            "|  Male|   36.7|  0.0|\n",
            "+------+-------+-----+\n",
            "\n"
          ]
        }
      ]
    },
    {
      "cell_type": "code",
      "source": [
        "df.filter(\"Gender = 'Female'\").groupBy(\"Department\").count().show()"
      ],
      "metadata": {
        "colab": {
          "base_uri": "https://localhost:8080/"
        },
        "id": "_OBSGpA9asX3",
        "outputId": "d3f70704-3bf6-4e62-8b05-ea2bd2ba8213"
      },
      "execution_count": 50,
      "outputs": [
        {
          "output_type": "stream",
          "name": "stdout",
          "text": [
            "+--------------------+-----+\n",
            "|          Department|count|\n",
            "+--------------------+-----+\n",
            "|               Sales|  189|\n",
            "|Research & Develo...|  379|\n",
            "|     Human Resources|   20|\n",
            "+--------------------+-----+\n",
            "\n"
          ]
        }
      ]
    },
    {
      "cell_type": "code",
      "source": [
        "# 7) Соотношение мужчин и женщин в департаментах\n",
        "# (Department, male_count, female_count)\n",
        "(\n",
        "    df.groupBy(\"Department\").agg(\n",
        "        F.count(\"*\").alias(\"cnt\"),\n",
        "        F.sum(F.when(F.col(\"Gender\") == \"Male\", 1).otherwise(0)).alias(\"male_count\"),\n",
        "        F.sum(F.when(F.col(\"Gender\") == \"Female\", 1).otherwise(0)).alias(\"female_count\")\n",
        "    ).show(truncate=False)\n",
        ")"
      ],
      "metadata": {
        "colab": {
          "base_uri": "https://localhost:8080/"
        },
        "id": "DST7RHNbGfBI",
        "outputId": "4aed2490-1e2a-469e-8682-b31a5629e2ee"
      },
      "execution_count": 45,
      "outputs": [
        {
          "output_type": "stream",
          "name": "stdout",
          "text": [
            "+----------------------+---+----------+------------+\n",
            "|Department            |cnt|male_count|female_count|\n",
            "+----------------------+---+----------+------------+\n",
            "|Sales                 |446|257       |189         |\n",
            "|Research & Development|961|582       |379         |\n",
            "|Human Resources       |63 |43        |20          |\n",
            "+----------------------+---+----------+------------+\n",
            "\n"
          ]
        }
      ]
    },
    {
      "cell_type": "code",
      "source": [
        "# 8) Возрастающий тренд средней зарплаты в зависимости от возраста (Age, avg_income)\n",
        "(\n",
        "    df.groupBy(\"Age\").agg(\n",
        "        F.round(F.avg(\"MonthlyIncome\"), 1).alias(\"avg_income\")\n",
        "    ).orderBy(\"Age\").show()\n",
        ")"
      ],
      "metadata": {
        "colab": {
          "base_uri": "https://localhost:8080/"
        },
        "id": "Yl98kzCGG34o",
        "outputId": "bc1ee875-e594-4f54-d3e9-e02ade6ed8db"
      },
      "execution_count": 54,
      "outputs": [
        {
          "output_type": "stream",
          "name": "stdout",
          "text": [
            "+---+----------+\n",
            "|Age|avg_income|\n",
            "+---+----------+\n",
            "| 18|    1518.4|\n",
            "| 19|    2075.0|\n",
            "| 20|    2539.4|\n",
            "| 21|    2491.5|\n",
            "| 22|    2950.0|\n",
            "| 23|    2515.4|\n",
            "| 24|    3243.9|\n",
            "| 25|    4144.8|\n",
            "| 26|    3531.5|\n",
            "| 27|    4190.4|\n",
            "| 28|    3904.8|\n",
            "| 29|    4584.4|\n",
            "| 30|    4814.9|\n",
            "| 31|    5525.4|\n",
            "| 32|    5092.5|\n",
            "| 33|    5500.5|\n",
            "| 34|    5269.2|\n",
            "| 35|    5425.3|\n",
            "| 36|    5590.9|\n",
            "| 37|    5853.9|\n",
            "+---+----------+\n",
            "only showing top 20 rows\n",
            "\n"
          ]
        }
      ]
    },
    {
      "cell_type": "markdown",
      "source": [
        "### `Практика SQL`"
      ],
      "metadata": {
        "id": "b5x6Ezuk_b8t"
      }
    },
    {
      "cell_type": "code",
      "source": [
        "df.show()"
      ],
      "metadata": {
        "colab": {
          "base_uri": "https://localhost:8080/"
        },
        "id": "ojJq8dgcp7X5",
        "outputId": "eb0efd94-fa43-44e8-ca93-cd276df3a952"
      },
      "execution_count": 92,
      "outputs": [
        {
          "output_type": "stream",
          "name": "stdout",
          "text": [
            "+---+-------------+--------------------+------+---------+---------+\n",
            "|Age|MonthlyIncome|          Department|Gender|Education|Attrition|\n",
            "+---+-------------+--------------------+------+---------+---------+\n",
            "| 41|         5993|               Sales|Female|        2|      Yes|\n",
            "| 49|         5130|Research & Develo...|  Male|        1|       No|\n",
            "| 37|         2090|Research & Develo...|  Male|        2|      Yes|\n",
            "| 33|         2909|Research & Develo...|Female|        4|       No|\n",
            "| 27|         3468|Research & Develo...|  Male|        1|       No|\n",
            "| 32|         3068|Research & Develo...|  Male|        2|       No|\n",
            "| 59|         2670|Research & Develo...|Female|        3|       No|\n",
            "| 30|         2693|Research & Develo...|  Male|        1|       No|\n",
            "| 38|         9526|Research & Develo...|  Male|        3|       No|\n",
            "| 36|         5237|Research & Develo...|  Male|        3|       No|\n",
            "| 35|         2426|Research & Develo...|  Male|        3|       No|\n",
            "| 29|         4193|Research & Develo...|Female|        2|       No|\n",
            "| 31|         2911|Research & Develo...|  Male|        1|       No|\n",
            "| 34|         2661|Research & Develo...|  Male|        2|       No|\n",
            "| 28|         2028|Research & Develo...|  Male|        3|      Yes|\n",
            "| 29|         9980|Research & Develo...|Female|        4|       No|\n",
            "| 32|         3298|Research & Develo...|  Male|        2|       No|\n",
            "| 22|         2935|Research & Develo...|  Male|        2|       No|\n",
            "| 53|        15427|               Sales|Female|        4|       No|\n",
            "| 38|         3944|Research & Develo...|  Male|        3|       No|\n",
            "+---+-------------+--------------------+------+---------+---------+\n",
            "only showing top 20 rows\n",
            "\n"
          ]
        }
      ]
    },
    {
      "cell_type": "code",
      "source": [
        "df.createOrReplaceTempView(\"df\")"
      ],
      "metadata": {
        "id": "uG7Em2c0_bqh"
      },
      "execution_count": 93,
      "outputs": []
    },
    {
      "cell_type": "code",
      "source": [
        "spark.sql(\"select * from df\").show(5)"
      ],
      "metadata": {
        "id": "_LYSIPQ1HwJE",
        "outputId": "426d91b4-b749-4f63-b33f-d93299b411f0",
        "colab": {
          "base_uri": "https://localhost:8080/"
        }
      },
      "execution_count": 96,
      "outputs": [
        {
          "output_type": "stream",
          "name": "stdout",
          "text": [
            "+---+-------------+--------------------+------+---------+---------+\n",
            "|Age|MonthlyIncome|          Department|Gender|Education|Attrition|\n",
            "+---+-------------+--------------------+------+---------+---------+\n",
            "| 41|         5993|               Sales|Female|        2|      Yes|\n",
            "| 49|         5130|Research & Develo...|  Male|        1|       No|\n",
            "| 37|         2090|Research & Develo...|  Male|        2|      Yes|\n",
            "| 33|         2909|Research & Develo...|Female|        4|       No|\n",
            "| 27|         3468|Research & Develo...|  Male|        1|       No|\n",
            "+---+-------------+--------------------+------+---------+---------+\n",
            "only showing top 5 rows\n",
            "\n"
          ]
        }
      ]
    },
    {
      "cell_type": "code",
      "source": [
        "# 1) Посчитать количество девушек и парней (Gender, count)\n",
        "spark.sql(\"\"\"\n",
        "  select\n",
        "    Gender,\n",
        "    count(*) as cnt\n",
        "  from df\n",
        "  group by Gender\n",
        "\"\"\").show()"
      ],
      "metadata": {
        "outputId": "fd32fb97-b22f-44c1-933c-be525a19c9ca",
        "colab": {
          "base_uri": "https://localhost:8080/"
        },
        "id": "xHHY39AfH1OO"
      },
      "execution_count": 98,
      "outputs": [
        {
          "output_type": "stream",
          "name": "stdout",
          "text": [
            "+------+---+\n",
            "|Gender|cnt|\n",
            "+------+---+\n",
            "|Female|588|\n",
            "|  Male|882|\n",
            "+------+---+\n",
            "\n"
          ]
        }
      ]
    },
    {
      "cell_type": "code",
      "source": [],
      "metadata": {
        "id": "91g7k08Ks4Qz"
      },
      "execution_count": null,
      "outputs": []
    },
    {
      "cell_type": "code",
      "source": [
        "# 2) Сумма всех зарплат, средняя зарплата, минимальная зарплата и максимальная зарплата девушек и парней\n",
        "# (Gender, sum_income, avg_income, min_income, max_income)\n",
        "spark.sql(\"\"\"\n",
        "  select\n",
        "    Gender,\n",
        "    sum(MonthlyIncome) as sum_income,\n",
        "    round(avg(MonthlyIncome), 2) as avg_income,\n",
        "    min(MonthlyIncome) as min_income,\n",
        "    max(MonthlyIncome) as max_income\n",
        "  from df\n",
        "  group by Gender\n",
        "\"\"\").show()"
      ],
      "metadata": {
        "outputId": "10523215-7f45-4c0d-8b54-6e7c230c5670",
        "colab": {
          "base_uri": "https://localhost:8080/"
        },
        "id": "JcG4FVAnH1OO"
      },
      "execution_count": 101,
      "outputs": [
        {
          "output_type": "stream",
          "name": "stdout",
          "text": [
            "+------+----------+----------+----------+----------+\n",
            "|Gender|sum_income|avg_income|min_income|max_income|\n",
            "+------+----------+----------+----------+----------+\n",
            "|Female|   3931701|   6686.57|      1129|     19973|\n",
            "|  Male|   5627608|   6380.51|      1009|     19999|\n",
            "+------+----------+----------+----------+----------+\n",
            "\n"
          ]
        }
      ]
    },
    {
      "cell_type": "code",
      "source": [
        "df.show(3)"
      ],
      "metadata": {
        "colab": {
          "base_uri": "https://localhost:8080/"
        },
        "id": "mlBuTovdtKYl",
        "outputId": "0e078601-a6ce-427d-9932-4992fcbf17c2"
      },
      "execution_count": 103,
      "outputs": [
        {
          "output_type": "stream",
          "name": "stdout",
          "text": [
            "+---+-------------+--------------------+------+---------+---------+\n",
            "|Age|MonthlyIncome|          Department|Gender|Education|Attrition|\n",
            "+---+-------------+--------------------+------+---------+---------+\n",
            "| 41|         5993|               Sales|Female|        2|      Yes|\n",
            "| 49|         5130|Research & Develo...|  Male|        1|       No|\n",
            "| 37|         2090|Research & Develo...|  Male|        2|      Yes|\n",
            "+---+-------------+--------------------+------+---------+---------+\n",
            "only showing top 3 rows\n",
            "\n"
          ]
        }
      ]
    },
    {
      "cell_type": "code",
      "source": [
        "# 3) Количество людей, сумма всех зарплат, средняя зарплата, минимальная и максимальные зарплаты в департаментах\n",
        "# (Department, cnt, sum_income, avg_income, min_income, max_income)\n",
        "spark.sql(\"\"\"\n",
        "  select\n",
        "    Department,\n",
        "    count(*) as cnt,\n",
        "    sum(MonthlyIncome) as sum_income,\n",
        "    round(avg(MonthlyIncome), 2) as avg_income,\n",
        "    min(MonthlyIncome) as min_income,\n",
        "    max(MonthlyIncome) as max_income\n",
        "  from df\n",
        "  group by Department\n",
        "\"\"\").show()"
      ],
      "metadata": {
        "outputId": "14b7c8a9-23ce-4896-c7f6-d5ca3dd9fe2e",
        "colab": {
          "base_uri": "https://localhost:8080/"
        },
        "id": "LLoT6ocLH1OO"
      },
      "execution_count": 105,
      "outputs": [
        {
          "output_type": "stream",
          "name": "stdout",
          "text": [
            "+--------------------+---+----------+----------+----------+----------+\n",
            "|          Department|cnt|sum_income|avg_income|min_income|max_income|\n",
            "+--------------------+---+----------+----------+----------+----------+\n",
            "|               Sales|446|   3103791|   6959.17|      1052|     19847|\n",
            "|Research & Develo...|961|   6036284|   6281.25|      1009|     19999|\n",
            "|     Human Resources| 63|    419234|   6654.51|      1555|     19717|\n",
            "+--------------------+---+----------+----------+----------+----------+\n",
            "\n"
          ]
        }
      ]
    },
    {
      "cell_type": "code",
      "source": [
        "df.show(3)"
      ],
      "metadata": {
        "colab": {
          "base_uri": "https://localhost:8080/"
        },
        "id": "kB_lxAPrtial",
        "outputId": "1ecd5e79-a3f8-4bb6-e88c-907cbc4f6a28"
      },
      "execution_count": 106,
      "outputs": [
        {
          "output_type": "stream",
          "name": "stdout",
          "text": [
            "+---+-------------+--------------------+------+---------+---------+\n",
            "|Age|MonthlyIncome|          Department|Gender|Education|Attrition|\n",
            "+---+-------------+--------------------+------+---------+---------+\n",
            "| 41|         5993|               Sales|Female|        2|      Yes|\n",
            "| 49|         5130|Research & Develo...|  Male|        1|       No|\n",
            "| 37|         2090|Research & Develo...|  Male|        2|      Yes|\n",
            "+---+-------------+--------------------+------+---------+---------+\n",
            "only showing top 3 rows\n",
            "\n"
          ]
        }
      ]
    },
    {
      "cell_type": "code",
      "source": [
        "# 4) Количество сотрудников по уровню образования\n",
        "# (Education, employee_count)\n",
        "spark.sql(\"\"\"\n",
        "  select Education, count(*) as cnt from df group by Education order by Education desc\n",
        "\"\"\").show()"
      ],
      "metadata": {
        "outputId": "7b501c30-7816-4d57-a6e0-50ed4d8a56a5",
        "colab": {
          "base_uri": "https://localhost:8080/"
        },
        "id": "jZmqTvmYH1OP"
      },
      "execution_count": 109,
      "outputs": [
        {
          "output_type": "stream",
          "name": "stdout",
          "text": [
            "+---------+---+\n",
            "|Education|cnt|\n",
            "+---------+---+\n",
            "|        5| 48|\n",
            "|        4|398|\n",
            "|        3|572|\n",
            "|        2|282|\n",
            "|        1|170|\n",
            "+---------+---+\n",
            "\n"
          ]
        }
      ]
    },
    {
      "cell_type": "code",
      "source": [
        "df.show(3)"
      ],
      "metadata": {
        "colab": {
          "base_uri": "https://localhost:8080/"
        },
        "id": "v8ivfBdyuVNT",
        "outputId": "812e7617-249d-4689-f70d-3fbe4ae6a106"
      },
      "execution_count": 110,
      "outputs": [
        {
          "output_type": "stream",
          "name": "stdout",
          "text": [
            "+---+-------------+--------------------+------+---------+---------+\n",
            "|Age|MonthlyIncome|          Department|Gender|Education|Attrition|\n",
            "+---+-------------+--------------------+------+---------+---------+\n",
            "| 41|         5993|               Sales|Female|        2|      Yes|\n",
            "| 49|         5130|Research & Develo...|  Male|        1|       No|\n",
            "| 37|         2090|Research & Develo...|  Male|        2|      Yes|\n",
            "+---+-------------+--------------------+------+---------+---------+\n",
            "only showing top 3 rows\n",
            "\n"
          ]
        }
      ]
    },
    {
      "cell_type": "code",
      "source": [
        "# 5) Процент увольнений (Attrition) по департаментам\n",
        "# (Department, total_employees, attrition_count, attrition_rate)\n",
        "spark.sql(\"\"\"\n",
        "  select\n",
        "    Department,\n",
        "    count(*) as cnt,\n",
        "\n",
        "    sum(\n",
        "      case\n",
        "        when Attrition = 'Yes'\n",
        "        then 1\n",
        "        else 0\n",
        "      end\n",
        "    ) as attrition_count,\n",
        "\n",
        "    avg(\n",
        "      case\n",
        "        when Attrition = 'No'\n",
        "        then 1\n",
        "        else 0\n",
        "      end\n",
        "    ) as attrition_rate\n",
        "\n",
        "  from df\n",
        "  group by Department\n",
        "\"\"\").show(truncate=False)"
      ],
      "metadata": {
        "outputId": "3c6bf004-ce7b-48b2-8451-841160d37f63",
        "colab": {
          "base_uri": "https://localhost:8080/"
        },
        "id": "W53eIhwtH1OP"
      },
      "execution_count": 114,
      "outputs": [
        {
          "output_type": "stream",
          "name": "stdout",
          "text": [
            "+----------------------+---+---------------+------------------+\n",
            "|Department            |cnt|attrition_count|attrition_rate    |\n",
            "+----------------------+---+---------------+------------------+\n",
            "|Sales                 |446|92             |0.7937219730941704|\n",
            "|Research & Development|961|133            |0.8616024973985432|\n",
            "|Human Resources       |63 |12             |0.8095238095238095|\n",
            "+----------------------+---+---------------+------------------+\n",
            "\n"
          ]
        }
      ]
    },
    {
      "cell_type": "code",
      "source": [
        "# 6) Средний возраст сотрудников по гендеру (Gender, avg_age)\n",
        "..."
      ],
      "metadata": {
        "outputId": "d2c9f69c-5c2d-4d7d-c3ea-bde024120370",
        "colab": {
          "base_uri": "https://localhost:8080/"
        },
        "id": "ZQSiSavUH1OP"
      },
      "execution_count": null,
      "outputs": [
        {
          "output_type": "stream",
          "name": "stdout",
          "text": [
            "+------+-------+\n",
            "|Gender|avg_age|\n",
            "+------+-------+\n",
            "|Female|   37.3|\n",
            "|  Male|   36.7|\n",
            "+------+-------+\n",
            "\n"
          ]
        }
      ]
    },
    {
      "cell_type": "code",
      "source": [
        "# 7) Соотношение мужчин и женщин в департаментах\n",
        "# (Department, male_count, female_count)\n",
        "..."
      ],
      "metadata": {
        "outputId": "bda65b08-d5bb-461d-a479-da9009520e92",
        "colab": {
          "base_uri": "https://localhost:8080/"
        },
        "id": "ZYvduVJWH1OP"
      },
      "execution_count": null,
      "outputs": [
        {
          "output_type": "stream",
          "name": "stdout",
          "text": [
            "+--------------------+----------+------------+\n",
            "|          Department|male_count|female_count|\n",
            "+--------------------+----------+------------+\n",
            "|               Sales|       257|         189|\n",
            "|Research & Develo...|       582|         379|\n",
            "|     Human Resources|        43|          20|\n",
            "+--------------------+----------+------------+\n",
            "\n"
          ]
        }
      ]
    },
    {
      "cell_type": "code",
      "source": [
        "# 8) Возрастающий тренд средней зарплаты в зависимости от возраста (Age, avg_income)\n",
        "..."
      ],
      "metadata": {
        "outputId": "e85d7cb3-5e6a-4152-f6cc-06a6e119bd4b",
        "colab": {
          "base_uri": "https://localhost:8080/"
        },
        "id": "Rn98mwfgH1OP"
      },
      "execution_count": null,
      "outputs": [
        {
          "output_type": "stream",
          "name": "stdout",
          "text": [
            "+---+----------+\n",
            "|Age|avg_income|\n",
            "+---+----------+\n",
            "| 18|   1518.38|\n",
            "| 19|    2075.0|\n",
            "| 20|   2539.36|\n",
            "| 21|   2491.46|\n",
            "| 22|    2950.0|\n",
            "| 23|   2515.36|\n",
            "| 24|   3243.92|\n",
            "| 25|   4144.77|\n",
            "| 26|   3531.49|\n",
            "| 27|   4190.42|\n",
            "| 28|   3904.83|\n",
            "| 29|   4584.41|\n",
            "| 30|   4814.85|\n",
            "| 31|   5525.39|\n",
            "| 32|   5092.46|\n",
            "| 33|    5500.5|\n",
            "| 34|   5269.22|\n",
            "| 35|   5425.28|\n",
            "| 36|   5590.91|\n",
            "| 37|   5853.86|\n",
            "+---+----------+\n",
            "only showing top 20 rows\n",
            "\n"
          ]
        }
      ]
    },
    {
      "cell_type": "markdown",
      "metadata": {
        "id": "dXQyk77R-hKp"
      },
      "source": [
        "### `Window function`"
      ]
    },
    {
      "cell_type": "markdown",
      "metadata": {
        "id": "tAwzr1kd-hKp"
      },
      "source": [
        "В SQL запросах часто встречаются оконные функции, которые необходимы при различных для аналитических задач с данными:\n",
        "\n",
        " - нарастающие итоги\n",
        " - скользящие средние\n",
        " - ранжирование\n",
        "\n",
        "\n",
        "**Оконная функция в SQL** - функция, которая работает с выделенным набором строк (окном, партицией) и выполняет вычисление для этого набора строк в отдельном столбце."
      ]
    },
    {
      "cell_type": "markdown",
      "metadata": {
        "id": "HNzYoQ-0-hKp"
      },
      "source": [
        "##### `Сравнение оконной функции с групировкой`"
      ]
    },
    {
      "cell_type": "markdown",
      "metadata": {
        "id": "YPnBZSwO-hKq"
      },
      "source": [
        "![window_func](https://github.com/ekolmagorov/spark_hse_dpo/blob/ds-14/Lectures/Lecture4/images/window_func.png?raw=1)"
      ]
    },
    {
      "cell_type": "markdown",
      "metadata": {
        "id": "FotiVera-hKq"
      },
      "source": [
        "В pyspark также есть возможность работы с оконными функциями"
      ]
    },
    {
      "cell_type": "code",
      "source": [
        "from pyspark.sql.window import Window\n",
        "from pyspark.sql.functions import col, avg, rank, lag, lead, row_number"
      ],
      "metadata": {
        "id": "B5q6VCx2l0my"
      },
      "execution_count": 129,
      "outputs": []
    },
    {
      "cell_type": "code",
      "source": [
        "# Создание датафрейма\n",
        "data = [\n",
        "    (41, 5993, \"Sales\", \"Female\", 2, \"Yes\"),\n",
        "    (49, 5130, \"Research & Development\", \"Male\", 1, \"No\"),\n",
        "    (37, 2090, \"Research & Development\", \"Male\", 2, \"Yes\"),\n",
        "    (33, 2909, \"Research & Development\", \"Female\", 4, \"No\")\n",
        "]\n",
        "\n",
        "columns = [\"Age\", \"MonthlyIncome\", \"Department\", \"Gender\", \"Education\", \"Attrition\"]\n",
        "df = spark.createDataFrame(data, columns)\n",
        "\n",
        "# Вывод результата\n",
        "df.show()"
      ],
      "metadata": {
        "colab": {
          "base_uri": "https://localhost:8080/"
        },
        "id": "Uxn1HpuClxIM",
        "outputId": "e8ecf786-0a37-4744-fedd-cbdbe68b6463"
      },
      "execution_count": 123,
      "outputs": [
        {
          "output_type": "stream",
          "name": "stdout",
          "text": [
            "+---+-------------+--------------------+------+---------+---------+\n",
            "|Age|MonthlyIncome|          Department|Gender|Education|Attrition|\n",
            "+---+-------------+--------------------+------+---------+---------+\n",
            "| 41|         5993|               Sales|Female|        2|      Yes|\n",
            "| 49|         5130|Research & Develo...|  Male|        1|       No|\n",
            "| 37|         2090|Research & Develo...|  Male|        2|      Yes|\n",
            "| 33|         2909|Research & Develo...|Female|        4|       No|\n",
            "+---+-------------+--------------------+------+---------+---------+\n",
            "\n"
          ]
        }
      ]
    },
    {
      "cell_type": "code",
      "source": [
        "# Определение окна по отделу\n",
        "window_department = Window.partitionBy(\"Department\")\n",
        "\n",
        "# Задача 1: Средний доход по отделу\n",
        "df = df.withColumn(\"AvgIncomeByDept\", F.round(avg(col(\"MonthlyIncome\")).over(window_department), 2))\n",
        "df.show()"
      ],
      "metadata": {
        "colab": {
          "base_uri": "https://localhost:8080/"
        },
        "id": "uSU75umvmB9t",
        "outputId": "acfb0243-4a30-485e-8522-734b4375f302"
      },
      "execution_count": 126,
      "outputs": [
        {
          "output_type": "stream",
          "name": "stdout",
          "text": [
            "+---+-------------+--------------------+------+---------+---------+---------------+\n",
            "|Age|MonthlyIncome|          Department|Gender|Education|Attrition|AvgIncomeByDept|\n",
            "+---+-------------+--------------------+------+---------+---------+---------------+\n",
            "| 49|         5130|Research & Develo...|  Male|        1|       No|        3376.33|\n",
            "| 37|         2090|Research & Develo...|  Male|        2|      Yes|        3376.33|\n",
            "| 33|         2909|Research & Develo...|Female|        4|       No|        3376.33|\n",
            "| 41|         5993|               Sales|Female|        2|      Yes|         5993.0|\n",
            "+---+-------------+--------------------+------+---------+---------+---------------+\n",
            "\n"
          ]
        }
      ]
    },
    {
      "cell_type": "code",
      "source": [
        "# Задача 2: Разница между доходом сотрудника и средним доходом по отделу\n",
        "df = df.withColumn(\"IncomeDifference\", F.abs(col(\"MonthlyIncome\") - col(\"AvgIncomeByDept\")))\n",
        "df.show()"
      ],
      "metadata": {
        "colab": {
          "base_uri": "https://localhost:8080/"
        },
        "id": "YsDaCsV2mGJt",
        "outputId": "51344a59-6835-4c5a-9df1-f43ed254ea7d"
      },
      "execution_count": 128,
      "outputs": [
        {
          "output_type": "stream",
          "name": "stdout",
          "text": [
            "+---+-------------+--------------------+------+---------+---------+---------------+-----------------+\n",
            "|Age|MonthlyIncome|          Department|Gender|Education|Attrition|AvgIncomeByDept| IncomeDifference|\n",
            "+---+-------------+--------------------+------+---------+---------+---------------+-----------------+\n",
            "| 49|         5130|Research & Develo...|  Male|        1|       No|        3376.33|          1753.67|\n",
            "| 37|         2090|Research & Develo...|  Male|        2|      Yes|        3376.33|          1286.33|\n",
            "| 33|         2909|Research & Develo...|Female|        4|       No|        3376.33|467.3299999999999|\n",
            "| 41|         5993|               Sales|Female|        2|      Yes|         5993.0|              0.0|\n",
            "+---+-------------+--------------------+------+---------+---------+---------------+-----------------+\n",
            "\n"
          ]
        }
      ]
    },
    {
      "cell_type": "code",
      "source": [
        "# Уникальные id сотрудника по департаменту\n",
        "window_row_number = Window.partitionBy(\"Department\").orderBy(col(\"MonthlyIncome\").desc())\n",
        "\n",
        "df = df.withColumn(\"IncomeRowNumber\", row_number().over(window_row_number))\n",
        "df.show()"
      ],
      "metadata": {
        "colab": {
          "base_uri": "https://localhost:8080/"
        },
        "id": "B57OENzD2WbP",
        "outputId": "82a7d84a-4269-4db2-8574-16271e5870af"
      },
      "execution_count": 132,
      "outputs": [
        {
          "output_type": "stream",
          "name": "stdout",
          "text": [
            "+---+-------------+--------------------+------+---------+---------+---------------+-----------------+---------------+\n",
            "|Age|MonthlyIncome|          Department|Gender|Education|Attrition|AvgIncomeByDept| IncomeDifference|IncomeRowNumber|\n",
            "+---+-------------+--------------------+------+---------+---------+---------------+-----------------+---------------+\n",
            "| 49|         5130|Research & Develo...|  Male|        1|       No|        3376.33|          1753.67|              1|\n",
            "| 33|         2909|Research & Develo...|Female|        4|       No|        3376.33|467.3299999999999|              2|\n",
            "| 37|         2090|Research & Develo...|  Male|        2|      Yes|        3376.33|          1286.33|              3|\n",
            "| 41|         5993|               Sales|Female|        2|      Yes|         5993.0|              0.0|              1|\n",
            "+---+-------------+--------------------+------+---------+---------+---------------+-----------------+---------------+\n",
            "\n"
          ]
        }
      ]
    },
    {
      "cell_type": "code",
      "source": [
        "# Задача 3: Ранг дохода сотрудника внутри отдела (по убыванию)\n",
        "window_rank = Window.partitionBy(\"Department\").orderBy(col(\"MonthlyIncome\").desc())\n",
        "df = df.withColumn(\"IncomeRank\", rank().over(window_rank))\n",
        "df.show()"
      ],
      "metadata": {
        "colab": {
          "base_uri": "https://localhost:8080/"
        },
        "id": "Dre-jvC5lw-Y",
        "outputId": "2f6e7fd7-05b0-457c-9e4e-2a89cfe0c2d4"
      },
      "execution_count": 69,
      "outputs": [
        {
          "output_type": "stream",
          "name": "stdout",
          "text": [
            "+---+-------------+--------------------+------+---------+---------+------------------+-------------------+----------+\n",
            "|Age|MonthlyIncome|          Department|Gender|Education|Attrition|   AvgIncomeByDept|   IncomeDifference|IncomeRank|\n",
            "+---+-------------+--------------------+------+---------+---------+------------------+-------------------+----------+\n",
            "| 49|         5130|Research & Develo...|  Male|        1|       No|3376.3333333333335| 1753.6666666666665|         1|\n",
            "| 33|         2909|Research & Develo...|Female|        4|       No|3376.3333333333335| -467.3333333333335|         2|\n",
            "| 37|         2090|Research & Develo...|  Male|        2|      Yes|3376.3333333333335|-1286.3333333333335|         3|\n",
            "| 41|         5993|               Sales|Female|        2|      Yes|            5993.0|                0.0|         1|\n",
            "+---+-------------+--------------------+------+---------+---------+------------------+-------------------+----------+\n",
            "\n"
          ]
        }
      ]
    },
    {
      "cell_type": "code",
      "source": [
        "# Задача 4: Предыдущее и следующее значение дохода сотрудника внутри отдела\n",
        "df = df.withColumn(\"PrevIncome\", lag(\"MonthlyIncome\").over(window_rank))\n",
        "df = df.withColumn(\"NextIncome\", lead(\"MonthlyIncome\").over(window_rank))\n",
        "\n",
        "# Вывод результата\n",
        "df.show()"
      ],
      "metadata": {
        "colab": {
          "base_uri": "https://localhost:8080/"
        },
        "id": "3Y-_kUVfmPRK",
        "outputId": "f03a8c37-1217-4894-bb76-098eb3b3815b"
      },
      "execution_count": 133,
      "outputs": [
        {
          "output_type": "stream",
          "name": "stdout",
          "text": [
            "+---+-------------+--------------------+------+---------+---------+---------------+-----------------+---------------+----------+----------+\n",
            "|Age|MonthlyIncome|          Department|Gender|Education|Attrition|AvgIncomeByDept| IncomeDifference|IncomeRowNumber|PrevIncome|NextIncome|\n",
            "+---+-------------+--------------------+------+---------+---------+---------------+-----------------+---------------+----------+----------+\n",
            "| 49|         5130|Research & Develo...|  Male|        1|       No|        3376.33|          1753.67|              1|      NULL|      2909|\n",
            "| 33|         2909|Research & Develo...|Female|        4|       No|        3376.33|467.3299999999999|              2|      5130|      2090|\n",
            "| 37|         2090|Research & Develo...|  Male|        2|      Yes|        3376.33|          1286.33|              3|      2909|      NULL|\n",
            "| 41|         5993|               Sales|Female|        2|      Yes|         5993.0|              0.0|              1|      NULL|      NULL|\n",
            "+---+-------------+--------------------+------+---------+---------+---------------+-----------------+---------------+----------+----------+\n",
            "\n"
          ]
        }
      ]
    },
    {
      "cell_type": "code",
      "source": [],
      "metadata": {
        "id": "ol7RbFcdl4V8"
      },
      "execution_count": null,
      "outputs": []
    },
    {
      "cell_type": "code",
      "execution_count": null,
      "metadata": {
        "ExecuteTime": {
          "end_time": "2023-02-05T17:48:16.350717Z",
          "start_time": "2023-02-05T17:48:16.347907Z"
        },
        "id": "wUpIp4Xl-hKq"
      },
      "outputs": [],
      "source": [
        "# импортируем модуль, в котором располагаются оконные функции\n",
        "from pyspark.sql.window import Window"
      ]
    },
    {
      "cell_type": "code",
      "execution_count": null,
      "metadata": {
        "ExecuteTime": {
          "end_time": "2023-02-05T17:48:17.196801Z",
          "start_time": "2023-02-05T17:48:16.872989Z"
        },
        "id": "j3dohjKH-hKq",
        "outputId": "c44d7cc2-7b1b-4cce-b5ea-e48dadc1a09a",
        "colab": {
          "base_uri": "https://localhost:8080/"
        }
      },
      "outputs": [
        {
          "output_type": "stream",
          "name": "stdout",
          "text": [
            "root\n",
            " |-- emp_id: string (nullable = true)\n",
            " |-- dept_id: string (nullable = true)\n",
            " |-- salary: long (nullable = true)\n",
            "\n",
            "+-------+---------+------+\n",
            "|emp_id |dept_id  |salary|\n",
            "+-------+---------+------+\n",
            "|James  |Sales    |3000  |\n",
            "|Michael|Sales    |4600  |\n",
            "|Robert |Sales    |4100  |\n",
            "|Maria  |Finance  |3000  |\n",
            "|Scott  |Finance  |3300  |\n",
            "|Jen    |Finance  |3900  |\n",
            "|Jeff   |Marketing|3000  |\n",
            "|Kumar  |Marketing|2000  |\n",
            "|Saif   |Sales    |4100  |\n",
            "+-------+---------+------+\n",
            "\n"
          ]
        },
        {
          "output_type": "execute_result",
          "data": {
            "text/plain": [
              "(None, None)"
            ]
          },
          "metadata": {},
          "execution_count": 37
        }
      ],
      "source": [
        "data = [\n",
        "    ('James', 'Sales', 3000),\n",
        "    ('Michael', 'Sales', 4600),\n",
        "    ('Robert', 'Sales', 4100),\n",
        "    ('Maria', 'Finance', 3000),\n",
        "    ('Scott', 'Finance', 3300),\n",
        "    ('Jen', 'Finance', 3900),\n",
        "    ('Jeff', 'Marketing', 3000),\n",
        "    ('Kumar', 'Marketing', 2000),\n",
        "    ('Saif', 'Sales', 4100)\n",
        "]\n",
        "\n",
        "columns = [\"emp_id\", \"dept_id\", \"salary\"]\n",
        "df = spark.createDataFrame(data=data, schema=columns)\n",
        "df.printSchema(), df.show(truncate=False)"
      ]
    },
    {
      "cell_type": "markdown",
      "metadata": {
        "id": "nd5md41E-hKq"
      },
      "source": [
        "Cоздадим новую таблицу, в которой будет с агрегирована информация о средней зарплате в пределах департамента и объеденим её с таблицей с информацией о сотрудниках"
      ]
    },
    {
      "cell_type": "code",
      "execution_count": null,
      "metadata": {
        "ExecuteTime": {
          "end_time": "2023-02-05T17:48:18.373245Z",
          "start_time": "2023-02-05T17:48:17.740127Z"
        },
        "id": "D4FV8xdu-hKq",
        "outputId": "bcdb961f-0ec4-4c94-80d6-bb3db9c94ff3",
        "colab": {
          "base_uri": "https://localhost:8080/"
        }
      },
      "outputs": [
        {
          "output_type": "stream",
          "name": "stdout",
          "text": [
            "+---------+-------+------+----------+\n",
            "|  dept_id| emp_id|salary|avg_salary|\n",
            "+---------+-------+------+----------+\n",
            "|    Sales|  James|  3000|    3950.0|\n",
            "|    Sales|Michael|  4600|    3950.0|\n",
            "|    Sales| Robert|  4100|    3950.0|\n",
            "|  Finance|  Maria|  3000|    3400.0|\n",
            "|    Sales|   Saif|  4100|    3950.0|\n",
            "|  Finance|  Scott|  3300|    3400.0|\n",
            "|  Finance|    Jen|  3900|    3400.0|\n",
            "|Marketing|   Jeff|  3000|    2500.0|\n",
            "|Marketing|  Kumar|  2000|    2500.0|\n",
            "+---------+-------+------+----------+\n",
            "\n"
          ]
        }
      ],
      "source": [
        "avg_salaries_df = df.groupBy(\n",
        "    df.dept_id # по какому полю агрегируем\n",
        ").agg(\n",
        "    F.mean(df.salary # функция агрегации\n",
        ").alias('avg_salary')) # задаём имя новой колнке\n",
        "\n",
        "# объединяем с таблицей сотрудников\n",
        "df.join(avg_salaries_df, on='dept_id', how='inner').show()"
      ]
    },
    {
      "cell_type": "code",
      "execution_count": null,
      "metadata": {
        "ExecuteTime": {
          "end_time": "2023-02-05T17:48:18.796575Z",
          "start_time": "2023-02-05T17:48:18.376876Z"
        },
        "id": "WY5hXQ2c-hKq",
        "outputId": "91e4ac23-87ce-439a-acb0-a1b75faf6fcc",
        "colab": {
          "base_uri": "https://localhost:8080/"
        }
      },
      "outputs": [
        {
          "output_type": "stream",
          "name": "stdout",
          "text": [
            "+-------+---------+------+------------------------+----------+\n",
            "|emp_id |dept_id  |salary|salaries_list           |avg_salary|\n",
            "+-------+---------+------+------------------------+----------+\n",
            "|Maria  |Finance  |3000  |[3000, 3300, 3900]      |3400.0    |\n",
            "|Scott  |Finance  |3300  |[3000, 3300, 3900]      |3400.0    |\n",
            "|Jen    |Finance  |3900  |[3000, 3300, 3900]      |3400.0    |\n",
            "|Jeff   |Marketing|3000  |[3000, 2000]            |2500.0    |\n",
            "|Kumar  |Marketing|2000  |[3000, 2000]            |2500.0    |\n",
            "|James  |Sales    |3000  |[3000, 4600, 4100, 4100]|3950.0    |\n",
            "|Michael|Sales    |4600  |[3000, 4600, 4100, 4100]|3950.0    |\n",
            "|Robert |Sales    |4100  |[3000, 4600, 4100, 4100]|3950.0    |\n",
            "|Saif   |Sales    |4100  |[3000, 4600, 4100, 4100]|3950.0    |\n",
            "+-------+---------+------+------------------------+----------+\n",
            "\n"
          ]
        }
      ],
      "source": [
        "# создаём окно, в котором указываем по какому полю будет происходит создание окон\n",
        "wspec = Window.partitionBy('dept_id')\n",
        "\n",
        "(\n",
        "    df\n",
        "        .withColumn( # собираем зарплаты сотрудников в пределах своего департамента\n",
        "            'salaries_list',\n",
        "            F.collect_list(df.salary).over(wspec)\n",
        "        )\n",
        "        .withColumn(\n",
        "            'avg_salary', # считаем среднюю зарплату в пределах департамента\n",
        "            F.mean(df.salary).over(wspec)\n",
        "        )\n",
        ").show(truncate=False)"
      ]
    },
    {
      "cell_type": "markdown",
      "metadata": {
        "id": "vUadM3sr-hKq"
      },
      "source": [
        "Помимо указания полей, по которым будут созданы окна (partitionBy), можно ещё указать по какому полю должны быть упорядочены значения в пределах одного окна (orderBy). При добвалении порядка вычисление значений на основе оконной функции происходит последовательно, а не сразу."
      ]
    },
    {
      "cell_type": "code",
      "execution_count": null,
      "metadata": {
        "ExecuteTime": {
          "end_time": "2023-02-05T17:48:19.222300Z",
          "start_time": "2023-02-05T17:48:18.799787Z"
        },
        "id": "_XlkisKF-hKq",
        "outputId": "1f322d2a-5a8b-4ac8-8cf0-534d251256a3",
        "colab": {
          "base_uri": "https://localhost:8080/"
        }
      },
      "outputs": [
        {
          "output_type": "stream",
          "name": "stdout",
          "text": [
            "+-------+---------+------+--------------------+----------+------------------+\n",
            "| emp_id|  dept_id|salary|       salaries_list|row_number|        avg_salary|\n",
            "+-------+---------+------+--------------------+----------+------------------+\n",
            "|  Maria|  Finance|  3000|              [3000]|         1|            3000.0|\n",
            "|  Scott|  Finance|  3300|        [3000, 3300]|         2|            3150.0|\n",
            "|    Jen|  Finance|  3900|  [3000, 3300, 3900]|         3|            3400.0|\n",
            "|  Kumar|Marketing|  2000|              [2000]|         1|            2000.0|\n",
            "|   Jeff|Marketing|  3000|        [2000, 3000]|         2|            2500.0|\n",
            "|  James|    Sales|  3000|              [3000]|         1|            3000.0|\n",
            "| Robert|    Sales|  4100|  [3000, 4100, 4100]|         2|3733.3333333333335|\n",
            "|   Saif|    Sales|  4100|  [3000, 4100, 4100]|         3|3733.3333333333335|\n",
            "|Michael|    Sales|  4600|[3000, 4100, 4100...|         4|            3950.0|\n",
            "+-------+---------+------+--------------------+----------+------------------+\n",
            "\n"
          ]
        }
      ],
      "source": [
        "# создаём окна по полю dep_id и упорядочеваем значения в них на основе поля salary\n",
        "wspec = Window.partitionBy('dept_id').orderBy('salary')\n",
        "(\n",
        "    df\n",
        "        # последовательно собираем список зарплат сотрудников в одном департаменте\n",
        "        .withColumn(\n",
        "            'salaries_list',\n",
        "            F.collect_list(df.salary).over(wspec)\n",
        "        )\n",
        "        # функцией row_number указываем порядок зарплаты сотрудника в пределах своего депратамента\n",
        "        .withColumn(\n",
        "            'row_number',\n",
        "            F.row_number().over(wspec)\n",
        "        )\n",
        "        # последовательно считаем среднеюю зарплату сотрудников в пределах своего департамента\n",
        "        .withColumn(\n",
        "            'avg_salary',\n",
        "            F.mean(df.salary).over(wspec)\n",
        "        )\n",
        ").show(truncate=True)"
      ]
    },
    {
      "cell_type": "markdown",
      "metadata": {
        "id": "LAvBW2Y6-hKr"
      },
      "source": [
        "Ещё наиболее частотные оконные функции:\n",
        " - lag(colname, N) - значение столбца сolname, который отстаёт от данного на N элементов\n",
        " - lag(colname, M) - значение столбца сolname, который опережает данный на M элементов"
      ]
    },
    {
      "cell_type": "code",
      "execution_count": null,
      "metadata": {
        "ExecuteTime": {
          "end_time": "2023-02-05T17:48:20.312702Z",
          "start_time": "2023-02-05T17:48:19.930349Z"
        },
        "id": "t5-E6-3Z-hKr",
        "outputId": "1bf81442-1a2e-4b5c-fd1f-29994c26db11",
        "colab": {
          "base_uri": "https://localhost:8080/"
        }
      },
      "outputs": [
        {
          "output_type": "stream",
          "name": "stdout",
          "text": [
            "+-------+---------+------+------------------------+------------------+----+----+\n",
            "|emp_id |dept_id  |salary|salaries_list           |avg_salary        |lag |lead|\n",
            "+-------+---------+------+------------------------+------------------+----+----+\n",
            "|Maria  |Finance  |3000  |[3000]                  |3000.0            |NULL|3300|\n",
            "|Scott  |Finance  |3300  |[3000, 3300]            |3150.0            |3000|3900|\n",
            "|Jen    |Finance  |3900  |[3000, 3300, 3900]      |3400.0            |3300|NULL|\n",
            "|Kumar  |Marketing|2000  |[2000]                  |2000.0            |NULL|3000|\n",
            "|Jeff   |Marketing|3000  |[2000, 3000]            |2500.0            |2000|NULL|\n",
            "|James  |Sales    |3000  |[3000]                  |3000.0            |NULL|4100|\n",
            "|Robert |Sales    |4100  |[3000, 4100, 4100]      |3733.3333333333335|3000|4100|\n",
            "|Saif   |Sales    |4100  |[3000, 4100, 4100]      |3733.3333333333335|4100|4600|\n",
            "|Michael|Sales    |4600  |[3000, 4100, 4100, 4600]|3950.0            |4100|NULL|\n",
            "+-------+---------+------+------------------------+------------------+----+----+\n",
            "\n"
          ]
        }
      ],
      "source": [
        "wspec = Window.partitionBy('dept_id').orderBy('salary')\n",
        "(\n",
        "    df\n",
        "        .withColumn('salaries_list', F.collect_list(df.salary).over(wspec))\n",
        "        .withColumn('avg_salary', F.mean(df.salary).over(wspec))\n",
        "        .withColumn('lag', F.lag(df.salary, 1).over(wspec))\n",
        "        .withColumn('lead', F.lead(df.salary, 1).over(wspec))\n",
        ").show(truncate=False)"
      ]
    },
    {
      "cell_type": "markdown",
      "source": [
        "### `Join`"
      ],
      "metadata": {
        "id": "93HYKsepOX19"
      }
    },
    {
      "cell_type": "code",
      "source": [
        "emp = [(1,\"Smith\",-1,\"2018\",\"10\",\"M\",3000), \\\n",
        "    (2,\"Rose\",1,\"2010\",\"20\",\"M\",4000), \\\n",
        "    (3,\"Williams\",1,\"2010\",\"10\",\"M\",1000), \\\n",
        "    (4,\"Jones\",2,\"2005\",\"10\",\"F\",2000), \\\n",
        "    (5,\"Brown\",2,\"2010\",\"40\",\"\",-1), \\\n",
        "      (6,\"Brown\",2,\"2010\",\"50\",\"\",-1) \\\n",
        "  ]\n",
        "empColumns = [\"emp_id\",\"name\",\"superior_emp_id\",\"year_joined\", \\\n",
        "       \"emp_dept_id\",\"gender\",\"salary\"]\n",
        "\n",
        "empDF = spark.createDataFrame(data=emp, schema = empColumns)\n",
        "empDF.printSchema()\n",
        "empDF.show(truncate=False)\n",
        "\n",
        "dept = [(\"Finance\",10), \\\n",
        "    (\"Marketing\",20), \\\n",
        "    (\"Sales\",30), \\\n",
        "    (\"IT\",40) \\\n",
        "  ]\n",
        "deptColumns = [\"dept_name\",\"dept_id\"]\n",
        "deptDF = spark.createDataFrame(data=dept, schema = deptColumns)\n",
        "deptDF.printSchema()\n",
        "deptDF.show(truncate=False)"
      ],
      "metadata": {
        "id": "3VpfcW1sOY1s",
        "outputId": "8aa867c2-42ff-46f3-b1cf-718ea744a719",
        "colab": {
          "base_uri": "https://localhost:8080/"
        }
      },
      "execution_count": 64,
      "outputs": [
        {
          "output_type": "stream",
          "name": "stdout",
          "text": [
            "root\n",
            " |-- emp_id: long (nullable = true)\n",
            " |-- name: string (nullable = true)\n",
            " |-- superior_emp_id: long (nullable = true)\n",
            " |-- year_joined: string (nullable = true)\n",
            " |-- emp_dept_id: string (nullable = true)\n",
            " |-- gender: string (nullable = true)\n",
            " |-- salary: long (nullable = true)\n",
            "\n",
            "+------+--------+---------------+-----------+-----------+------+------+\n",
            "|emp_id|name    |superior_emp_id|year_joined|emp_dept_id|gender|salary|\n",
            "+------+--------+---------------+-----------+-----------+------+------+\n",
            "|1     |Smith   |-1             |2018       |10         |M     |3000  |\n",
            "|2     |Rose    |1              |2010       |20         |M     |4000  |\n",
            "|3     |Williams|1              |2010       |10         |M     |1000  |\n",
            "|4     |Jones   |2              |2005       |10         |F     |2000  |\n",
            "|5     |Brown   |2              |2010       |40         |      |-1    |\n",
            "|6     |Brown   |2              |2010       |50         |      |-1    |\n",
            "+------+--------+---------------+-----------+-----------+------+------+\n",
            "\n",
            "root\n",
            " |-- dept_name: string (nullable = true)\n",
            " |-- dept_id: long (nullable = true)\n",
            "\n",
            "+---------+-------+\n",
            "|dept_name|dept_id|\n",
            "+---------+-------+\n",
            "|Finance  |10     |\n",
            "|Marketing|20     |\n",
            "|Sales    |30     |\n",
            "|IT       |40     |\n",
            "+---------+-------+\n",
            "\n"
          ]
        }
      ]
    },
    {
      "cell_type": "code",
      "source": [
        "# Inner join\n",
        "(\n",
        "  empDF\n",
        "  .join(\n",
        "      deptDF,\n",
        "      empDF.emp_dept_id == deptDF.dept_id,\n",
        "      \"inner\"\n",
        "  ).orderBy(\"emp_id\").show(truncate=False)\n",
        ")"
      ],
      "metadata": {
        "id": "Z5Bmej4uOf0o",
        "outputId": "981b9496-8c6a-470c-f0f5-5d45edcb3a9a",
        "colab": {
          "base_uri": "https://localhost:8080/"
        }
      },
      "execution_count": 117,
      "outputs": [
        {
          "output_type": "stream",
          "name": "stdout",
          "text": [
            "+------+--------+---------------+-----------+-----------+------+------+---------+-------+\n",
            "|emp_id|name    |superior_emp_id|year_joined|emp_dept_id|gender|salary|dept_name|dept_id|\n",
            "+------+--------+---------------+-----------+-----------+------+------+---------+-------+\n",
            "|1     |Smith   |-1             |2018       |10         |M     |3000  |Finance  |10     |\n",
            "|2     |Rose    |1              |2010       |20         |M     |4000  |Marketing|20     |\n",
            "|3     |Williams|1              |2010       |10         |M     |1000  |Finance  |10     |\n",
            "|4     |Jones   |2              |2005       |10         |F     |2000  |Finance  |10     |\n",
            "|5     |Brown   |2              |2010       |40         |      |-1    |IT       |40     |\n",
            "+------+--------+---------------+-----------+-----------+------+------+---------+-------+\n",
            "\n"
          ]
        }
      ]
    },
    {
      "cell_type": "code",
      "source": [
        "# Left outer join\n",
        "\n",
        "(\n",
        "  empDF\n",
        "  .join(\n",
        "      deptDF,\n",
        "      empDF.emp_dept_id == deptDF.dept_id,\n",
        "      \"left\"\n",
        "  ).orderBy(\"emp_id\").show(truncate=False)\n",
        ")"
      ],
      "metadata": {
        "id": "Rewi-eX2Oi0X",
        "outputId": "224d8cf2-7122-4f89-fb8d-d39c9a74b29d",
        "colab": {
          "base_uri": "https://localhost:8080/"
        }
      },
      "execution_count": 119,
      "outputs": [
        {
          "output_type": "stream",
          "name": "stdout",
          "text": [
            "+------+--------+---------------+-----------+-----------+------+------+---------+-------+\n",
            "|emp_id|name    |superior_emp_id|year_joined|emp_dept_id|gender|salary|dept_name|dept_id|\n",
            "+------+--------+---------------+-----------+-----------+------+------+---------+-------+\n",
            "|1     |Smith   |-1             |2018       |10         |M     |3000  |Finance  |10     |\n",
            "|2     |Rose    |1              |2010       |20         |M     |4000  |Marketing|20     |\n",
            "|3     |Williams|1              |2010       |10         |M     |1000  |Finance  |10     |\n",
            "|4     |Jones   |2              |2005       |10         |F     |2000  |Finance  |10     |\n",
            "|5     |Brown   |2              |2010       |40         |      |-1    |IT       |40     |\n",
            "|6     |Brown   |2              |2010       |50         |      |-1    |NULL     |NULL   |\n",
            "+------+--------+---------------+-----------+-----------+------+------+---------+-------+\n",
            "\n"
          ]
        }
      ]
    },
    {
      "cell_type": "code",
      "source": [
        "# Right outer join\n",
        "(\n",
        "  empDF\n",
        "  .join(\n",
        "      deptDF,\n",
        "      empDF.emp_dept_id ==  deptDF.dept_id,\n",
        "      \"right\"\n",
        "  ).orderBy(\"emp_id\").show(truncate=False)\n",
        ")"
      ],
      "metadata": {
        "id": "7wIB69VTOiwF",
        "outputId": "708af366-684c-4673-fe00-4d4060d39ec8",
        "colab": {
          "base_uri": "https://localhost:8080/"
        }
      },
      "execution_count": 120,
      "outputs": [
        {
          "output_type": "stream",
          "name": "stdout",
          "text": [
            "+------+--------+---------------+-----------+-----------+------+------+---------+-------+\n",
            "|emp_id|name    |superior_emp_id|year_joined|emp_dept_id|gender|salary|dept_name|dept_id|\n",
            "+------+--------+---------------+-----------+-----------+------+------+---------+-------+\n",
            "|NULL  |NULL    |NULL           |NULL       |NULL       |NULL  |NULL  |Sales    |30     |\n",
            "|1     |Smith   |-1             |2018       |10         |M     |3000  |Finance  |10     |\n",
            "|2     |Rose    |1              |2010       |20         |M     |4000  |Marketing|20     |\n",
            "|3     |Williams|1              |2010       |10         |M     |1000  |Finance  |10     |\n",
            "|4     |Jones   |2              |2005       |10         |F     |2000  |Finance  |10     |\n",
            "|5     |Brown   |2              |2010       |40         |      |-1    |IT       |40     |\n",
            "+------+--------+---------------+-----------+-----------+------+------+---------+-------+\n",
            "\n"
          ]
        }
      ]
    },
    {
      "cell_type": "code",
      "source": [
        "# Full outer join\n",
        "(\n",
        "  empDF\n",
        "  .join(\n",
        "      deptDF,\n",
        "      empDF.emp_dept_id == deptDF.dept_id,\n",
        "      \"full\"\n",
        "  ).orderBy(\"emp_id\").show(truncate=False)\n",
        ")"
      ],
      "metadata": {
        "id": "XdM8qSGWOiuF",
        "outputId": "1b9f25b9-f4cf-47bb-9f88-48cecf1de77f",
        "colab": {
          "base_uri": "https://localhost:8080/"
        }
      },
      "execution_count": 121,
      "outputs": [
        {
          "output_type": "stream",
          "name": "stdout",
          "text": [
            "+------+--------+---------------+-----------+-----------+------+------+---------+-------+\n",
            "|emp_id|name    |superior_emp_id|year_joined|emp_dept_id|gender|salary|dept_name|dept_id|\n",
            "+------+--------+---------------+-----------+-----------+------+------+---------+-------+\n",
            "|NULL  |NULL    |NULL           |NULL       |NULL       |NULL  |NULL  |Sales    |30     |\n",
            "|1     |Smith   |-1             |2018       |10         |M     |3000  |Finance  |10     |\n",
            "|2     |Rose    |1              |2010       |20         |M     |4000  |Marketing|20     |\n",
            "|3     |Williams|1              |2010       |10         |M     |1000  |Finance  |10     |\n",
            "|4     |Jones   |2              |2005       |10         |F     |2000  |Finance  |10     |\n",
            "|5     |Brown   |2              |2010       |40         |      |-1    |IT       |40     |\n",
            "|6     |Brown   |2              |2010       |50         |      |-1    |NULL     |NULL   |\n",
            "+------+--------+---------------+-----------+-----------+------+------+---------+-------+\n",
            "\n"
          ]
        }
      ]
    },
    {
      "cell_type": "code",
      "source": [
        "# Left semi join\n",
        "empDF.join(deptDF,empDF.emp_dept_id ==  deptDF.dept_id,\"leftsemi\") \\\n",
        "   .show(truncate=False)"
      ],
      "metadata": {
        "id": "DqO0HsiGOiex",
        "outputId": "ce8fe634-d925-4713-8d1e-999607e23e5f",
        "colab": {
          "base_uri": "https://localhost:8080/"
        }
      },
      "execution_count": null,
      "outputs": [
        {
          "output_type": "stream",
          "name": "stdout",
          "text": [
            "+------+--------+---------------+-----------+-----------+------+------+\n",
            "|emp_id|name    |superior_emp_id|year_joined|emp_dept_id|gender|salary|\n",
            "+------+--------+---------------+-----------+-----------+------+------+\n",
            "|1     |Smith   |-1             |2018       |10         |M     |3000  |\n",
            "|3     |Williams|1              |2010       |10         |M     |1000  |\n",
            "|4     |Jones   |2              |2005       |10         |F     |2000  |\n",
            "|2     |Rose    |1              |2010       |20         |M     |4000  |\n",
            "|5     |Brown   |2              |2010       |40         |      |-1    |\n",
            "+------+--------+---------------+-----------+-----------+------+------+\n",
            "\n"
          ]
        }
      ]
    },
    {
      "cell_type": "code",
      "source": [
        "# Left anti join\n",
        "empDF.join(deptDF,empDF.emp_dept_id ==  deptDF.dept_id,\"leftanti\") \\\n",
        "   .show(truncate=False)"
      ],
      "metadata": {
        "id": "3bS-gKUgO0HR",
        "outputId": "7f67f509-5d06-41ca-e95d-1058a5279b56",
        "colab": {
          "base_uri": "https://localhost:8080/"
        }
      },
      "execution_count": null,
      "outputs": [
        {
          "output_type": "stream",
          "name": "stdout",
          "text": [
            "+------+-----+---------------+-----------+-----------+------+------+\n",
            "|emp_id|name |superior_emp_id|year_joined|emp_dept_id|gender|salary|\n",
            "+------+-----+---------------+-----------+-----------+------+------+\n",
            "|6     |Brown|2              |2010       |50         |      |-1    |\n",
            "+------+-----+---------------+-----------+-----------+------+------+\n",
            "\n"
          ]
        }
      ]
    },
    {
      "cell_type": "markdown",
      "metadata": {
        "id": "QbDTjNUX-hKr"
      },
      "source": [
        "### `UDF`"
      ]
    },
    {
      "cell_type": "markdown",
      "metadata": {
        "id": "WWqDhJJf-hKr"
      },
      "source": [
        "В предыдущих примеров, при работе с элементами таблиц использовались встроенные методы обработки строк spark таблиц из модуля pyspark.sql.functions. Но фрейморк не запрещает определять свои кастомные функции обработки."
      ]
    },
    {
      "cell_type": "code",
      "execution_count": null,
      "metadata": {
        "ExecuteTime": {
          "end_time": "2023-02-05T17:48:24.610784Z",
          "start_time": "2023-02-05T17:48:22.085861Z"
        },
        "id": "D_RrhjvE-hKs",
        "outputId": "13358d30-b2c8-46b0-e682-46af08d75c0d",
        "colab": {
          "base_uri": "https://localhost:8080/",
          "height": 271
        }
      },
      "outputs": [
        {
          "output_type": "stream",
          "name": "stderr",
          "text": [
            "/usr/local/lib/python3.11/dist-packages/pyspark/sql/pandas/functions.py:407: UserWarning: In Python 3.6+ and Spark 3.0+, it is preferred to specify type hints for pandas UDF instead of specifying pandas UDF type which will be deprecated in the future releases. See SPARK-28264 for more details.\n",
            "  warnings.warn(\n"
          ]
        },
        {
          "output_type": "error",
          "ename": "NameError",
          "evalue": "name 'ratings_df' is not defined",
          "traceback": [
            "\u001b[0;31m---------------------------------------------------------------------------\u001b[0m",
            "\u001b[0;31mNameError\u001b[0m                                 Traceback (most recent call last)",
            "\u001b[0;32m<ipython-input-43-17094690ddc4>\u001b[0m in \u001b[0;36m<cell line: 0>\u001b[0;34m()\u001b[0m\n\u001b[1;32m      5\u001b[0m     \u001b[0;32mreturn\u001b[0m \u001b[0mv\u001b[0m \u001b[0;34m+\u001b[0m \u001b[0;36m1\u001b[0m\u001b[0;34m\u001b[0m\u001b[0;34m\u001b[0m\u001b[0m\n\u001b[1;32m      6\u001b[0m \u001b[0;34m\u001b[0m\u001b[0m\n\u001b[0;32m----> 7\u001b[0;31m \u001b[0mratings_df\u001b[0m\u001b[0;34m.\u001b[0m\u001b[0mselect\u001b[0m\u001b[0;34m(\u001b[0m\u001b[0madd_one\u001b[0m\u001b[0;34m(\u001b[0m\u001b[0mratings_df\u001b[0m\u001b[0;34m.\u001b[0m\u001b[0mrating\u001b[0m\u001b[0;34m)\u001b[0m\u001b[0;34m)\u001b[0m\u001b[0;34m.\u001b[0m\u001b[0mshow\u001b[0m\u001b[0;34m(\u001b[0m\u001b[0;34m)\u001b[0m\u001b[0;34m\u001b[0m\u001b[0;34m\u001b[0m\u001b[0m\n\u001b[0m\u001b[1;32m      8\u001b[0m ratings_df.withColumn(\n\u001b[1;32m      9\u001b[0m     \u001b[0;34m'plus_one'\u001b[0m\u001b[0;34m,\u001b[0m \u001b[0madd_one\u001b[0m\u001b[0;34m(\u001b[0m\u001b[0mratings_df\u001b[0m\u001b[0;34m.\u001b[0m\u001b[0mrating\u001b[0m\u001b[0;34m)\u001b[0m\u001b[0;34m\u001b[0m\u001b[0;34m\u001b[0m\u001b[0m\n",
            "\u001b[0;31mNameError\u001b[0m: name 'ratings_df' is not defined"
          ]
        }
      ],
      "source": [
        "import pandas as pd\n",
        "\n",
        "@F.pandas_udf('double', F.PandasUDFType.SCALAR)\n",
        "def add_one(v):\n",
        "    return v + 1\n",
        "\n",
        "ratings_df.select(add_one(ratings_df.rating)).show()\n",
        "ratings_df.withColumn(\n",
        "    'plus_one', add_one(ratings_df.rating)\n",
        ").show()"
      ]
    },
    {
      "cell_type": "markdown",
      "metadata": {
        "id": "YSuCz9Xg-hKs"
      },
      "source": [
        "Также можно определить свои агрегирующие функции"
      ]
    },
    {
      "cell_type": "code",
      "execution_count": null,
      "metadata": {
        "ExecuteTime": {
          "end_time": "2023-02-05T17:48:26.332484Z",
          "start_time": "2023-02-05T17:48:24.613454Z"
        },
        "id": "yTnYqIkU-hKs",
        "outputId": "aa1ab795-a8f6-4cf6-a9fa-0bd80351525c"
      },
      "outputs": [
        {
          "name": "stderr",
          "output_type": "stream",
          "text": [
            "/usr/local/lib/python3.10/site-packages/pyspark/sql/pandas/group_ops.py:98: UserWarning: It is preferred to use 'applyInPandas' over this API. This API will be deprecated in the future releases. See SPARK-28264 for more details.\n",
            "  warnings.warn(\n",
            "[Stage 101:>                                                        (0 + 1) / 1]\r"
          ]
        },
        {
          "name": "stdout",
          "output_type": "stream",
          "text": [
            "+-------+--------+------------+---------+\n",
            "|user_id|movie_id|      rating|timestamp|\n",
            "+-------+--------+------------+---------+\n",
            "|    181|      31|   0.8865249|977087101|\n",
            "|    195|      31|-0.113475084|991013952|\n",
            "|    203|      31|   -2.113475|976929358|\n",
            "|    223|      31|-0.113475084|976905652|\n",
            "|    268|      31|   0.8865249|976647137|\n",
            "|    368|      31|-0.113475084|976670975|\n",
            "|    517|      31|   0.8865249|976204301|\n",
            "|    524|      31|   -2.113475|976171096|\n",
            "|    528|      31|   1.8865249|980039160|\n",
            "|    531|      31|  -1.1134751|978973034|\n",
            "|    536|      31|-0.113475084|976137228|\n",
            "|    543|      31|   0.8865249|976159357|\n",
            "|    616|      31|-0.113475084|975802599|\n",
            "|    676|      31|   0.8865249|975684957|\n",
            "|    678|      31|   0.8865249|989241973|\n",
            "|    692|      31|-0.113475084|978375055|\n",
            "|    699|      31|-0.113475084|975563262|\n",
            "|    710|      31|-0.113475084|978586309|\n",
            "|    752|      31|   -2.113475|975461295|\n",
            "|    777|      31|-0.113475084|975520841|\n",
            "+-------+--------+------------+---------+\n",
            "only showing top 20 rows\n",
            "\n"
          ]
        },
        {
          "name": "stderr",
          "output_type": "stream",
          "text": [
            "\r",
            "                                                                                \r"
          ]
        }
      ],
      "source": [
        "@F.pandas_udf(ratings_df.schema, F.PandasUDFType.GROUPED_MAP)\n",
        "# Input/output are both a pandas.DataFrame\n",
        "def subtract_mean(pdf):\n",
        "    return pdf.assign(rating=pdf.rating - pdf.rating.mean())\n",
        "\n",
        "ratings_df.groupby('movie_id').apply(subtract_mean).show()"
      ]
    },
    {
      "cell_type": "markdown",
      "metadata": {
        "id": "AzdetlIZ-hKs"
      },
      "source": [
        "#### `Формат Parquet`"
      ]
    },
    {
      "cell_type": "markdown",
      "metadata": {
        "id": "V1SEE0pC-hKs"
      },
      "source": [
        "Обработка больших данных увеличивает нагрузку на подсистему хранения — Hadoop хранит данные избыточно для достижения отказоустойчивости. Кроме дисков, нагружаются процессор, сеть, система ввода-вывода и так далее. По мере роста объема данных увеличивается и стоимость их обработки и хранения.\n",
        "\n",
        "Различные форматы файлов в Hadoop придуманы для решения именно этих проблем. Выбор подходящего формата файла может дать некоторые существенные преимущества:\n",
        "\n",
        " - Более быстрое время чтения.\n",
        " - Более быстрое время записи.\n",
        " - Разделяемые файлы.\n",
        " - Поддержка эволюции схем.\n",
        " - Расширенная поддержка сжатия."
      ]
    },
    {
      "cell_type": "markdown",
      "metadata": {
        "id": "27Xpa8Ie-hKs"
      },
      "source": [
        "![parquet](https://github.com/ekolmagorov/spark_hse_dpo/blob/ds-14/Lectures/Lecture4/images/data_sizes.png?raw=1)"
      ]
    },
    {
      "cell_type": "markdown",
      "metadata": {
        "id": "kcj2agw1-hKs"
      },
      "source": [
        "Parquet - это столбчатый формат хранения данных. Это помогает повысить производительность,\n",
        "иногда значительно, разрешая хранение и доступ к данным для каждого столбца&\n",
        "\n",
        "Столбчатый формат более эффективен, когда вам нужно запросить из таблицы несколько столбцов. Он прочитает только необходимые столбцы, потому что они находятся по соседству. Таким образом, операции ввода-вывода сводятся к минимуму."
      ]
    },
    {
      "cell_type": "markdown",
      "metadata": {
        "id": "AlM2gJEG-hKs"
      },
      "source": [
        "![parquet_columns](https://github.com/ekolmagorov/spark_hse_dpo/blob/ds-14/Lectures/Lecture4/images/parquet_columns.png?raw=1)"
      ]
    },
    {
      "cell_type": "markdown",
      "metadata": {
        "id": "oOmLtOKE-hKs"
      },
      "source": [
        "Сохраним датафрейм ratings_df в формате Parquet и посмотрим его содержимое."
      ]
    },
    {
      "cell_type": "code",
      "source": [
        "hr_data = spark.read.csv(\"hr_data.csv\", header=True, inferSchema=True)"
      ],
      "metadata": {
        "id": "2wX-gi9Olbjp"
      },
      "execution_count": 134,
      "outputs": []
    },
    {
      "cell_type": "code",
      "source": [
        "hr_data.show(3)"
      ],
      "metadata": {
        "colab": {
          "base_uri": "https://localhost:8080/"
        },
        "id": "dtrvISCo4uHu",
        "outputId": "cdd088ab-f42a-465e-e817-b1a6df50e11e"
      },
      "execution_count": 135,
      "outputs": [
        {
          "output_type": "stream",
          "name": "stdout",
          "text": [
            "+---+-------------+--------------------+------+---------+---------+\n",
            "|Age|MonthlyIncome|          Department|Gender|Education|Attrition|\n",
            "+---+-------------+--------------------+------+---------+---------+\n",
            "| 41|         5993|               Sales|Female|        2|      Yes|\n",
            "| 49|         5130|Research & Develo...|  Male|        1|       No|\n",
            "| 37|         2090|Research & Develo...|  Male|        2|      Yes|\n",
            "+---+-------------+--------------------+------+---------+---------+\n",
            "only showing top 3 rows\n",
            "\n"
          ]
        }
      ]
    },
    {
      "cell_type": "code",
      "execution_count": 136,
      "metadata": {
        "id": "OvcYwi22-hKs"
      },
      "outputs": [],
      "source": [
        "hr_data.write.mode(\"overwrite\").parquet(\"hr_data_parquet\")"
      ]
    },
    {
      "cell_type": "code",
      "source": [
        "!du -h /content/*"
      ],
      "metadata": {
        "colab": {
          "base_uri": "https://localhost:8080/"
        },
        "id": "SNb1WGtVn-Bm",
        "outputId": "d834fb23-e705-4bc3-ecff-d4402c4367a6"
      },
      "execution_count": 137,
      "outputs": [
        {
          "output_type": "stream",
          "name": "stdout",
          "text": [
            "56K\t/content/hr_data.csv\n",
            "24K\t/content/hr_data_parquet\n",
            "55M\t/content/sample_data\n",
            "4.0K\t/content/spark-warehouse\n"
          ]
        }
      ]
    },
    {
      "cell_type": "code",
      "source": [
        "hr_data_p = spark.read.parquet(\"hr_data_parquet\")"
      ],
      "metadata": {
        "id": "krQlBuYA5h3N"
      },
      "execution_count": 138,
      "outputs": []
    },
    {
      "cell_type": "code",
      "source": [
        "hr_data_p.show(5)"
      ],
      "metadata": {
        "colab": {
          "base_uri": "https://localhost:8080/"
        },
        "id": "fMmKut595nrK",
        "outputId": "029010a7-8886-4356-c144-976d03e625b0"
      },
      "execution_count": 140,
      "outputs": [
        {
          "output_type": "stream",
          "name": "stdout",
          "text": [
            "+---+-------------+--------------------+------+---------+---------+\n",
            "|Age|MonthlyIncome|          Department|Gender|Education|Attrition|\n",
            "+---+-------------+--------------------+------+---------+---------+\n",
            "| 41|         5993|               Sales|Female|        2|      Yes|\n",
            "| 49|         5130|Research & Develo...|  Male|        1|       No|\n",
            "| 37|         2090|Research & Develo...|  Male|        2|      Yes|\n",
            "| 33|         2909|Research & Develo...|Female|        4|       No|\n",
            "| 27|         3468|Research & Develo...|  Male|        1|       No|\n",
            "+---+-------------+--------------------+------+---------+---------+\n",
            "only showing top 5 rows\n",
            "\n"
          ]
        }
      ]
    },
    {
      "cell_type": "code",
      "source": [
        "hr_data_p.printSchema()"
      ],
      "metadata": {
        "colab": {
          "base_uri": "https://localhost:8080/"
        },
        "id": "loMwKAyl5rHB",
        "outputId": "35ed91b9-5a35-4779-f47c-29a79aaa8f6e"
      },
      "execution_count": 141,
      "outputs": [
        {
          "output_type": "stream",
          "name": "stdout",
          "text": [
            "root\n",
            " |-- Age: integer (nullable = true)\n",
            " |-- MonthlyIncome: integer (nullable = true)\n",
            " |-- Department: string (nullable = true)\n",
            " |-- Gender: string (nullable = true)\n",
            " |-- Education: integer (nullable = true)\n",
            " |-- Attrition: string (nullable = true)\n",
            "\n"
          ]
        }
      ]
    },
    {
      "cell_type": "markdown",
      "metadata": {
        "id": "OKN8OtaE-hKs"
      },
      "source": [
        "После процедуры сохранения файла можно увидеть два файла в формате parquet. Количество сохранённых файлов равно количеству партиций RDD, которые были у данного датафрейма"
      ]
    },
    {
      "cell_type": "code",
      "execution_count": 89,
      "metadata": {
        "id": "AT7kXjtI-hKs",
        "outputId": "e5e80ffc-a224-4297-c80b-7c06fac58222",
        "colab": {
          "base_uri": "https://localhost:8080/"
        }
      },
      "outputs": [
        {
          "output_type": "execute_result",
          "data": {
            "text/plain": [
              "1"
            ]
          },
          "metadata": {},
          "execution_count": 89
        }
      ],
      "source": [
        "# выведем кол-во партиций\n",
        "hr_data.rdd.getNumPartitions()"
      ]
    },
    {
      "cell_type": "markdown",
      "metadata": {
        "id": "si8easzn-hKs"
      },
      "source": [
        "Sprk позволяет при записи создавать разбиение данных на основе значений некоторого столбца. Таким образом каждое уникальное значение в нём создаст свою партцию.\n",
        "\n",
        "Зачастую это нужно для эффективной работы с нужной порцией данных, например, когда нужно обработать данные в одной партииции."
      ]
    },
    {
      "cell_type": "code",
      "execution_count": null,
      "metadata": {
        "id": "URIKGblQ-hKt",
        "outputId": "398c4fcb-a36e-40cd-aa43-30e351c397c0"
      },
      "outputs": [
        {
          "name": "stderr",
          "output_type": "stream",
          "text": [
            "                                                                                                                                                                                     \r"
          ]
        }
      ],
      "source": [
        "# сохраним данные и разобъём их на партции по полю Department\n",
        "hr_data.write.partitionBy(\"Department\").mode(\"overwrite\").parquet(\"hr_dep\")"
      ]
    },
    {
      "cell_type": "markdown",
      "metadata": {
        "id": "OVfmdHkt-hKt"
      },
      "source": [
        "Теперь если зайти в директорию hr_dep, то можно увидедеть, что spark создал подпапки с названиями пратиций. Каждая папка хранит данные только своей партиции"
      ]
    },
    {
      "cell_type": "code",
      "execution_count": null,
      "metadata": {
        "id": "0HVPahdm-hKt"
      },
      "outputs": [],
      "source": []
    },
    {
      "cell_type": "markdown",
      "metadata": {
        "id": "Kq3DRbx0-hKm"
      },
      "source": [
        "### `Pivot/Unpivot`"
      ]
    },
    {
      "cell_type": "markdown",
      "metadata": {
        "id": "ivvWMPgs-hKn"
      },
      "source": [
        "Скачаем модельные данные и распакуем их в директорию ml-1m"
      ]
    },
    {
      "cell_type": "code",
      "execution_count": null,
      "metadata": {
        "ExecuteTime": {
          "end_time": "2023-02-05T17:47:41.797212Z",
          "start_time": "2023-02-05T17:47:38.864468Z"
        },
        "id": "DN6NjyZo-hKn",
        "outputId": "559a8017-8f09-48fc-ea02-b7aa3c46bf6f"
      },
      "outputs": [
        {
          "name": "stdout",
          "output_type": "stream",
          "text": [
            "--2023-10-27 22:40:37--  https://files.grouplens.org/datasets/movielens/ml-1m.zip\n",
            "Resolving files.grouplens.org (files.grouplens.org)... 128.101.65.152\n",
            "Connecting to files.grouplens.org (files.grouplens.org)|128.101.65.152|:443... connected.\n",
            "HTTP request sent, awaiting response... 200 OK\n",
            "Length: 5917549 (5.6M) [application/zip]\n",
            "Saving to: ‘ml-1m.zip.2’\n",
            "\n",
            "ml-1m.zip.2         100%[===================>]   5.64M  3.91MB/s    in 1.4s    \n",
            "\n",
            "2023-10-27 22:40:40 (3.91 MB/s) - ‘ml-1m.zip.2’ saved [5917549/5917549]\n",
            "\n",
            "Archive:  ml-1m.zip\n",
            "   creating: ml-1m/\n",
            "  inflating: ml-1m/movies.dat        \n",
            "  inflating: ml-1m/ratings.dat       \n",
            "  inflating: ml-1m/README            \n",
            "  inflating: ml-1m/users.dat         \n"
          ]
        }
      ],
      "source": [
        "! wget https://files.grouplens.org/datasets/movielens/ml-1m.zip\n",
        "! unzip -o ml-1m.zip"
      ]
    },
    {
      "cell_type": "code",
      "execution_count": null,
      "metadata": {
        "ExecuteTime": {
          "end_time": "2023-02-05T17:47:42.847648Z",
          "start_time": "2023-02-05T17:47:42.637978Z"
        },
        "id": "eImb0fXQ-hKn"
      },
      "outputs": [],
      "source": [
        "# указываем схему данных для первой таблицы\n",
        "schema = (\n",
        "    T.StructType()\n",
        "        .add('movie_id', T.IntegerType()) # колонка movie_id будет иметь целочиселнный тип\n",
        "        .add('movie', T.StringType()) # колонка movie будет иметь строковый\n",
        "        .add('categories', T.StringType()) # и колонка categories также будет строкой\n",
        ")\n",
        "# загружаем в spark данные из первой таблицы\n",
        "movies_df = (\n",
        "    spark.read\n",
        "      .format('csv') # указываем формат считываем данных\n",
        "      .option(\"header\", False) # считываем данные без заголовка\n",
        "      .option(\"sep\", '::') # в качестве разделителя столбцов указываем ::\n",
        "      .schema(schema) # в качестве схемы указываем описанную выше схему\n",
        "      .load('./ml-1m/movies.dat') # указываем источник данных\n",
        ")\n",
        "\n",
        "# тоже самое только для второй таблицы\n",
        "schema = (\n",
        "    T.StructType()\n",
        "        .add('user_id', T.IntegerType())\n",
        "        .add('movie_id', T.IntegerType())\n",
        "        .add('rating', T.FloatType()) # данный тип - вещественные числа\n",
        "        .add('timestamp', T.StringType())\n",
        ")\n",
        "ratings_df = (\n",
        "    spark.read.format('csv')\n",
        "      .option(\"header\", False)\n",
        "      .option(\"sep\", '::')\n",
        "      .schema(schema)\n",
        "      .load('./ml-1m/ratings.dat')\n",
        ")\n",
        "\n",
        "# тоже самое только для третьей таблицы\n",
        "schema = (\n",
        "    T.StructType()\n",
        "        .add('user_id', T.IntegerType())\n",
        "        .add('gender', T.StringType())\n",
        "        .add('age', T.IntegerType())\n",
        "        .add('occupation', T.IntegerType())\n",
        "        .add('zip-code', T.StringType())\n",
        ")\n",
        "users_df = (\n",
        "    spark.read.format('csv')\n",
        "      .option(\"header\", False)\n",
        "      .option(\"sep\", '::')\n",
        "      .schema(schema)\n",
        "      .load('./ml-1m/users.dat')\n",
        ")"
      ]
    },
    {
      "cell_type": "markdown",
      "metadata": {
        "id": "Bkj40m8s-hKn"
      },
      "source": [
        "Во многих задачах зачастую встречается необходимость сформировать колонки на основе данных, хранящихся в другом столбце. То есть требуется перевести таблицу в wide формат.\n",
        "\n",
        "Например, данная операция нужна была во второй лекции, когда для значения класса нужно было получить one-hot представление"
      ]
    },
    {
      "cell_type": "markdown",
      "metadata": {
        "id": "bTGsQgcB-hKn"
      },
      "source": [
        "##### `Визуализация того, как это устроено в pandas`"
      ]
    },
    {
      "cell_type": "markdown",
      "metadata": {
        "id": "SKFvbMPz-hKn"
      },
      "source": [
        "![pandas-pivot](https://github.com/ekolmagorov/spark_hse_dpo/blob/ds-14/Lectures/Lecture4/images/pandas-dataframe-pivot-1.svg?raw=1)"
      ]
    },
    {
      "cell_type": "markdown",
      "metadata": {
        "id": "efkt1ScU-hKn"
      },
      "source": [
        "Spark также поддерживает данную операцию, но делается это вызовом не одного метода, а нескольких последовательных:\n",
        "\n",
        "groupBy -> pivot -> agg"
      ]
    },
    {
      "cell_type": "raw",
      "metadata": {
        "id": "93opVx7V-hKn"
      },
      "source": [
        "Допустим, что имеется следующая таблица\n",
        "\n",
        "+-------+--------+------+\n",
        "|user_id|movie_id|rating|\n",
        "+-------+--------+------+\n",
        "|      1|    1193|   5.0|\n",
        "|      1|    1193|   4.0|\n",
        "|      1|     661|   3.0|\n",
        "|      2|     661|   3.0|\n",
        "|      3|    1193|   4.0|\n",
        "|      3|    2355|   5.0|\n",
        "+-------+--------+------+\n",
        "\n",
        "Для того чтобы перевести её в wide формат вызывае описанные выше функции\n",
        "\n",
        "          index        columns       values\n",
        "            |             |            |\n",
        "groupBy(user_id).pivot(movie_id).agg(mean(rating))\n",
        "groupBy(user_id).pivot(movie_id).agg(first(rating))\n",
        "\n",
        "После groupBy:\n",
        "\n",
        "1 -> (1193, 5.0), (1193, 4.0), (661, 3.0)\n",
        "2 -> (661, 3.0)\n",
        "3 -> (1193, 4.0), (2355, 5.0)\n",
        "\n",
        "После операции pivot\n",
        "\n",
        "        1193      |    661   |    2355\n",
        "1 ->  [5.0, 4.0]  |   [3.0]  |\n",
        "2 ->              |   [3.0]  |\n",
        "3 ->     [4.0]    |          |    [5.0]\n",
        "\n",
        "После выполнения агрегации agg\n",
        "\n",
        "   1193 661 2355\n",
        "1  4.5  3.0 None\n",
        "2  None 3.0 None\n",
        "3  4.0 None 5.0"
      ]
    },
    {
      "cell_type": "code",
      "execution_count": null,
      "metadata": {
        "ExecuteTime": {
          "end_time": "2023-02-05T17:47:44.767745Z",
          "start_time": "2023-02-05T17:47:44.338940Z"
        },
        "id": "wHUtOwsN-hKo",
        "outputId": "34034550-e0f4-479e-9537-8cb25a1644a8"
      },
      "outputs": [
        {
          "name": "stdout",
          "output_type": "stream",
          "text": [
            "+-------+--------+------+---------+\n",
            "|user_id|movie_id|rating|timestamp|\n",
            "+-------+--------+------+---------+\n",
            "|      1|    1193|   5.0|978300760|\n",
            "|      1|     661|   3.0|978302109|\n",
            "|      1|     914|   3.0|978301968|\n",
            "|      1|    3408|   4.0|978300275|\n",
            "|      1|    2355|   5.0|978824291|\n",
            "|      1|    1197|   3.0|978302268|\n",
            "|      1|    1287|   5.0|978302039|\n",
            "|      1|    2804|   5.0|978300719|\n",
            "|      1|     594|   4.0|978302268|\n",
            "|      1|     919|   4.0|978301368|\n",
            "|      1|     595|   5.0|978824268|\n",
            "|      1|     938|   4.0|978301752|\n",
            "|      1|    2398|   4.0|978302281|\n",
            "|      1|    2918|   4.0|978302124|\n",
            "|      1|    1035|   5.0|978301753|\n",
            "|      1|    2791|   4.0|978302188|\n",
            "|      1|    2687|   3.0|978824268|\n",
            "|      1|    2018|   4.0|978301777|\n",
            "|      1|    3105|   5.0|978301713|\n",
            "|      1|    2797|   4.0|978302039|\n",
            "+-------+--------+------+---------+\n",
            "only showing top 20 rows\n",
            "\n"
          ]
        }
      ],
      "source": [
        "ratings_df.show()"
      ]
    },
    {
      "cell_type": "code",
      "execution_count": null,
      "metadata": {
        "ExecuteTime": {
          "end_time": "2023-02-05T17:47:55.452913Z",
          "start_time": "2023-02-05T17:47:45.148611Z"
        },
        "id": "jkw8fk78-hKo",
        "outputId": "5607da88-5d2d-4bf1-f9cc-acfecfe18bc0"
      },
      "outputs": [
        {
          "name": "stderr",
          "output_type": "stream",
          "text": [
            "23/10/27 22:40:49 WARN SparkStringUtils: Truncated the string representation of a plan since it was too large. This behavior can be adjusted by setting 'spark.sql.debug.maxToStringFields'.\n",
            "23/10/27 22:40:59 WARN DAGScheduler: Broadcasting large task binary with size 2.4 MiB                                                                                    (0 + 1) / 1]\n",
            "                                                                                                                                                                                     \r"
          ]
        },
        {
          "data": {
            "text/html": [
              "<div>\n",
              "<style scoped>\n",
              "    .dataframe tbody tr th:only-of-type {\n",
              "        vertical-align: middle;\n",
              "    }\n",
              "\n",
              "    .dataframe tbody tr th {\n",
              "        vertical-align: top;\n",
              "    }\n",
              "\n",
              "    .dataframe thead th {\n",
              "        text-align: right;\n",
              "    }\n",
              "</style>\n",
              "<table border=\"1\" class=\"dataframe\">\n",
              "  <thead>\n",
              "    <tr style=\"text-align: right;\">\n",
              "      <th></th>\n",
              "      <th>user_id</th>\n",
              "      <th>1</th>\n",
              "      <th>2</th>\n",
              "      <th>3</th>\n",
              "      <th>4</th>\n",
              "      <th>5</th>\n",
              "      <th>6</th>\n",
              "      <th>7</th>\n",
              "      <th>8</th>\n",
              "      <th>9</th>\n",
              "      <th>...</th>\n",
              "      <th>3943</th>\n",
              "      <th>3944</th>\n",
              "      <th>3945</th>\n",
              "      <th>3946</th>\n",
              "      <th>3947</th>\n",
              "      <th>3948</th>\n",
              "      <th>3949</th>\n",
              "      <th>3950</th>\n",
              "      <th>3951</th>\n",
              "      <th>3952</th>\n",
              "    </tr>\n",
              "  </thead>\n",
              "  <tbody>\n",
              "    <tr>\n",
              "      <th>0</th>\n",
              "      <td>1</td>\n",
              "      <td>5.0</td>\n",
              "      <td>NaN</td>\n",
              "      <td>NaN</td>\n",
              "      <td>NaN</td>\n",
              "      <td>NaN</td>\n",
              "      <td>NaN</td>\n",
              "      <td>NaN</td>\n",
              "      <td>NaN</td>\n",
              "      <td>NaN</td>\n",
              "      <td>...</td>\n",
              "      <td>NaN</td>\n",
              "      <td>NaN</td>\n",
              "      <td>NaN</td>\n",
              "      <td>NaN</td>\n",
              "      <td>NaN</td>\n",
              "      <td>NaN</td>\n",
              "      <td>NaN</td>\n",
              "      <td>NaN</td>\n",
              "      <td>NaN</td>\n",
              "      <td>NaN</td>\n",
              "    </tr>\n",
              "    <tr>\n",
              "      <th>1</th>\n",
              "      <td>3</td>\n",
              "      <td>NaN</td>\n",
              "      <td>NaN</td>\n",
              "      <td>NaN</td>\n",
              "      <td>NaN</td>\n",
              "      <td>NaN</td>\n",
              "      <td>NaN</td>\n",
              "      <td>NaN</td>\n",
              "      <td>NaN</td>\n",
              "      <td>NaN</td>\n",
              "      <td>...</td>\n",
              "      <td>NaN</td>\n",
              "      <td>NaN</td>\n",
              "      <td>NaN</td>\n",
              "      <td>NaN</td>\n",
              "      <td>NaN</td>\n",
              "      <td>NaN</td>\n",
              "      <td>NaN</td>\n",
              "      <td>NaN</td>\n",
              "      <td>NaN</td>\n",
              "      <td>NaN</td>\n",
              "    </tr>\n",
              "    <tr>\n",
              "      <th>2</th>\n",
              "      <td>2</td>\n",
              "      <td>NaN</td>\n",
              "      <td>NaN</td>\n",
              "      <td>NaN</td>\n",
              "      <td>NaN</td>\n",
              "      <td>NaN</td>\n",
              "      <td>NaN</td>\n",
              "      <td>NaN</td>\n",
              "      <td>NaN</td>\n",
              "      <td>NaN</td>\n",
              "      <td>...</td>\n",
              "      <td>NaN</td>\n",
              "      <td>NaN</td>\n",
              "      <td>NaN</td>\n",
              "      <td>NaN</td>\n",
              "      <td>NaN</td>\n",
              "      <td>NaN</td>\n",
              "      <td>NaN</td>\n",
              "      <td>NaN</td>\n",
              "      <td>NaN</td>\n",
              "      <td>NaN</td>\n",
              "    </tr>\n",
              "  </tbody>\n",
              "</table>\n",
              "<p>3 rows × 3707 columns</p>\n",
              "</div>"
            ],
            "text/plain": [
              "   user_id    1   2   3   4   5   6   7   8   9  ...  3943  3944  3945  3946  \\\n",
              "0        1  5.0 NaN NaN NaN NaN NaN NaN NaN NaN  ...   NaN   NaN   NaN   NaN   \n",
              "1        3  NaN NaN NaN NaN NaN NaN NaN NaN NaN  ...   NaN   NaN   NaN   NaN   \n",
              "2        2  NaN NaN NaN NaN NaN NaN NaN NaN NaN  ...   NaN   NaN   NaN   NaN   \n",
              "\n",
              "   3947  3948  3949  3950  3951  3952  \n",
              "0   NaN   NaN   NaN   NaN   NaN   NaN  \n",
              "1   NaN   NaN   NaN   NaN   NaN   NaN  \n",
              "2   NaN   NaN   NaN   NaN   NaN   NaN  \n",
              "\n",
              "[3 rows x 3707 columns]"
            ]
          },
          "execution_count": 18,
          "metadata": {},
          "output_type": "execute_result"
        }
      ],
      "source": [
        "pivot_df = (\n",
        "    ratings_df\n",
        "        .groupBy(ratings_df.user_id)\n",
        "        .pivot('movie_id')\n",
        "        .agg(F.first(ratings_df.rating))\n",
        ")\n",
        "pivot_df.where(pivot_df.user_id < 4).toPandas()"
      ]
    },
    {
      "cell_type": "code",
      "execution_count": null,
      "metadata": {
        "ExecuteTime": {
          "end_time": "2023-02-05T17:47:56.214419Z",
          "start_time": "2023-02-05T17:47:55.455273Z"
        },
        "id": "perRGoU9-hKo",
        "outputId": "756423b6-03cb-410e-8480-7de963e8a958"
      },
      "outputs": [
        {
          "name": "stderr",
          "output_type": "stream",
          "text": [
            "[Stage 29:===============================================================================>                                                                               (1 + 1) / 2]\r"
          ]
        },
        {
          "name": "stdout",
          "output_type": "stream",
          "text": [
            "+--------+-----+------------------+\n",
            "|movie_id|rates|        avg_rating|\n",
            "+--------+-----+------------------+\n",
            "|    2858| 3428|4.3173862310385065|\n",
            "|     260| 2991| 4.453694416583082|\n",
            "|    1196| 2990| 4.292976588628763|\n",
            "|    1210| 2883| 4.022892819979188|\n",
            "|     480| 2672|3.7638473053892216|\n",
            "|    2028| 2653| 4.337353938937053|\n",
            "|     589| 2649| 4.058512646281616|\n",
            "|    2571| 2590| 4.315830115830116|\n",
            "|    1270| 2583|3.9903213317847466|\n",
            "|     593| 2578|4.3518231186966645|\n",
            "|    1580| 2538| 3.739952718676123|\n",
            "|    1198| 2514| 4.477724741447892|\n",
            "|     608| 2513| 4.254675686430561|\n",
            "|    2762| 2459| 4.406262708418057|\n",
            "|     110| 2443| 4.234957020057307|\n",
            "|    2396| 2369| 4.127479949345715|\n",
            "|    1197| 2318|4.3037100949094045|\n",
            "|     527| 2304| 4.510416666666667|\n",
            "|    1617| 2288| 4.219405594405594|\n",
            "|    1265| 2278| 3.953028972783143|\n",
            "+--------+-----+------------------+\n",
            "only showing top 20 rows\n",
            "\n"
          ]
        },
        {
          "name": "stderr",
          "output_type": "stream",
          "text": [
            "                                                                                                                                                                                     \r"
          ]
        }
      ],
      "source": [
        "top_movies_df = ratings_df.groupBy(\n",
        "    ratings_df.movie_id # групируем по movie_id\n",
        ").agg(\n",
        "    F.count(ratings_df.rating).alias('rates'), # создаём колонку rates c количество оценок\n",
        "    F.mean(ratings_df.rating).alias('avg_rating') # создаём колонку avg_rating с средней оценкой\n",
        ").sort(\n",
        "    'rates', ascending=False # упорядочиваем фильмы по количеству оценок в убывающем порядке\n",
        ").limit(100) # берём только 100 самых оцениваемых фильмов\n",
        "\n",
        "top_movies_df.show()"
      ]
    },
    {
      "cell_type": "code",
      "execution_count": null,
      "metadata": {
        "ExecuteTime": {
          "end_time": "2023-02-05T17:47:56.755558Z",
          "start_time": "2023-02-05T17:47:56.217120Z"
        },
        "id": "8h-dbHyD-hKo",
        "outputId": "679e1beb-8062-4ecd-b6da-136430ef401c"
      },
      "outputs": [
        {
          "name": "stderr",
          "output_type": "stream",
          "text": [
            "                                                                                                                                                                                     \r"
          ]
        }
      ],
      "source": [
        "top_movies = top_movies_df.rdd.map(lambda x: x.movie_id).collect()"
      ]
    },
    {
      "cell_type": "code",
      "execution_count": null,
      "metadata": {
        "ExecuteTime": {
          "end_time": "2023-02-05T17:47:57.536251Z",
          "start_time": "2023-02-05T17:47:56.759503Z"
        },
        "id": "OcPZBn42-hKo",
        "outputId": "e7112121-a2ba-4457-9763-934d114ecf9a"
      },
      "outputs": [
        {
          "name": "stderr",
          "output_type": "stream",
          "text": [
            "                                                                                                                                                                                     \r"
          ]
        },
        {
          "data": {
            "text/html": [
              "<div>\n",
              "<style scoped>\n",
              "    .dataframe tbody tr th:only-of-type {\n",
              "        vertical-align: middle;\n",
              "    }\n",
              "\n",
              "    .dataframe tbody tr th {\n",
              "        vertical-align: top;\n",
              "    }\n",
              "\n",
              "    .dataframe thead th {\n",
              "        text-align: right;\n",
              "    }\n",
              "</style>\n",
              "<table border=\"1\" class=\"dataframe\">\n",
              "  <thead>\n",
              "    <tr style=\"text-align: right;\">\n",
              "      <th></th>\n",
              "      <th>user_id</th>\n",
              "      <th>2858</th>\n",
              "      <th>260</th>\n",
              "      <th>1196</th>\n",
              "      <th>1210</th>\n",
              "      <th>480</th>\n",
              "      <th>2028</th>\n",
              "      <th>589</th>\n",
              "      <th>2571</th>\n",
              "      <th>1270</th>\n",
              "      <th>...</th>\n",
              "      <th>750</th>\n",
              "      <th>2699</th>\n",
              "      <th>39</th>\n",
              "      <th>21</th>\n",
              "      <th>1393</th>\n",
              "      <th>2804</th>\n",
              "      <th>588</th>\n",
              "      <th>2406</th>\n",
              "      <th>1220</th>\n",
              "      <th>733</th>\n",
              "    </tr>\n",
              "  </thead>\n",
              "  <tbody>\n",
              "    <tr>\n",
              "      <th>0</th>\n",
              "      <td>1</td>\n",
              "      <td>NaN</td>\n",
              "      <td>4.0</td>\n",
              "      <td>NaN</td>\n",
              "      <td>NaN</td>\n",
              "      <td>NaN</td>\n",
              "      <td>5.0</td>\n",
              "      <td>NaN</td>\n",
              "      <td>NaN</td>\n",
              "      <td>5.0</td>\n",
              "      <td>...</td>\n",
              "      <td>NaN</td>\n",
              "      <td>NaN</td>\n",
              "      <td>NaN</td>\n",
              "      <td>NaN</td>\n",
              "      <td>NaN</td>\n",
              "      <td>5.0</td>\n",
              "      <td>4.0</td>\n",
              "      <td>NaN</td>\n",
              "      <td>NaN</td>\n",
              "      <td>NaN</td>\n",
              "    </tr>\n",
              "    <tr>\n",
              "      <th>1</th>\n",
              "      <td>2</td>\n",
              "      <td>4.0</td>\n",
              "      <td>NaN</td>\n",
              "      <td>5.0</td>\n",
              "      <td>4.0</td>\n",
              "      <td>5.0</td>\n",
              "      <td>4.0</td>\n",
              "      <td>4.0</td>\n",
              "      <td>4.0</td>\n",
              "      <td>NaN</td>\n",
              "      <td>...</td>\n",
              "      <td>NaN</td>\n",
              "      <td>NaN</td>\n",
              "      <td>NaN</td>\n",
              "      <td>1.0</td>\n",
              "      <td>NaN</td>\n",
              "      <td>NaN</td>\n",
              "      <td>NaN</td>\n",
              "      <td>NaN</td>\n",
              "      <td>NaN</td>\n",
              "      <td>NaN</td>\n",
              "    </tr>\n",
              "  </tbody>\n",
              "</table>\n",
              "<p>2 rows × 101 columns</p>\n",
              "</div>"
            ],
            "text/plain": [
              "   user_id  2858  260  1196  1210  480  2028  589  2571  1270  ...  750  2699  \\\n",
              "0        1   NaN  4.0   NaN   NaN  NaN   5.0  NaN   NaN   5.0  ...  NaN   NaN   \n",
              "1        2   4.0  NaN   5.0   4.0  5.0   4.0  4.0   4.0   NaN  ...  NaN   NaN   \n",
              "\n",
              "   39   21  1393  2804  588  2406  1220  733  \n",
              "0 NaN  NaN   NaN   5.0  4.0   NaN   NaN  NaN  \n",
              "1 NaN  1.0   NaN   NaN  NaN   NaN   NaN  NaN  \n",
              "\n",
              "[2 rows x 101 columns]"
            ]
          },
          "execution_count": 21,
          "metadata": {},
          "output_type": "execute_result"
        }
      ],
      "source": [
        "pivot_top_df = (\n",
        "    ratings_df\n",
        "        .groupBy(ratings_df.user_id)\n",
        "        .pivot('movie_id', top_movies)\n",
        "        .agg(F.first(ratings_df.rating))\n",
        ")\n",
        "pivot_top_df.where(pivot_df.user_id < 3).toPandas()"
      ]
    },
    {
      "cell_type": "markdown",
      "metadata": {
        "id": "y_qVOdPp-hKo"
      },
      "source": [
        "В качестве второго аргумента в методе pivot можно указать подмножество допустимых значений на основе, которых сформируются новые столбцы"
      ]
    },
    {
      "cell_type": "code",
      "execution_count": null,
      "metadata": {
        "ExecuteTime": {
          "end_time": "2023-02-05T17:47:58.712056Z",
          "start_time": "2023-02-05T17:47:57.539033Z"
        },
        "id": "ftp4pOko-hKo",
        "outputId": "3146dbc1-2272-428d-9cc1-8fe4b1cc9dd9"
      },
      "outputs": [
        {
          "name": "stderr",
          "output_type": "stream",
          "text": [
            "                                                                                                                                                                                     \r"
          ]
        },
        {
          "data": {
            "text/html": [
              "<div>\n",
              "<style scoped>\n",
              "    .dataframe tbody tr th:only-of-type {\n",
              "        vertical-align: middle;\n",
              "    }\n",
              "\n",
              "    .dataframe tbody tr th {\n",
              "        vertical-align: top;\n",
              "    }\n",
              "\n",
              "    .dataframe thead th {\n",
              "        text-align: right;\n",
              "    }\n",
              "</style>\n",
              "<table border=\"1\" class=\"dataframe\">\n",
              "  <thead>\n",
              "    <tr style=\"text-align: right;\">\n",
              "      <th></th>\n",
              "      <th>user_id</th>\n",
              "      <th>2858</th>\n",
              "      <th>260</th>\n",
              "      <th>1196</th>\n",
              "      <th>1210</th>\n",
              "      <th>480</th>\n",
              "      <th>2028</th>\n",
              "      <th>589</th>\n",
              "      <th>2571</th>\n",
              "      <th>1270</th>\n",
              "      <th>...</th>\n",
              "      <th>750</th>\n",
              "      <th>2699</th>\n",
              "      <th>39</th>\n",
              "      <th>21</th>\n",
              "      <th>1393</th>\n",
              "      <th>2804</th>\n",
              "      <th>588</th>\n",
              "      <th>2406</th>\n",
              "      <th>1220</th>\n",
              "      <th>733</th>\n",
              "    </tr>\n",
              "  </thead>\n",
              "  <tbody>\n",
              "    <tr>\n",
              "      <th>0</th>\n",
              "      <td>1</td>\n",
              "      <td>NaN</td>\n",
              "      <td>4.0</td>\n",
              "      <td>NaN</td>\n",
              "      <td>NaN</td>\n",
              "      <td>NaN</td>\n",
              "      <td>5.0</td>\n",
              "      <td>NaN</td>\n",
              "      <td>NaN</td>\n",
              "      <td>5.0</td>\n",
              "      <td>...</td>\n",
              "      <td>NaN</td>\n",
              "      <td>NaN</td>\n",
              "      <td>NaN</td>\n",
              "      <td>NaN</td>\n",
              "      <td>NaN</td>\n",
              "      <td>5.0</td>\n",
              "      <td>4.0</td>\n",
              "      <td>NaN</td>\n",
              "      <td>NaN</td>\n",
              "      <td>NaN</td>\n",
              "    </tr>\n",
              "    <tr>\n",
              "      <th>1</th>\n",
              "      <td>3</td>\n",
              "      <td>4.0</td>\n",
              "      <td>5.0</td>\n",
              "      <td>4.0</td>\n",
              "      <td>4.0</td>\n",
              "      <td>4.0</td>\n",
              "      <td>NaN</td>\n",
              "      <td>NaN</td>\n",
              "      <td>NaN</td>\n",
              "      <td>3.0</td>\n",
              "      <td>...</td>\n",
              "      <td>NaN</td>\n",
              "      <td>NaN</td>\n",
              "      <td>NaN</td>\n",
              "      <td>NaN</td>\n",
              "      <td>NaN</td>\n",
              "      <td>NaN</td>\n",
              "      <td>NaN</td>\n",
              "      <td>NaN</td>\n",
              "      <td>NaN</td>\n",
              "      <td>5.0</td>\n",
              "    </tr>\n",
              "    <tr>\n",
              "      <th>2</th>\n",
              "      <td>2</td>\n",
              "      <td>4.0</td>\n",
              "      <td>NaN</td>\n",
              "      <td>5.0</td>\n",
              "      <td>4.0</td>\n",
              "      <td>5.0</td>\n",
              "      <td>4.0</td>\n",
              "      <td>4.0</td>\n",
              "      <td>4.0</td>\n",
              "      <td>NaN</td>\n",
              "      <td>...</td>\n",
              "      <td>NaN</td>\n",
              "      <td>NaN</td>\n",
              "      <td>NaN</td>\n",
              "      <td>1.0</td>\n",
              "      <td>NaN</td>\n",
              "      <td>NaN</td>\n",
              "      <td>NaN</td>\n",
              "      <td>NaN</td>\n",
              "      <td>NaN</td>\n",
              "      <td>NaN</td>\n",
              "    </tr>\n",
              "  </tbody>\n",
              "</table>\n",
              "<p>3 rows × 101 columns</p>\n",
              "</div>"
            ],
            "text/plain": [
              "   user_id  2858  260  1196  1210  480  2028  589  2571  1270  ...  750  2699  \\\n",
              "0        1   NaN  4.0   NaN   NaN  NaN   5.0  NaN   NaN   5.0  ...  NaN   NaN   \n",
              "1        3   4.0  5.0   4.0   4.0  4.0   NaN  NaN   NaN   3.0  ...  NaN   NaN   \n",
              "2        2   4.0  NaN   5.0   4.0  5.0   4.0  4.0   4.0   NaN  ...  NaN   NaN   \n",
              "\n",
              "   39   21  1393  2804  588  2406  1220  733  \n",
              "0 NaN  NaN   NaN   5.0  4.0   NaN   NaN  NaN  \n",
              "1 NaN  NaN   NaN   NaN  NaN   NaN   NaN  5.0  \n",
              "2 NaN  1.0   NaN   NaN  NaN   NaN   NaN  NaN  \n",
              "\n",
              "[3 rows x 101 columns]"
            ]
          },
          "execution_count": 22,
          "metadata": {},
          "output_type": "execute_result"
        }
      ],
      "source": [
        "# формируем таблицу с столбцы только по top-100 самых оцениваемых фильмов\n",
        "pivot_top_df = (\n",
        "    ratings_df\n",
        "        .groupBy(ratings_df.user_id)\n",
        "        .pivot('movie_id', top_movies) # вторым параметром ограничиваем дотупстимые столбцы\n",
        "        .agg(F.first(ratings_df.rating))\n",
        ")\n",
        "pivot_top_df.where(pivot_top_df.user_id < 4).toPandas()"
      ]
    },
    {
      "cell_type": "markdown",
      "metadata": {
        "id": "grIGesqa-hKo"
      },
      "source": [
        "Как можно заметить кол-во пустых столбцов стало гораздо меньше"
      ]
    },
    {
      "cell_type": "markdown",
      "metadata": {
        "id": "BTE0t08h-hKo"
      },
      "source": [
        "Скачаем данные из предыдущей лекции, с которыми будем в дальнейшем работать"
      ]
    },
    {
      "cell_type": "code",
      "execution_count": null,
      "metadata": {
        "id": "v_OsmWaU-hKp"
      },
      "outputs": [],
      "source": [
        "import json\n",
        "import requests\n",
        "import subprocess\n",
        "import zipfile\n",
        "\n",
        "folder_url = 'https://disk.yandex.lt/d/JnDy1h48pJI7IA'\n",
        "file_url = '/m5-forecating-accuracy.zip'\n",
        "# запрос ссылки на скачивание\n",
        "response = requests.get('https://cloud-api.yandex.net/v1/disk/public/resources/download',\n",
        "                 params={'public_key': folder_url, 'path': file_url})\n",
        "# 'парсинг' ссылки на скачивание\n",
        "data_link = response.json()['href']\n",
        "\n",
        "filename = 'm5-forecating-accuracy.zip'\n",
        "path = \"./m5-forecasting-accuracy\"\n",
        "\n",
        "# запускаем скачивание вызовом команды wget из python\n",
        "subprocess.run(\n",
        "    ['wget', '-O', filename, data_link], # команда для исполнения\n",
        "    stdout=subprocess.DEVNULL, # убираем печать отладочной информации\n",
        "    stderr=subprocess.STDOUT\n",
        ")\n",
        "\n",
        "#распакуем данные по пути path\n",
        "with zipfile.ZipFile(filename, 'r') as zip_ref:\n",
        "    zip_ref.extractall(path)"
      ]
    },
    {
      "cell_type": "code",
      "execution_count": null,
      "metadata": {
        "ExecuteTime": {
          "end_time": "2023-02-05T17:48:03.087299Z",
          "start_time": "2023-02-05T17:47:58.714144Z"
        },
        "id": "VIwfPrLj-hKp",
        "outputId": "ea7e82d4-99bb-4489-e564-71791cabe716"
      },
      "outputs": [
        {
          "name": "stderr",
          "output_type": "stream",
          "text": [
            "                                                                                                                                                                                     \r"
          ]
        },
        {
          "data": {
            "text/html": [
              "<div>\n",
              "<style scoped>\n",
              "    .dataframe tbody tr th:only-of-type {\n",
              "        vertical-align: middle;\n",
              "    }\n",
              "\n",
              "    .dataframe tbody tr th {\n",
              "        vertical-align: top;\n",
              "    }\n",
              "\n",
              "    .dataframe thead th {\n",
              "        text-align: right;\n",
              "    }\n",
              "</style>\n",
              "<table border=\"1\" class=\"dataframe\">\n",
              "  <thead>\n",
              "    <tr style=\"text-align: right;\">\n",
              "      <th></th>\n",
              "      <th>id</th>\n",
              "      <th>item_id</th>\n",
              "      <th>dept_id</th>\n",
              "      <th>cat_id</th>\n",
              "      <th>store_id</th>\n",
              "      <th>state_id</th>\n",
              "      <th>d_1</th>\n",
              "      <th>d_2</th>\n",
              "      <th>d_3</th>\n",
              "      <th>d_4</th>\n",
              "      <th>...</th>\n",
              "      <th>d_1904</th>\n",
              "      <th>d_1905</th>\n",
              "      <th>d_1906</th>\n",
              "      <th>d_1907</th>\n",
              "      <th>d_1908</th>\n",
              "      <th>d_1909</th>\n",
              "      <th>d_1910</th>\n",
              "      <th>d_1911</th>\n",
              "      <th>d_1912</th>\n",
              "      <th>d_1913</th>\n",
              "    </tr>\n",
              "  </thead>\n",
              "  <tbody>\n",
              "    <tr>\n",
              "      <th>0</th>\n",
              "      <td>HOBBIES_1_001_CA_1_validation</td>\n",
              "      <td>HOBBIES_1_001</td>\n",
              "      <td>HOBBIES_1</td>\n",
              "      <td>HOBBIES</td>\n",
              "      <td>CA_1</td>\n",
              "      <td>CA</td>\n",
              "      <td>0</td>\n",
              "      <td>0</td>\n",
              "      <td>0</td>\n",
              "      <td>0</td>\n",
              "      <td>...</td>\n",
              "      <td>1</td>\n",
              "      <td>3</td>\n",
              "      <td>0</td>\n",
              "      <td>1</td>\n",
              "      <td>1</td>\n",
              "      <td>1</td>\n",
              "      <td>3</td>\n",
              "      <td>0</td>\n",
              "      <td>1</td>\n",
              "      <td>1</td>\n",
              "    </tr>\n",
              "    <tr>\n",
              "      <th>1</th>\n",
              "      <td>HOBBIES_1_002_CA_1_validation</td>\n",
              "      <td>HOBBIES_1_002</td>\n",
              "      <td>HOBBIES_1</td>\n",
              "      <td>HOBBIES</td>\n",
              "      <td>CA_1</td>\n",
              "      <td>CA</td>\n",
              "      <td>0</td>\n",
              "      <td>0</td>\n",
              "      <td>0</td>\n",
              "      <td>0</td>\n",
              "      <td>...</td>\n",
              "      <td>0</td>\n",
              "      <td>0</td>\n",
              "      <td>0</td>\n",
              "      <td>0</td>\n",
              "      <td>0</td>\n",
              "      <td>1</td>\n",
              "      <td>0</td>\n",
              "      <td>0</td>\n",
              "      <td>0</td>\n",
              "      <td>0</td>\n",
              "    </tr>\n",
              "    <tr>\n",
              "      <th>2</th>\n",
              "      <td>HOBBIES_1_003_CA_1_validation</td>\n",
              "      <td>HOBBIES_1_003</td>\n",
              "      <td>HOBBIES_1</td>\n",
              "      <td>HOBBIES</td>\n",
              "      <td>CA_1</td>\n",
              "      <td>CA</td>\n",
              "      <td>0</td>\n",
              "      <td>0</td>\n",
              "      <td>0</td>\n",
              "      <td>0</td>\n",
              "      <td>...</td>\n",
              "      <td>2</td>\n",
              "      <td>1</td>\n",
              "      <td>2</td>\n",
              "      <td>1</td>\n",
              "      <td>1</td>\n",
              "      <td>1</td>\n",
              "      <td>0</td>\n",
              "      <td>1</td>\n",
              "      <td>1</td>\n",
              "      <td>1</td>\n",
              "    </tr>\n",
              "    <tr>\n",
              "      <th>3</th>\n",
              "      <td>HOBBIES_1_004_CA_1_validation</td>\n",
              "      <td>HOBBIES_1_004</td>\n",
              "      <td>HOBBIES_1</td>\n",
              "      <td>HOBBIES</td>\n",
              "      <td>CA_1</td>\n",
              "      <td>CA</td>\n",
              "      <td>0</td>\n",
              "      <td>0</td>\n",
              "      <td>0</td>\n",
              "      <td>0</td>\n",
              "      <td>...</td>\n",
              "      <td>1</td>\n",
              "      <td>0</td>\n",
              "      <td>5</td>\n",
              "      <td>4</td>\n",
              "      <td>1</td>\n",
              "      <td>0</td>\n",
              "      <td>1</td>\n",
              "      <td>3</td>\n",
              "      <td>7</td>\n",
              "      <td>2</td>\n",
              "    </tr>\n",
              "    <tr>\n",
              "      <th>4</th>\n",
              "      <td>HOBBIES_1_005_CA_1_validation</td>\n",
              "      <td>HOBBIES_1_005</td>\n",
              "      <td>HOBBIES_1</td>\n",
              "      <td>HOBBIES</td>\n",
              "      <td>CA_1</td>\n",
              "      <td>CA</td>\n",
              "      <td>0</td>\n",
              "      <td>0</td>\n",
              "      <td>0</td>\n",
              "      <td>0</td>\n",
              "      <td>...</td>\n",
              "      <td>2</td>\n",
              "      <td>1</td>\n",
              "      <td>1</td>\n",
              "      <td>0</td>\n",
              "      <td>1</td>\n",
              "      <td>1</td>\n",
              "      <td>2</td>\n",
              "      <td>2</td>\n",
              "      <td>2</td>\n",
              "      <td>4</td>\n",
              "    </tr>\n",
              "    <tr>\n",
              "      <th>5</th>\n",
              "      <td>HOBBIES_1_006_CA_1_validation</td>\n",
              "      <td>HOBBIES_1_006</td>\n",
              "      <td>HOBBIES_1</td>\n",
              "      <td>HOBBIES</td>\n",
              "      <td>CA_1</td>\n",
              "      <td>CA</td>\n",
              "      <td>0</td>\n",
              "      <td>0</td>\n",
              "      <td>0</td>\n",
              "      <td>0</td>\n",
              "      <td>...</td>\n",
              "      <td>0</td>\n",
              "      <td>1</td>\n",
              "      <td>0</td>\n",
              "      <td>1</td>\n",
              "      <td>0</td>\n",
              "      <td>0</td>\n",
              "      <td>0</td>\n",
              "      <td>2</td>\n",
              "      <td>0</td>\n",
              "      <td>0</td>\n",
              "    </tr>\n",
              "    <tr>\n",
              "      <th>6</th>\n",
              "      <td>HOBBIES_1_007_CA_1_validation</td>\n",
              "      <td>HOBBIES_1_007</td>\n",
              "      <td>HOBBIES_1</td>\n",
              "      <td>HOBBIES</td>\n",
              "      <td>CA_1</td>\n",
              "      <td>CA</td>\n",
              "      <td>0</td>\n",
              "      <td>0</td>\n",
              "      <td>0</td>\n",
              "      <td>0</td>\n",
              "      <td>...</td>\n",
              "      <td>0</td>\n",
              "      <td>0</td>\n",
              "      <td>0</td>\n",
              "      <td>1</td>\n",
              "      <td>0</td>\n",
              "      <td>1</td>\n",
              "      <td>0</td>\n",
              "      <td>0</td>\n",
              "      <td>1</td>\n",
              "      <td>1</td>\n",
              "    </tr>\n",
              "    <tr>\n",
              "      <th>7</th>\n",
              "      <td>HOBBIES_1_008_CA_1_validation</td>\n",
              "      <td>HOBBIES_1_008</td>\n",
              "      <td>HOBBIES_1</td>\n",
              "      <td>HOBBIES</td>\n",
              "      <td>CA_1</td>\n",
              "      <td>CA</td>\n",
              "      <td>12</td>\n",
              "      <td>15</td>\n",
              "      <td>0</td>\n",
              "      <td>0</td>\n",
              "      <td>...</td>\n",
              "      <td>0</td>\n",
              "      <td>0</td>\n",
              "      <td>1</td>\n",
              "      <td>37</td>\n",
              "      <td>3</td>\n",
              "      <td>4</td>\n",
              "      <td>6</td>\n",
              "      <td>3</td>\n",
              "      <td>2</td>\n",
              "      <td>1</td>\n",
              "    </tr>\n",
              "    <tr>\n",
              "      <th>8</th>\n",
              "      <td>HOBBIES_1_009_CA_1_validation</td>\n",
              "      <td>HOBBIES_1_009</td>\n",
              "      <td>HOBBIES_1</td>\n",
              "      <td>HOBBIES</td>\n",
              "      <td>CA_1</td>\n",
              "      <td>CA</td>\n",
              "      <td>2</td>\n",
              "      <td>0</td>\n",
              "      <td>7</td>\n",
              "      <td>3</td>\n",
              "      <td>...</td>\n",
              "      <td>0</td>\n",
              "      <td>0</td>\n",
              "      <td>1</td>\n",
              "      <td>1</td>\n",
              "      <td>6</td>\n",
              "      <td>0</td>\n",
              "      <td>0</td>\n",
              "      <td>0</td>\n",
              "      <td>0</td>\n",
              "      <td>0</td>\n",
              "    </tr>\n",
              "    <tr>\n",
              "      <th>9</th>\n",
              "      <td>HOBBIES_1_010_CA_1_validation</td>\n",
              "      <td>HOBBIES_1_010</td>\n",
              "      <td>HOBBIES_1</td>\n",
              "      <td>HOBBIES</td>\n",
              "      <td>CA_1</td>\n",
              "      <td>CA</td>\n",
              "      <td>0</td>\n",
              "      <td>0</td>\n",
              "      <td>1</td>\n",
              "      <td>0</td>\n",
              "      <td>...</td>\n",
              "      <td>1</td>\n",
              "      <td>0</td>\n",
              "      <td>0</td>\n",
              "      <td>0</td>\n",
              "      <td>0</td>\n",
              "      <td>0</td>\n",
              "      <td>0</td>\n",
              "      <td>2</td>\n",
              "      <td>0</td>\n",
              "      <td>2</td>\n",
              "    </tr>\n",
              "  </tbody>\n",
              "</table>\n",
              "<p>10 rows × 1919 columns</p>\n",
              "</div>"
            ],
            "text/plain": [
              "                              id        item_id    dept_id   cat_id store_id  \\\n",
              "0  HOBBIES_1_001_CA_1_validation  HOBBIES_1_001  HOBBIES_1  HOBBIES     CA_1   \n",
              "1  HOBBIES_1_002_CA_1_validation  HOBBIES_1_002  HOBBIES_1  HOBBIES     CA_1   \n",
              "2  HOBBIES_1_003_CA_1_validation  HOBBIES_1_003  HOBBIES_1  HOBBIES     CA_1   \n",
              "3  HOBBIES_1_004_CA_1_validation  HOBBIES_1_004  HOBBIES_1  HOBBIES     CA_1   \n",
              "4  HOBBIES_1_005_CA_1_validation  HOBBIES_1_005  HOBBIES_1  HOBBIES     CA_1   \n",
              "5  HOBBIES_1_006_CA_1_validation  HOBBIES_1_006  HOBBIES_1  HOBBIES     CA_1   \n",
              "6  HOBBIES_1_007_CA_1_validation  HOBBIES_1_007  HOBBIES_1  HOBBIES     CA_1   \n",
              "7  HOBBIES_1_008_CA_1_validation  HOBBIES_1_008  HOBBIES_1  HOBBIES     CA_1   \n",
              "8  HOBBIES_1_009_CA_1_validation  HOBBIES_1_009  HOBBIES_1  HOBBIES     CA_1   \n",
              "9  HOBBIES_1_010_CA_1_validation  HOBBIES_1_010  HOBBIES_1  HOBBIES     CA_1   \n",
              "\n",
              "  state_id  d_1  d_2  d_3  d_4  ...  d_1904  d_1905  d_1906  d_1907  d_1908  \\\n",
              "0       CA    0    0    0    0  ...       1       3       0       1       1   \n",
              "1       CA    0    0    0    0  ...       0       0       0       0       0   \n",
              "2       CA    0    0    0    0  ...       2       1       2       1       1   \n",
              "3       CA    0    0    0    0  ...       1       0       5       4       1   \n",
              "4       CA    0    0    0    0  ...       2       1       1       0       1   \n",
              "5       CA    0    0    0    0  ...       0       1       0       1       0   \n",
              "6       CA    0    0    0    0  ...       0       0       0       1       0   \n",
              "7       CA   12   15    0    0  ...       0       0       1      37       3   \n",
              "8       CA    2    0    7    3  ...       0       0       1       1       6   \n",
              "9       CA    0    0    1    0  ...       1       0       0       0       0   \n",
              "\n",
              "   d_1909  d_1910  d_1911  d_1912  d_1913  \n",
              "0       1       3       0       1       1  \n",
              "1       1       0       0       0       0  \n",
              "2       1       0       1       1       1  \n",
              "3       0       1       3       7       2  \n",
              "4       1       2       2       2       4  \n",
              "5       0       0       2       0       0  \n",
              "6       1       0       0       1       1  \n",
              "7       4       6       3       2       1  \n",
              "8       0       0       0       0       0  \n",
              "9       0       0       2       0       2  \n",
              "\n",
              "[10 rows x 1919 columns]"
            ]
          },
          "execution_count": 24,
          "metadata": {},
          "output_type": "execute_result"
        }
      ],
      "source": [
        "# считаем данные\n",
        "df_validation = (\n",
        "    spark.read.format('csv')\n",
        "      .option(\"inferSchema\", True) # указываем spark самому определить тип данных\n",
        "      .option(\"header\", True)\n",
        "      .option(\"sep\", ',')\n",
        "      .load(f\"{path}/sales_train_validation.csv\")\n",
        ")\n",
        "df_validation.limit(10).toPandas()"
      ]
    },
    {
      "cell_type": "markdown",
      "metadata": {
        "id": "QSecw1MZ-hKp"
      },
      "source": [
        "Для операции pivot существует противоположная операция \"вытягивания\" таблицы в длину на основе значений из столбцов.\n",
        "\n",
        "Для этого применяется оперция stack:\n",
        "```SQL\n",
        "stack(\n",
        "    N, new_value_name_1, old_colname_1, ..., new_value_name_N, old_colname_N\n",
        ") as (new_colname, value_colname)\n",
        "```"
      ]
    },
    {
      "cell_type": "code",
      "execution_count": null,
      "metadata": {
        "ExecuteTime": {
          "end_time": "2023-02-05T17:48:03.372957Z",
          "start_time": "2023-02-05T17:48:03.089371Z"
        },
        "id": "rWZeqvAP-hKp",
        "outputId": "5571719b-40f1-4f28-ad66-6b4d74621a8a"
      },
      "outputs": [
        {
          "name": "stdout",
          "output_type": "stream",
          "text": [
            "+-----------------------------+-------+-----+\n",
            "|id                           |d      |sales|\n",
            "+-----------------------------+-------+-----+\n",
            "|HOBBIES_1_001_CA_1_validation|d_1_new|0    |\n",
            "|HOBBIES_1_001_CA_1_validation|d_2    |0    |\n",
            "|HOBBIES_1_002_CA_1_validation|d_1_new|0    |\n",
            "|HOBBIES_1_002_CA_1_validation|d_2    |0    |\n",
            "|HOBBIES_1_003_CA_1_validation|d_1_new|0    |\n",
            "|HOBBIES_1_003_CA_1_validation|d_2    |0    |\n",
            "|HOBBIES_1_004_CA_1_validation|d_1_new|0    |\n",
            "|HOBBIES_1_004_CA_1_validation|d_2    |0    |\n",
            "|HOBBIES_1_005_CA_1_validation|d_1_new|0    |\n",
            "|HOBBIES_1_005_CA_1_validation|d_2    |0    |\n",
            "|HOBBIES_1_006_CA_1_validation|d_1_new|0    |\n",
            "|HOBBIES_1_006_CA_1_validation|d_2    |0    |\n",
            "|HOBBIES_1_007_CA_1_validation|d_1_new|0    |\n",
            "|HOBBIES_1_007_CA_1_validation|d_2    |0    |\n",
            "|HOBBIES_1_008_CA_1_validation|d_1_new|12   |\n",
            "|HOBBIES_1_008_CA_1_validation|d_2    |15   |\n",
            "|HOBBIES_1_009_CA_1_validation|d_1_new|2    |\n",
            "|HOBBIES_1_009_CA_1_validation|d_2    |0    |\n",
            "|HOBBIES_1_010_CA_1_validation|d_1_new|0    |\n",
            "|HOBBIES_1_010_CA_1_validation|d_2    |0    |\n",
            "+-----------------------------+-------+-----+\n",
            "only showing top 20 rows\n",
            "\n"
          ]
        }
      ],
      "source": [
        "unpivot_expression = \"stack(2, 'd_1_new', d_1, 'd_2', d_2) as (d, sales)\"\n",
        "unpivot_df = (\n",
        "    df_validation\n",
        "        .select('id', F.expr(unpivot_expression))\n",
        ")\n",
        "\n",
        "unpivot_df.show(truncate=False)"
      ]
    },
    {
      "cell_type": "markdown",
      "metadata": {
        "id": "vNeCLieI-hKp"
      },
      "source": [
        "Теперь произвём обратную оперцию \"расширения\" (pivot) для новой таблицы"
      ]
    },
    {
      "cell_type": "code",
      "execution_count": null,
      "metadata": {
        "ExecuteTime": {
          "end_time": "2023-02-05T17:48:05.528901Z",
          "start_time": "2023-02-05T17:48:03.376408Z"
        },
        "id": "Drl_HDmV-hKp",
        "outputId": "b7b612f0-f7a1-4214-d114-4feb9208b859"
      },
      "outputs": [
        {
          "name": "stderr",
          "output_type": "stream",
          "text": [
            "[Stage 59:>                                                                                                                                                              (0 + 2) / 2]\r"
          ]
        },
        {
          "name": "stdout",
          "output_type": "stream",
          "text": [
            "+-------------------------------+-------+---+\n",
            "|id                             |d_1_new|d_2|\n",
            "+-------------------------------+-------+---+\n",
            "|HOBBIES_1_304_CA_4_validation  |0      |0  |\n",
            "|FOODS_3_257_CA_3_validation    |1      |0  |\n",
            "|HOUSEHOLD_1_157_CA_2_validation|0      |0  |\n",
            "|FOODS_2_387_CA_1_validation    |0      |0  |\n",
            "|FOODS_2_225_CA_3_validation    |4      |6  |\n",
            "|FOODS_2_375_CA_2_validation    |0      |0  |\n",
            "|FOODS_2_354_CA_4_validation    |0      |0  |\n",
            "|FOODS_3_297_TX_1_validation    |0      |0  |\n",
            "|HOUSEHOLD_1_319_CA_3_validation|1      |1  |\n",
            "|HOUSEHOLD_2_090_CA_4_validation|0      |0  |\n",
            "|FOODS_3_568_CA_4_validation    |0      |0  |\n",
            "|HOBBIES_1_364_TX_2_validation  |3      |0  |\n",
            "|FOODS_1_101_CA_2_validation    |0      |0  |\n",
            "|FOODS_3_558_TX_1_validation    |1      |2  |\n",
            "|FOODS_2_011_CA_1_validation    |1      |1  |\n",
            "|FOODS_3_035_CA_3_validation    |3      |2  |\n",
            "|FOODS_2_174_CA_2_validation    |0      |0  |\n",
            "|HOBBIES_1_396_CA_4_validation  |0      |0  |\n",
            "|HOBBIES_2_044_CA_2_validation  |0      |0  |\n",
            "|HOBBIES_1_320_CA_3_validation  |7      |2  |\n",
            "+-------------------------------+-------+---+\n",
            "only showing top 20 rows\n",
            "\n"
          ]
        },
        {
          "name": "stderr",
          "output_type": "stream",
          "text": [
            "                                                                                                                                                                                     \r"
          ]
        }
      ],
      "source": [
        "(\n",
        "    unpivot_df\n",
        "        .groupBy(unpivot_df.id)\n",
        "        .pivot('d')\n",
        "        .agg(F.sum(unpivot_df.sales))\n",
        ").show(truncate=False)"
      ]
    },
    {
      "cell_type": "markdown",
      "metadata": {
        "id": "MJw9Df4J-hKp"
      },
      "source": [
        "Проверим, что в ходе операций unpivot->pivot данные остались такими же какими они и были изначально, взяв последнюю строку из таблицы выше"
      ]
    },
    {
      "cell_type": "code",
      "execution_count": null,
      "metadata": {
        "ExecuteTime": {
          "end_time": "2023-02-05T17:48:06.073317Z",
          "start_time": "2023-02-05T17:48:05.531766Z"
        },
        "id": "IR9vFpvj-hKp",
        "outputId": "10e8e338-49ae-4898-a36e-b41929f1e2e1"
      },
      "outputs": [
        {
          "name": "stderr",
          "output_type": "stream",
          "text": [
            "                                                                                                                                                                                     \r"
          ]
        },
        {
          "name": "stdout",
          "output_type": "stream",
          "text": [
            "+-----------------------------+---+---+\n",
            "|id                           |d_1|d_2|\n",
            "+-----------------------------+---+---+\n",
            "|HOBBIES_1_320_CA_3_validation|7  |2  |\n",
            "+-----------------------------+---+---+\n",
            "\n"
          ]
        },
        {
          "name": "stderr",
          "output_type": "stream",
          "text": [
            "                                                                                                                                                                                     \r"
          ]
        }
      ],
      "source": [
        "(\n",
        "    df_validation\n",
        "        .where(df_validation.id == 'HOBBIES_1_320_CA_3_validation')\n",
        "        .select('id', 'd_1', 'd_2')\n",
        ").show(truncate=False)"
      ]
    }
  ],
  "metadata": {
    "kernelspec": {
      "display_name": "Python 3 (ipykernel)",
      "language": "python",
      "name": "python3"
    },
    "language_info": {
      "codemirror_mode": {
        "name": "ipython",
        "version": 3
      },
      "file_extension": ".py",
      "mimetype": "text/x-python",
      "name": "python",
      "nbconvert_exporter": "python",
      "pygments_lexer": "ipython3",
      "version": "3.10.12"
    },
    "vscode": {
      "interpreter": {
        "hash": "aee8b7b246df8f9039afb4144a1f6fd8d2ca17a180786b69acc140d282b71a49"
      }
    },
    "colab": {
      "provenance": []
    }
  },
  "nbformat": 4,
  "nbformat_minor": 0
}
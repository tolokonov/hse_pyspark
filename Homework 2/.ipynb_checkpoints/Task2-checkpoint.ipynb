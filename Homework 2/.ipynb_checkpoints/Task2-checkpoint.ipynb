{
 "cells": [
  {
   "cell_type": "markdown",
   "metadata": {
    "id": "IAKSSkP-kSgQ"
   },
   "source": [
    "# `Промышленное машинное обучение на Spark`\n",
    "## `Задание 02: Spark DataFrame`"
   ]
  },
  {
   "cell_type": "markdown",
   "metadata": {},
   "source": [
    "### `Часть 1`"
   ]
  },
  {
   "cell_type": "code",
   "execution_count": 1,
   "metadata": {
    "ExecuteTime": {
     "end_time": "2023-05-03T04:35:47.363021Z",
     "start_time": "2023-05-03T04:35:42.321492Z"
    },
    "colab": {
     "base_uri": "https://localhost:8080/"
    },
    "executionInfo": {
     "elapsed": 35686,
     "status": "ok",
     "timestamp": 1674879052706,
     "user": {
      "displayName": "Максим Находнов",
      "userId": "13074568639193503628"
     },
     "user_tz": -180
    },
    "id": "U8eEHwbzkYE0",
    "outputId": "75035983-645a-4a4b-cd84-7df27abf9f5a"
   },
   "outputs": [
    {
     "name": "stdout",
     "output_type": "stream",
     "text": [
      "Requirement already satisfied: pyspark in /usr/local/lib/python3.10/site-packages (3.3.1)\n",
      "Requirement already satisfied: pyarrow in /usr/local/lib/python3.10/site-packages (11.0.0)\n",
      "Requirement already satisfied: wget in /usr/local/lib/python3.10/site-packages (3.2)\n",
      "Requirement already satisfied: py4j==0.10.9.5 in /usr/local/lib/python3.10/site-packages (from pyspark) (0.10.9.5)\n",
      "Requirement already satisfied: numpy>=1.16.6 in /usr/local/lib/python3.10/site-packages (from pyarrow) (1.23.5)\n",
      "\n",
      "\u001b[1m[\u001b[0m\u001b[34;49mnotice\u001b[0m\u001b[1;39;49m]\u001b[0m\u001b[39;49m A new release of pip available: \u001b[0m\u001b[31;49m22.3.1\u001b[0m\u001b[39;49m -> \u001b[0m\u001b[32;49m23.1.2\u001b[0m\n",
      "\u001b[1m[\u001b[0m\u001b[34;49mnotice\u001b[0m\u001b[1;39;49m]\u001b[0m\u001b[39;49m To update, run: \u001b[0m\u001b[32;49mpython3.10 -m pip install --upgrade pip\u001b[0m\n"
     ]
    }
   ],
   "source": [
    "! pip3 install pyspark pyarrow wget"
   ]
  },
  {
   "cell_type": "markdown",
   "metadata": {
    "id": "KvUcUgapkSgU"
   },
   "source": [
    "Скачаем и распакуем данные:"
   ]
  },
  {
   "cell_type": "code",
   "execution_count": 2,
   "metadata": {
    "ExecuteTime": {
     "end_time": "2023-05-03T04:35:49.958998Z",
     "start_time": "2023-05-03T04:35:48.472191Z"
    }
   },
   "outputs": [
    {
     "name": "stdout",
     "output_type": "stream",
     "text": [
      "100% [............................................................................] 203415 / 203415"
     ]
    }
   ],
   "source": [
    "import wget\n",
    "import zipfile\n",
    "\n",
    "filename = wget.download(\n",
    "    'https://archive.ics.uci.edu/ml/machine-learning-databases/00228/smsspamcollection.zip'\n",
    ")\n",
    "with zipfile.ZipFile(filename, 'r') as zip_ref:\n",
    "    zip_ref.extractall('./smsspamcollection')"
   ]
  },
  {
   "cell_type": "markdown",
   "metadata": {},
   "source": [
    "Иницализируем spark в среде colab"
   ]
  },
  {
   "cell_type": "code",
   "execution_count": null,
   "metadata": {},
   "outputs": [],
   "source": [
    "import os\n",
    "\n",
    "import pyspark.sql.types as T\n",
    "import pyspark.sql.functions as F\n",
    "from pyspark.sql import SparkSession\n",
    "\n",
    "\n",
    "spark = SparkSession.builder.master(\"local[*]\").getOrCreate()"
   ]
  },
  {
   "cell_type": "markdown",
   "metadata": {},
   "source": [
    "**Задание 01:** Считайте DataFrame:"
   ]
  },
  {
   "cell_type": "code",
   "execution_count": 4,
   "metadata": {},
   "outputs": [
    {
     "data": {
      "text/plain": [
       "DataFrame[_c0: string, _c1: string]"
      ]
     },
     "execution_count": 4,
     "metadata": {},
     "output_type": "execute_result"
    }
   ],
   "source": [
    "### YOUR CODE HERE\n",
    "spam_df = ...\n",
    "spam_df"
   ]
  },
  {
   "cell_type": "markdown",
   "metadata": {},
   "source": [
    "**Задание 02:** Назовите колонки таблицы `class` и `text`:"
   ]
  },
  {
   "cell_type": "code",
   "execution_count": 5,
   "metadata": {},
   "outputs": [
    {
     "data": {
      "text/plain": [
       "DataFrame[class: string, text: string]"
      ]
     },
     "execution_count": 5,
     "metadata": {},
     "output_type": "execute_result"
    }
   ],
   "source": [
    "### YOUR CODE HERE\n",
    "spam_df = ...\n",
    "spam_df"
   ]
  },
  {
   "cell_type": "markdown",
   "metadata": {},
   "source": [
    "**Задание 03:** Выведите первые $3$ строки датасета:"
   ]
  },
  {
   "cell_type": "code",
   "execution_count": 6,
   "metadata": {},
   "outputs": [
    {
     "name": "stdout",
     "output_type": "stream",
     "text": [
      "+-----+--------------------+\n",
      "|class|                text|\n",
      "+-----+--------------------+\n",
      "|  ham|Go until jurong p...|\n",
      "|  ham|Ok lar... Joking ...|\n",
      "| spam|Free entry in 2 a...|\n",
      "+-----+--------------------+\n",
      "only showing top 3 rows\n",
      "\n"
     ]
    }
   ],
   "source": [
    "### YOUR CODE HERE\n",
    "..."
   ]
  },
  {
   "cell_type": "markdown",
   "metadata": {},
   "source": [
    "**Задание 04:** Создайте две новых колонки: `words` — список слов в тексте и `length` — длина данного списка. Реализуйте запрос за одно присваивание:"
   ]
  },
  {
   "cell_type": "code",
   "execution_count": 7,
   "metadata": {},
   "outputs": [
    {
     "name": "stdout",
     "output_type": "stream",
     "text": [
      "+-----+--------------------+--------------------+------+\n",
      "|class|                text|               words|length|\n",
      "+-----+--------------------+--------------------+------+\n",
      "|  ham|Go until jurong p...|[Go, until, juron...|    20|\n",
      "|  ham|Ok lar... Joking ...|[Ok, lar..., Joki...|     6|\n",
      "| spam|Free entry in 2 a...|[Free, entry, in,...|    28|\n",
      "+-----+--------------------+--------------------+------+\n",
      "only showing top 3 rows\n",
      "\n"
     ]
    }
   ],
   "source": [
    "### YOUR CODE HERE\n",
    "spam_df = ...\n",
    "spam_df.show(3)"
   ]
  },
  {
   "cell_type": "markdown",
   "metadata": {},
   "source": [
    "**Задание 05:** Посчитайте среднюю длину текстов в зависимости от класса:"
   ]
  },
  {
   "cell_type": "code",
   "execution_count": 8,
   "metadata": {},
   "outputs": [
    {
     "name": "stdout",
     "output_type": "stream",
     "text": [
      "+-----+------------------+\n",
      "|class|       mean_length|\n",
      "+-----+------------------+\n",
      "|  ham|14.427594779366066|\n",
      "| spam| 23.95314591700134|\n",
      "+-----+------------------+\n",
      "\n"
     ]
    }
   ],
   "source": [
    "### YOUR CODE HERE\n",
    "..."
   ]
  },
  {
   "cell_type": "markdown",
   "metadata": {},
   "source": [
    "**Задание 06:** Выведите примерно $0.1\\%$ самых длинных текстов:"
   ]
  },
  {
   "cell_type": "code",
   "execution_count": 9,
   "metadata": {},
   "outputs": [
    {
     "name": "stdout",
     "output_type": "stream",
     "text": [
      "+-----+--------------------+--------------------+------+\n",
      "|class|                text|               words|length|\n",
      "+-----+--------------------+--------------------+------+\n",
      "|  ham|For me the love s...|[For, me, the, lo...|   171|\n",
      "|  ham|How to Make a gir...|[How, to, Make, a...|   121|\n",
      "|  ham|The last thing i ...|[The, last, thing...|   162|\n",
      "|  ham|Sad story of a Ma...|[Sad, story, of, ...|   125|\n",
      "|  ham|Good evening Sir,...|[Good, evening, S...|    99|\n",
      "|  ham|Indians r poor bu...|[Indians, r, poor...|   119|\n",
      "|  ham|Sad story of a Ma...|[Sad, story, of, ...|   125|\n",
      "+-----+--------------------+--------------------+------+\n",
      "\n"
     ]
    }
   ],
   "source": [
    "### YOUR CODE HERE\n",
    "..."
   ]
  },
  {
   "cell_type": "markdown",
   "metadata": {},
   "source": [
    "**Задание 07:** Найдите $10$ слов с самой высокой Document Frequency (количество смс, в которых слово встречается хотя бы раз):"
   ]
  },
  {
   "cell_type": "code",
   "execution_count": 10,
   "metadata": {},
   "outputs": [
    {
     "name": "stdout",
     "output_type": "stream",
     "text": [
      "+----+-----+\n",
      "|word|count|\n",
      "+----+-----+\n",
      "|  to| 1635|\n",
      "| you| 1220|\n",
      "|   I| 1128|\n",
      "|   a| 1103|\n",
      "| the|  967|\n",
      "|  in|  725|\n",
      "| and|  704|\n",
      "|  is|  662|\n",
      "|   i|  592|\n",
      "| for|  575|\n",
      "+----+-----+\n",
      "only showing top 10 rows\n",
      "\n"
     ]
    }
   ],
   "source": [
    "### YOUR CODE HERE\n",
    "counts_df = ...\n",
    "counts_df.show(10)"
   ]
  },
  {
   "cell_type": "markdown",
   "metadata": {},
   "source": [
    "**Задание 08:** Положим, что заданы две матрицы $A$, $B$ в координатном виде. Реализуйте перемножение матриц:"
   ]
  },
  {
   "cell_type": "code",
   "execution_count": 11,
   "metadata": {},
   "outputs": [
    {
     "name": "stderr",
     "output_type": "stream",
     "text": [
      "[Stage 15:======================================>                  (8 + 4) / 12]\r"
     ]
    },
    {
     "name": "stdout",
     "output_type": "stream",
     "text": [
      "+---+---+---+\n",
      "|  i|  j|  v|\n",
      "+---+---+---+\n",
      "|  0|  0|154|\n",
      "|  0|  1| 97|\n",
      "|  0|  2|163|\n",
      "|  0|  3|159|\n",
      "|  0|  4|  8|\n",
      "|  1|  0| 82|\n",
      "|  1|  1| 63|\n",
      "|  1|  2| 95|\n",
      "|  1|  3| 87|\n",
      "|  1|  4|  2|\n",
      "|  2|  0| 66|\n",
      "|  2|  1| 58|\n",
      "|  2|  2| 88|\n",
      "|  2|  3| 72|\n",
      "|  2|  4|  2|\n",
      "|  3|  0| 87|\n",
      "|  3|  1| 54|\n",
      "|  3|  2| 96|\n",
      "|  3|  3| 90|\n",
      "|  3|  4|  6|\n",
      "+---+---+---+\n",
      "\n"
     ]
    },
    {
     "name": "stderr",
     "output_type": "stream",
     "text": [
      "                                                                                \r"
     ]
    }
   ],
   "source": [
    "# 4 x 3\n",
    "A_data = [\n",
    "    (0, 0, 8), (0, 1, 5), (0, 2, 8),\n",
    "    (1, 0, 2), (1, 1, 5), (1, 2, 6),\n",
    "    (2, 0, 2), (2, 1, 6), (2, 2, 4),\n",
    "    (3, 0, 6), (3, 1, 3), (3, 2, 3),\n",
    "]\n",
    "\n",
    "# 3 x 5\n",
    "B_data = [\n",
    "    (0, 0, 9), (0, 1, 4), (0, 2, 9), (0, 3, 9), (0, 4, 1),\n",
    "    (1, 0, 2), (1, 1, 5), (1, 2, 7), (1, 3, 3), (1, 4, 0),\n",
    "    (2, 0, 9), (2, 1, 5), (2, 2, 7), (2, 3, 9), (2, 4, 0),\n",
    "]\n",
    "\n",
    "A = spark.createDataFrame(A_data, schema=['i', 'j', 'v'])\n",
    "B = spark.createDataFrame(B_data, schema=['i', 'j', 'v'])\n",
    "\n",
    "### YOUR CODE HERE\n",
    "C = ...\n",
    "C.show()"
   ]
  },
  {
   "cell_type": "markdown",
   "metadata": {},
   "source": [
    "**Задание 09**: Реализуйте перемножение тех же матриц, что и в 8 задании, но используя `spark.sql`:"
   ]
  },
  {
   "cell_type": "code",
   "execution_count": null,
   "metadata": {},
   "outputs": [
    {
     "name": "stdout",
     "output_type": "stream",
     "text": [
      "+---+---+---+\n",
      "|  i|  j|  v|\n",
      "+---+---+---+\n",
      "|  0|  0|154|\n",
      "|  0|  1| 97|\n",
      "|  0|  2|163|\n",
      "|  0|  3|159|\n",
      "|  0|  4|  8|\n",
      "|  1|  0| 82|\n",
      "|  1|  1| 63|\n",
      "|  1|  2| 95|\n",
      "|  1|  3| 87|\n",
      "|  1|  4|  2|\n",
      "|  2|  0| 66|\n",
      "|  2|  1| 58|\n",
      "|  2|  2| 88|\n",
      "|  2|  3| 72|\n",
      "|  2|  4|  2|\n",
      "|  3|  0| 87|\n",
      "|  3|  1| 54|\n",
      "|  3|  2| 96|\n",
      "|  3|  3| 90|\n",
      "|  3|  4|  6|\n",
      "+---+---+---+\n",
      "\n"
     ]
    }
   ],
   "source": [
    "### YOUR CODE HERE\n",
    "..."
   ]
  }
 ],
 "metadata": {
  "kernelspec": {
   "display_name": "Python 3 (ipykernel)",
   "language": "python",
   "name": "python3"
  },
  "language_info": {
   "codemirror_mode": {
    "name": "ipython",
    "version": 3
   },
   "file_extension": ".py",
   "mimetype": "text/x-python",
   "name": "python",
   "nbconvert_exporter": "python",
   "pygments_lexer": "ipython3",
   "version": "3.10.0"
  },
  "toc": {
   "base_numbering": 1,
   "nav_menu": {},
   "number_sections": false,
   "sideBar": true,
   "skip_h1_title": false,
   "title_cell": "Table of Contents",
   "title_sidebar": "Contents",
   "toc_cell": false,
   "toc_position": {},
   "toc_section_display": true,
   "toc_window_display": false
  },
  "vscode": {
   "interpreter": {
    "hash": "aee8b7b246df8f9039afb4144a1f6fd8d2ca17a180786b69acc140d282b71a49"
   }
  }
 },
 "nbformat": 4,
 "nbformat_minor": 4
}

{
  "cells": [
    {
      "cell_type": "markdown",
      "metadata": {
        "id": "8b1g45EhB9pn"
      },
      "source": [
        "# Шаги mapreduce для карт\n",
        "Предварительные наброски кода.\n",
        "\n",
        "- Deck – колода\n",
        "- Suit – масть\n",
        "- Hearts – червы\n",
        "- Diamonds – бубны\n",
        "- Clubs – трефы\n",
        "- Spades – пики\n",
        "- Jack – валет\n",
        "- Queen – дама\n",
        "- King – король\n",
        "- Ace – туз\n",
        "- Joker – джокер"
      ]
    },
    {
      "cell_type": "code",
      "source": [
        "!head cards.csv"
      ],
      "metadata": {
        "colab": {
          "base_uri": "https://localhost:8080/"
        },
        "id": "LuFNRT5BC1l1",
        "outputId": "b0e7dc51-96be-4276-ad00-d8a5d6c532cc"
      },
      "execution_count": 1,
      "outputs": [
        {
          "output_type": "stream",
          "name": "stdout",
          "text": [
            "червы,4\n",
            "пики,4\n",
            "червы,10\n",
            "бубны,10\n",
            "червы,5\n",
            "пики,9\n",
            "трефы,дама\n",
            "червы,3\n",
            "трефы,6\n",
            "пики,5\n"
          ]
        }
      ]
    },
    {
      "cell_type": "markdown",
      "metadata": {
        "id": "RFLa6RuLB9po"
      },
      "source": [
        "## Map\n",
        "Запишем поток строк в более удобном виде и оставим все значения больше шестерки."
      ]
    },
    {
      "cell_type": "code",
      "execution_count": 2,
      "metadata": {
        "colab": {
          "base_uri": "https://localhost:8080/"
        },
        "id": "hqFEMwqfB9pp",
        "outputId": "5d22946d-9289-4f8d-8234-fddd9b6ff432"
      },
      "outputs": [
        {
          "output_type": "stream",
          "name": "stdout",
          "text": [
            "червы 4\n",
            "пики 4\n",
            "червы 10\n",
            "бубны 10\n",
            "червы 5\n",
            "пики 9\n",
            "трефы дама\n"
          ]
        }
      ],
      "source": [
        "with open('cards.csv') as f:\n",
        "    for i, line in enumerate(f): # enumerate() – возвращает номер строки и ее значение\n",
        "        suit, value = line.strip().split(',') # Масть и значение на карте\n",
        "        print(suit, value)\n",
        "\n",
        "        if i > 5:\n",
        "            break"
      ]
    },
    {
      "cell_type": "code",
      "execution_count": 3,
      "metadata": {
        "id": "Bb47IjEHB9pp"
      },
      "outputs": [],
      "source": [
        "SUITES = {\n",
        "    'червы': 'H',\n",
        "    'пики': 'S',\n",
        "    'бубны': 'D',\n",
        "    'трефы': 'C',\n",
        "}\n",
        "\n",
        "VALUES = {\n",
        "    'валет': 'J',\n",
        "    'дама': 'Q',\n",
        "    'король': 'K',\n",
        "    'туз': 'A',\n",
        "}"
      ]
    },
    {
      "cell_type": "code",
      "execution_count": 4,
      "metadata": {
        "colab": {
          "base_uri": "https://localhost:8080/"
        },
        "id": "rh-YWjJvB9pq",
        "outputId": "59b38310-9a57-4720-cab9-166a91552608"
      },
      "outputs": [
        {
          "output_type": "stream",
          "name": "stdout",
          "text": [
            "H,4,1\n",
            "S,4,1\n",
            "H,10,1\n",
            "D,10,1\n",
            "H,5,1\n",
            "S,9,1\n",
            "C,Q,1\n"
          ]
        }
      ],
      "source": [
        "with open('cards.csv') as f:\n",
        "    for i, line in enumerate(f):\n",
        "        suit, value = line.strip().split(',') # Масть и значение на карте\n",
        "\n",
        "        suit = SUITES[suit] # Заменяет масть на укороченное обозначение масти в SUITES\n",
        "\n",
        "        if value in VALUES:\n",
        "            value = VALUES[value] # Заменяет значение карты на укороченное обозначение карты в VALUES (только для тестовых значений)\n",
        "\n",
        "        print(f'{suit},{value},1')\n",
        "\n",
        "        if i > 5:\n",
        "            break"
      ]
    },
    {
      "cell_type": "code",
      "execution_count": 5,
      "metadata": {
        "id": "xWuYdWaRB9pq"
      },
      "outputs": [],
      "source": [
        "with open('cards_after_mapper.csv', 'w') as f_mapper:\n",
        "    with open('cards.csv') as f:\n",
        "        for i, line in enumerate(f):\n",
        "            suit, value = line.strip().split(',')\n",
        "\n",
        "            suit = SUITES[suit]\n",
        "\n",
        "            if value in VALUES:\n",
        "                value = VALUES[value]\n",
        "\n",
        "            if value.isdigit() and int(value) >= 6: # isdigit() – возвращает True, если это число, иначе False\n",
        "                f_mapper.write(f'{suit},{value},1\\n')"
      ]
    },
    {
      "cell_type": "markdown",
      "metadata": {
        "id": "CozEubyiB9pq"
      },
      "source": [
        "## Shuffle\n",
        "```\n",
        "cat cards_after_mapper.csv | sort > cards_sorted.csv\n",
        "```"
      ]
    },
    {
      "cell_type": "code",
      "source": [
        "!cat cards_after_mapper.csv | sort > cards_sorted.csv"
      ],
      "metadata": {
        "id": "UYY_M_ngDLpU"
      },
      "execution_count": 7,
      "outputs": []
    },
    {
      "cell_type": "markdown",
      "metadata": {
        "id": "q4OC2pvZB9pq"
      },
      "source": [
        "## Reduce\n",
        "Сначала посчитаем количество мастей карт"
      ]
    },
    {
      "cell_type": "code",
      "execution_count": 8,
      "metadata": {
        "colab": {
          "base_uri": "https://localhost:8080/"
        },
        "id": "nE4emS_sB9pq",
        "outputId": "a1ec57e6-4315-4cbc-8bee-15168b891bcf"
      },
      "outputs": [
        {
          "output_type": "stream",
          "name": "stdout",
          "text": [
            "C 10 1\n",
            "C 10 1\n",
            "C 10 1\n",
            "C 10 1\n",
            "C 10 1\n",
            "C 10 1\n",
            "C 10 1\n"
          ]
        }
      ],
      "source": [
        "with open('cards_sorted.csv') as f:\n",
        "    for i, line in enumerate(f):\n",
        "        suit, value, one = line.strip().split(',')\n",
        "        print(suit, value, one)\n",
        "\n",
        "        if i > 5:\n",
        "            break"
      ]
    },
    {
      "cell_type": "code",
      "execution_count": 9,
      "metadata": {
        "scrolled": true,
        "colab": {
          "base_uri": "https://localhost:8080/"
        },
        "id": "q1INz76sB9pq",
        "outputId": "8914ed5a-d334-493b-81ac-ea3f412710a7"
      },
      "outputs": [
        {
          "output_type": "stream",
          "name": "stdout",
          "text": [
            "C 8990\n",
            "D 8918\n",
            "H 8920\n",
            "S 8929\n"
          ]
        }
      ],
      "source": [
        "previous_suit = None # Прошлая масть\n",
        "suit_count = 0 # Количество карт с рассматриваемой мастью\n",
        "\n",
        "with open('cards_sorted.csv') as f:\n",
        "    for i, line in enumerate(f):\n",
        "        suit, value, one = line.strip().split(',')\n",
        "        one = int(one)\n",
        "\n",
        "        if previous_suit:\n",
        "            if previous_suit == suit:\n",
        "                suit_count += one\n",
        "            else:\n",
        "                print(previous_suit, suit_count)\n",
        "                suit_count = one\n",
        "                previous_suit = suit\n",
        "        else:\n",
        "            previous_suit = suit\n",
        "            suit_count = one\n",
        "\n",
        "print(previous_suit, suit_count)"
      ]
    },
    {
      "cell_type": "markdown",
      "metadata": {
        "id": "aM3HmmwsB9pr"
      },
      "source": [
        "## Reduce v2\n",
        "Посчитаем статистику для пар масть + значение"
      ]
    },
    {
      "cell_type": "code",
      "execution_count": 11,
      "metadata": {
        "colab": {
          "base_uri": "https://localhost:8080/"
        },
        "id": "qD6hB5baB9pr",
        "outputId": "64e8b3d1-b9d8-48a6-9e94-1ddc0675b7cb"
      },
      "outputs": [
        {
          "output_type": "stream",
          "name": "stdout",
          "text": [
            "C 10 1834\n",
            "C 6 1763\n",
            "C 7 1806\n",
            "C 8 1779\n",
            "C 9 1808\n",
            "D 10 1847\n",
            "D 6 1743\n",
            "D 7 1756\n",
            "D 8 1769\n",
            "D 9 1803\n",
            "H 10 1816\n",
            "H 6 1739\n",
            "H 7 1811\n",
            "H 8 1739\n",
            "H 9 1815\n",
            "S 10 1749\n",
            "S 6 1803\n",
            "S 7 1795\n",
            "S 8 1764\n",
            "S 9 1818\n"
          ]
        }
      ],
      "source": [
        "previous_suit = None\n",
        "previous_value = None\n",
        "\n",
        "count = 0\n",
        "\n",
        "with open('cards_sorted.csv') as f:\n",
        "    for i, line in enumerate(f):\n",
        "        suit, value, one = line.strip().split(',')\n",
        "        one = int(one)\n",
        "\n",
        "        if previous_suit:\n",
        "            if previous_suit == suit and previous_value == value:\n",
        "                count += one\n",
        "            else:\n",
        "                print(previous_suit, previous_value, count)\n",
        "\n",
        "                previous_suit = suit\n",
        "                previous_value = value\n",
        "                count = one\n",
        "\n",
        "        else:\n",
        "            previous_suit = suit\n",
        "            previous_value = value\n",
        "            count = one\n",
        "\n",
        "print(previous_suit, previous_value, count)"
      ]
    },
    {
      "cell_type": "code",
      "source": [],
      "metadata": {
        "id": "cGKqJrzoDZPC"
      },
      "execution_count": null,
      "outputs": []
    }
  ],
  "metadata": {
    "kernelspec": {
      "display_name": "Python 3",
      "language": "python",
      "name": "python3"
    },
    "language_info": {
      "codemirror_mode": {
        "name": "ipython",
        "version": 3
      },
      "file_extension": ".py",
      "mimetype": "text/x-python",
      "name": "python",
      "nbconvert_exporter": "python",
      "pygments_lexer": "ipython3",
      "version": "3.7.0"
    },
    "colab": {
      "provenance": []
    }
  },
  "nbformat": 4,
  "nbformat_minor": 0
}